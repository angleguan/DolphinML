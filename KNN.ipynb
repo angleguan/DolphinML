{
 "cells": [
  {
   "cell_type": "code",
   "execution_count": 3,
   "metadata": {
    "ExecuteTime": {
     "end_time": "2017-12-05T14:36:04.036969",
     "start_time": "2017-12-05T14:36:03.961083"
    },
    "collapsed": true
   },
   "outputs": [],
   "source": [
    "import numpy as np"
   ]
  },
  {
   "cell_type": "code",
   "execution_count": 24,
   "metadata": {
    "ExecuteTime": {
     "end_time": "2017-12-05T14:43:27.927941",
     "start_time": "2017-12-05T14:43:27.904383"
    },
    "collapsed": true
   },
   "outputs": [],
   "source": [
    "class Knn():\n",
    "    def __init__(self,**kwargs):\n",
    "        '''\n",
    "        topK : Use top K nearest train samples 's label. to get the most frequency label.\n",
    "        '''\n",
    "        self.topK = kwargs.get('topK')\n",
    "        \n",
    "    def train(self,train_X,train_y):\n",
    "        '''\n",
    "        Knn 没有显式的训练过程\n",
    "        '''\n",
    "        self.train_X = train_X\n",
    "        self.train_y = train_y\n",
    "        self.len_train = self.train_X.shape[0]\n",
    "        \n",
    "        \n",
    "    def predict(self,test_X):\n",
    "        self.len_test = test_X.shape[0]\n",
    "        train_X2 = np.tile(self.train_X,(self.len_test,1))\n",
    "        test_X2 = np.repeat(test_X,self.len_train,axis=0)\n",
    "        C1 = test_X2-train_X2\n",
    "        D1 = (C1**2).sum(axis=1)**0.5\n",
    "        D2 = D1.reshape((self.len_test,self.len_train))\n",
    "        D3 = D2.argsort(axis=1)[:,:self.topK]\n",
    "        D4 = self.train_y[D3]\n",
    "        return np.array([max(zip(*np.unique(x,return_counts=True)),key=lambda x:x[1])[0] for x in D4])\n",
    "        \n",
    "        \n",
    "        \n",
    "        \n",
    "        \n",
    "        \n",
    "\n",
    "k = Knn(topK=4)"
   ]
  },
  {
   "cell_type": "markdown",
   "metadata": {},
   "source": [
    "-------------------------------------------------------\n",
    "- #### 9行代码就实现了Knn算法当然是最简版的，这个算法是我手写的，\n",
    "- #### 中间经历了很多次的重构，刚开始代码非常臃肿，并且有一个对Numpy 的错误认识导致的错误\n",
    "- Numpy做数值计算真的不错不错，\n",
    "- 本算法只能用来做数值型距离计算，如果是非数值距离（如MDV距离)那么还要其他地方来实现，其实可以单独做一个功能，因为在聚类算法中也要有这样的计算\n",
    "- 我的算法非常简洁，我觉得应该是很简洁了"
   ]
  },
  {
   "cell_type": "markdown",
   "metadata": {
    "ExecuteTime": {
     "end_time": "2017-12-05T13:44:19.052043",
     "start_time": "2017-12-05T13:44:19.047459"
    }
   },
   "source": [
    "## 测试1"
   ]
  },
  {
   "cell_type": "code",
   "execution_count": 11,
   "metadata": {
    "ExecuteTime": {
     "end_time": "2017-12-05T13:46:31.245323",
     "start_time": "2017-12-05T13:46:31.239600"
    },
    "collapsed": true
   },
   "outputs": [],
   "source": [
    "if __name__ == '__main__':\n",
    "    train_X = np.array([[1,2,3,5],[5,6,7,1],[9,4,-7,5],[5,6,44,3],[93,4,-7,51]])\n",
    "    train_y = np.array(['Y','N','Y','N','N'])\n",
    "    test_X = np.array([[3,5,6,7],[3,90,2,6]])\n",
    "\n",
    "    k.train(train_X,train_y)\n",
    "    k.predict(test_X)"
   ]
  },
  {
   "cell_type": "markdown",
   "metadata": {},
   "source": [
    "## 测试2"
   ]
  },
  {
   "cell_type": "code",
   "execution_count": 10,
   "metadata": {
    "ExecuteTime": {
     "end_time": "2017-12-05T13:46:29.191237",
     "start_time": "2017-12-05T13:46:29.175771"
    },
    "collapsed": false
   },
   "outputs": [],
   "source": [
    "if __name__ == '__main__':\n",
    "\n",
    "    k = Knn(topK=1)\n",
    "    k.train(np.array([[0,0],[1,1],[9,10]]),np.array(['A','A','B']))\n",
    "    k.predict(np.array([[0,1],[9,9],[3,3]]))"
   ]
  },
  {
   "cell_type": "markdown",
   "metadata": {},
   "source": [
    "## 测试3"
   ]
  },
  {
   "cell_type": "code",
   "execution_count": 30,
   "metadata": {
    "ExecuteTime": {
     "end_time": "2017-12-05T15:04:24.817387",
     "start_time": "2017-12-05T15:04:24.765101"
    },
    "collapsed": false
   },
   "outputs": [],
   "source": [
    "if __name__ == '__main__':\n",
    "    Int = {'largeDoses':3,'smallDoses':2,'didntLike':1}\n",
    "    def file2matrix(filename):\n",
    "        fr = open(filename)\n",
    "        numberOfLines = len(fr.readlines())         #get the number of lines in the file\n",
    "        returnMat = np.zeros((numberOfLines,3))        #prepare matrix to return\n",
    "        classLabelVector = []                       #prepare labels return   \n",
    "        fr = open(filename)\n",
    "        index = 0\n",
    "        for line in fr.readlines():\n",
    "            line = line.strip()\n",
    "            listFromLine = line.split('\\t')\n",
    "            returnMat[index,:] = listFromLine[0:3]\n",
    "            classLabelVector.append(Int[listFromLine[-1]])\n",
    "            index += 1\n",
    "        return returnMat,classLabelVector\n",
    "\n",
    "    def autoNorm(dataSet):\n",
    "        minvals = dataSet.min(0)\n",
    "        maxvals = dataSet.max(0)\n",
    "        ranges = maxvals - minvals\n",
    "        normDataSet = np.zeros(np.shape(dataSet))\n",
    "        m =  dataSet.shape[0]\n",
    "        normDataSet = dataSet - np.tile(minvals,(m,1))\n",
    "        normDataSet = normDataSet/np.tile(ranges, (m,1))\n",
    "        return normDataSet , ranges,minvals\n",
    "    datingDatMat,datingLabels = file2matrix('../datingTestSet.txt')\n",
    "    normMat,ranges ,minvals = autoNorm(datingDatMat)\n",
    "\n",
    "    k = Knn(topK=4)\n",
    "    k.train(normMat[300:],np.array(datingLabels[300:]))\n",
    "    ret = k.predict(normMat[:300])"
   ]
  },
  {
   "cell_type": "code",
   "execution_count": null,
   "metadata": {
    "collapsed": true
   },
   "outputs": [],
   "source": []
  }
 ],
 "metadata": {
  "kernelspec": {
   "display_name": "Python 3",
   "language": "python",
   "name": "python3"
  },
  "language_info": {
   "codemirror_mode": {
    "name": "ipython",
    "version": 3
   },
   "file_extension": ".py",
   "mimetype": "text/x-python",
   "name": "python",
   "nbconvert_exporter": "python",
   "pygments_lexer": "ipython3",
   "version": "3.5.2"
  },
  "toc": {
   "colors": {
    "hover_highlight": "#DAA520",
    "running_highlight": "#FF0000",
    "selected_highlight": "#FFD700"
   },
   "moveMenuLeft": true,
   "nav_menu": {
    "height": "11px",
    "width": "251px"
   },
   "navigate_menu": true,
   "number_sections": true,
   "sideBar": true,
   "threshold": 4,
   "toc_cell": false,
   "toc_section_display": "block",
   "toc_window_display": false
  }
 },
 "nbformat": 4,
 "nbformat_minor": 2
}
