{
 "cells": [
  {
   "cell_type": "markdown",
   "metadata": {
    "toc": "true"
   },
   "source": [
    "# Table of Contents\n",
    " <p>"
   ]
  },
  {
   "cell_type": "code",
   "execution_count": 150,
   "metadata": {
    "ExecuteTime": {
     "end_time": "2018-02-26T13:55:13.523077",
     "start_time": "2018-02-26T13:55:13.520964"
    },
    "collapsed": true
   },
   "outputs": [],
   "source": [
    "import random\n",
    "import numpy as np\n",
    "from itertools import combinations"
   ]
  },
  {
   "cell_type": "code",
   "execution_count": null,
   "metadata": {
    "collapsed": true
   },
   "outputs": [],
   "source": []
  },
  {
   "cell_type": "code",
   "execution_count": 105,
   "metadata": {
    "ExecuteTime": {
     "end_time": "2018-02-26T13:39:24.859116",
     "start_time": "2018-02-26T13:39:24.856161"
    },
    "collapsed": false
   },
   "outputs": [
    {
     "data": {
      "text/plain": [
       "2"
      ]
     },
     "execution_count": 105,
     "metadata": {},
     "output_type": "execute_result"
    }
   ],
   "source": [
    "random.randint(1,5)"
   ]
  },
  {
   "cell_type": "code",
   "execution_count": 106,
   "metadata": {
    "ExecuteTime": {
     "end_time": "2018-02-26T13:39:25.689736",
     "start_time": "2018-02-26T13:39:25.686673"
    },
    "collapsed": false
   },
   "outputs": [],
   "source": [
    "data_set = []\n",
    "for i in range(100):\n",
    "    data_set.append(random.sample(range(100),random.randint(1,5)))"
   ]
  },
  {
   "cell_type": "code",
   "execution_count": 107,
   "metadata": {
    "ExecuteTime": {
     "end_time": "2018-02-26T13:39:26.328082",
     "start_time": "2018-02-26T13:39:26.320670"
    },
    "collapsed": false
   },
   "outputs": [],
   "source": [
    "for a in range(3):\n",
    "    data_setnew =  []\n",
    "    for i in data_set:\n",
    "        box = []\n",
    "        for j in i:\n",
    "            box.append(j)\n",
    "            if (j%10)<5:\n",
    "                box.append(j+1)\n",
    "        data_setnew.append(box)\n",
    "    data_set = data_setnew"
   ]
  },
  {
   "cell_type": "code",
   "execution_count": 153,
   "metadata": {
    "ExecuteTime": {
     "end_time": "2018-02-26T13:58:28.102139",
     "start_time": "2018-02-26T13:58:28.098518"
    },
    "collapsed": false,
    "scrolled": true
   },
   "outputs": [],
   "source": [
    "raw_data = [set(i) for i in data_set]"
   ]
  },
  {
   "cell_type": "code",
   "execution_count": 154,
   "metadata": {
    "ExecuteTime": {
     "end_time": "2018-02-26T13:58:33.355219",
     "start_time": "2018-02-26T13:58:33.345046"
    },
    "collapsed": false,
    "scrolled": true
   },
   "outputs": [
    {
     "data": {
      "text/plain": [
       "[{97},\n",
       " {77},\n",
       " {18, 41, 42, 43, 44},\n",
       " {0, 1, 2, 3, 21, 22, 23, 24},\n",
       " {23, 24, 25, 46, 65, 73, 74, 75, 89},\n",
       " {40, 41, 42, 43, 97, 99},\n",
       " {14, 15, 18, 34, 35},\n",
       " {21, 22, 23, 24},\n",
       " {30, 31, 32, 33, 49, 68, 70, 71, 72, 73, 81, 82, 83, 84},\n",
       " {33, 34, 35, 55},\n",
       " {19},\n",
       " {25, 26, 90, 91, 92, 93},\n",
       " {33, 34, 35, 63, 64, 65, 76},\n",
       " {35, 66, 69, 91, 92, 93, 94, 98},\n",
       " {80, 81, 82, 83, 90, 91, 92, 93},\n",
       " {2, 3, 4, 5, 76, 82, 83, 84, 85},\n",
       " {18, 77, 94, 95, 97},\n",
       " {3, 4, 5, 40, 41, 42, 43, 71, 72, 73, 74},\n",
       " {78, 81, 82, 83, 84},\n",
       " {51, 52, 53, 54, 82, 83, 84, 85},\n",
       " {40, 41, 42, 43, 46, 58, 62, 63, 64, 65},\n",
       " {14, 15},\n",
       " {16, 26, 76, 82, 83, 84, 85, 87},\n",
       " {11, 12, 13, 14, 18, 19, 23, 24, 25, 31, 32, 33, 34},\n",
       " {33, 34, 35},\n",
       " {11, 12, 13, 14, 15, 20, 21, 22, 23},\n",
       " {26, 47, 62, 63, 64, 65, 70, 71, 72, 73, 82, 83, 84, 85},\n",
       " {63, 64, 65},\n",
       " {3, 4, 5, 40, 41, 42, 43, 57},\n",
       " {51, 52, 53, 54, 68, 89, 93, 94, 95},\n",
       " {1, 2, 3, 4},\n",
       " {59},\n",
       " {0, 1, 2, 3, 4, 36},\n",
       " {2, 3, 4, 5, 26, 28, 51, 52, 53, 54, 67},\n",
       " {12, 13, 14, 15, 59, 93, 94, 95},\n",
       " {20, 21, 22, 23, 48, 79, 92, 93, 94, 95},\n",
       " {18, 42, 43, 44, 45, 51, 52, 53, 54, 60, 61, 62, 63},\n",
       " {30, 31, 32, 33},\n",
       " {10, 11, 12, 13, 14, 15},\n",
       " {50, 51, 52, 53, 75, 91, 92, 93, 94},\n",
       " {57},\n",
       " {11, 12, 13, 14},\n",
       " {4, 5},\n",
       " {86},\n",
       " {18, 24, 25, 40, 41, 42, 43},\n",
       " {53, 54, 55},\n",
       " {30, 31, 32, 33, 45, 47, 80, 81, 82, 83},\n",
       " {49},\n",
       " {1, 2, 3, 4, 25, 81, 82, 83, 84, 86},\n",
       " {40, 41, 42, 43, 59, 89, 92, 93, 94, 95},\n",
       " {21, 22, 23, 24, 41, 42, 43, 44, 74, 75, 78, 79},\n",
       " {0, 1, 2, 3, 18, 21, 22, 23, 24, 46, 85},\n",
       " {82, 83, 84, 85},\n",
       " {17, 37, 66, 69, 92, 93, 94, 95},\n",
       " {15, 16, 50, 51, 52, 53, 54, 55},\n",
       " {44, 45, 84, 85, 89},\n",
       " {3, 4, 5, 35, 38, 73, 74, 75},\n",
       " {3, 4, 5, 40, 41, 42, 43, 45, 88},\n",
       " {4, 5, 12, 13, 14, 15, 39, 43, 44, 45, 65},\n",
       " {18},\n",
       " {28, 29, 99},\n",
       " {5, 64, 65, 86},\n",
       " {16, 36, 54, 55, 59, 79},\n",
       " {1, 2, 3, 4, 24, 25, 97},\n",
       " {10, 11, 12, 13, 74, 75, 77},\n",
       " {8},\n",
       " {8, 99},\n",
       " {36},\n",
       " {38, 61, 62, 63, 64},\n",
       " {9, 12, 13, 14, 15},\n",
       " {8, 30, 31, 32, 33, 67, 90, 91, 92, 93},\n",
       " {44, 45, 46, 47, 75, 79},\n",
       " {99},\n",
       " {12, 13, 14, 15, 20, 21, 22, 23, 33, 34, 35, 51, 52, 53, 54},\n",
       " {36, 50, 51, 52, 53, 56, 82, 83, 84, 85},\n",
       " {8, 11, 12, 13, 14, 43, 44, 45},\n",
       " {3, 4, 5, 52, 53, 54, 55, 59},\n",
       " {33, 34, 35, 92, 93, 94, 95, 96},\n",
       " {11, 12, 13, 14, 15, 25, 26, 63, 64, 65},\n",
       " {77},\n",
       " {54, 55},\n",
       " {39, 69},\n",
       " {6, 66, 86},\n",
       " {60, 61, 62, 63, 74, 75},\n",
       " {9, 12, 13, 14, 15, 48, 52, 53, 54, 55, 65},\n",
       " {39, 44, 45, 57, 91, 92, 93, 94},\n",
       " {0, 1, 2, 3, 14, 15, 57},\n",
       " {55, 79},\n",
       " {7, 28, 36, 73, 74, 75},\n",
       " {2, 3, 4, 5, 7, 9, 52, 53, 54, 55},\n",
       " {27, 76},\n",
       " {3, 4, 5, 6, 31, 32, 33, 34, 46, 60, 61, 62, 63},\n",
       " {48},\n",
       " {33, 34, 35, 56, 96},\n",
       " {62, 63, 64, 65},\n",
       " {61, 62, 63, 64},\n",
       " {9, 59},\n",
       " {27, 34, 35, 97},\n",
       " {13, 14, 15},\n",
       " {35}]"
      ]
     },
     "execution_count": 154,
     "metadata": {},
     "output_type": "execute_result"
    }
   ],
   "source": [
    "raw_data"
   ]
  },
  {
   "cell_type": "code",
   "execution_count": 110,
   "metadata": {
    "ExecuteTime": {
     "end_time": "2018-02-26T13:42:50.700554",
     "start_time": "2018-02-26T13:42:50.695482"
    },
    "collapsed": true
   },
   "outputs": [],
   "source": [
    "from collections import defaultdict"
   ]
  },
  {
   "cell_type": "code",
   "execution_count": 111,
   "metadata": {
    "ExecuteTime": {
     "end_time": "2018-02-26T13:42:59.529728",
     "start_time": "2018-02-26T13:42:59.523943"
    },
    "collapsed": true
   },
   "outputs": [],
   "source": [
    "item_num_dict = defaultdict(int)"
   ]
  },
  {
   "cell_type": "code",
   "execution_count": 112,
   "metadata": {
    "ExecuteTime": {
     "end_time": "2018-02-26T13:47:26.861871",
     "start_time": "2018-02-26T13:47:26.858947"
    },
    "collapsed": true
   },
   "outputs": [],
   "source": [
    "from collections import Iterable"
   ]
  },
  {
   "cell_type": "code",
   "execution_count": 173,
   "metadata": {
    "ExecuteTime": {
     "end_time": "2018-02-26T14:16:32.897049",
     "start_time": "2018-02-26T14:16:32.892849"
    },
    "collapsed": false
   },
   "outputs": [],
   "source": [
    "def flattern(items,ignore_type=(tuple,)):\n",
    "    for x in items:\n",
    "        if isinstance(x, Iterable) and not isinstance(x,ignore_type):\n",
    "            yield from flattern(x)\n",
    "        else:\n",
    "            yield x"
   ]
  },
  {
   "cell_type": "code",
   "execution_count": 125,
   "metadata": {
    "ExecuteTime": {
     "end_time": "2018-02-26T13:52:10.883964",
     "start_time": "2018-02-26T13:52:10.880600"
    },
    "collapsed": false
   },
   "outputs": [],
   "source": [
    "dtarray = np.array(list(flattern(raw_data)))\n",
    "nums,num_cnts = np.unique(dtarray,return_counts=True)"
   ]
  },
  {
   "cell_type": "code",
   "execution_count": 177,
   "metadata": {
    "ExecuteTime": {
     "end_time": "2018-02-26T14:17:43.564046",
     "start_time": "2018-02-26T14:17:43.561892"
    },
    "collapsed": true
   },
   "outputs": [],
   "source": [
    "all_set=np.array(list(flattern(data_use,)))"
   ]
  },
  {
   "cell_type": "code",
   "execution_count": 209,
   "metadata": {
    "ExecuteTime": {
     "end_time": "2018-02-26T14:38:33.231604",
     "start_time": "2018-02-26T14:38:33.228456"
    },
    "collapsed": true
   },
   "outputs": [],
   "source": [
    "raw_data = [set(i) for i in data_set]\n",
    "len_data = len(raw_data)"
   ]
  },
  {
   "cell_type": "code",
   "execution_count": 211,
   "metadata": {
    "ExecuteTime": {
     "end_time": "2018-02-26T14:38:53.534490",
     "start_time": "2018-02-26T14:38:53.531458"
    },
    "collapsed": false
   },
   "outputs": [
    {
     "data": {
      "text/plain": [
       "False"
      ]
     },
     "execution_count": 211,
     "metadata": {},
     "output_type": "execute_result"
    }
   ],
   "source": []
  },
  {
   "cell_type": "code",
   "execution_count": 210,
   "metadata": {
    "ExecuteTime": {
     "end_time": "2018-02-26T14:38:38.195330",
     "start_time": "2018-02-26T14:38:38.181147"
    },
    "collapsed": false,
    "scrolled": true
   },
   "outputs": [
    {
     "data": {
      "text/plain": [
       "[{97},\n",
       " {77},\n",
       " {18, 41, 42, 43, 44},\n",
       " {0, 1, 2, 3, 21, 22, 23, 24},\n",
       " {23, 24, 25, 46, 65, 73, 74, 75, 89},\n",
       " {40, 41, 42, 43, 97, 99},\n",
       " {14, 15, 18, 34, 35},\n",
       " {21, 22, 23, 24},\n",
       " {30, 31, 32, 33, 49, 68, 70, 71, 72, 73, 81, 82, 83, 84},\n",
       " {33, 34, 35, 55},\n",
       " {19},\n",
       " {25, 26, 90, 91, 92, 93},\n",
       " {33, 34, 35, 63, 64, 65, 76},\n",
       " {35, 66, 69, 91, 92, 93, 94, 98},\n",
       " {80, 81, 82, 83, 90, 91, 92, 93},\n",
       " {2, 3, 4, 5, 76, 82, 83, 84, 85},\n",
       " {18, 77, 94, 95, 97},\n",
       " {3, 4, 5, 40, 41, 42, 43, 71, 72, 73, 74},\n",
       " {78, 81, 82, 83, 84},\n",
       " {51, 52, 53, 54, 82, 83, 84, 85},\n",
       " {40, 41, 42, 43, 46, 58, 62, 63, 64, 65},\n",
       " {14, 15},\n",
       " {16, 26, 76, 82, 83, 84, 85, 87},\n",
       " {11, 12, 13, 14, 18, 19, 23, 24, 25, 31, 32, 33, 34},\n",
       " {33, 34, 35},\n",
       " {11, 12, 13, 14, 15, 20, 21, 22, 23},\n",
       " {26, 47, 62, 63, 64, 65, 70, 71, 72, 73, 82, 83, 84, 85},\n",
       " {63, 64, 65},\n",
       " {3, 4, 5, 40, 41, 42, 43, 57},\n",
       " {51, 52, 53, 54, 68, 89, 93, 94, 95},\n",
       " {1, 2, 3, 4},\n",
       " {59},\n",
       " {0, 1, 2, 3, 4, 36},\n",
       " {2, 3, 4, 5, 26, 28, 51, 52, 53, 54, 67},\n",
       " {12, 13, 14, 15, 59, 93, 94, 95},\n",
       " {20, 21, 22, 23, 48, 79, 92, 93, 94, 95},\n",
       " {18, 42, 43, 44, 45, 51, 52, 53, 54, 60, 61, 62, 63},\n",
       " {30, 31, 32, 33},\n",
       " {10, 11, 12, 13, 14, 15},\n",
       " {50, 51, 52, 53, 75, 91, 92, 93, 94},\n",
       " {57},\n",
       " {11, 12, 13, 14},\n",
       " {4, 5},\n",
       " {86},\n",
       " {18, 24, 25, 40, 41, 42, 43},\n",
       " {53, 54, 55},\n",
       " {30, 31, 32, 33, 45, 47, 80, 81, 82, 83},\n",
       " {49},\n",
       " {1, 2, 3, 4, 25, 81, 82, 83, 84, 86},\n",
       " {40, 41, 42, 43, 59, 89, 92, 93, 94, 95},\n",
       " {21, 22, 23, 24, 41, 42, 43, 44, 74, 75, 78, 79},\n",
       " {0, 1, 2, 3, 18, 21, 22, 23, 24, 46, 85},\n",
       " {82, 83, 84, 85},\n",
       " {17, 37, 66, 69, 92, 93, 94, 95},\n",
       " {15, 16, 50, 51, 52, 53, 54, 55},\n",
       " {44, 45, 84, 85, 89},\n",
       " {3, 4, 5, 35, 38, 73, 74, 75},\n",
       " {3, 4, 5, 40, 41, 42, 43, 45, 88},\n",
       " {4, 5, 12, 13, 14, 15, 39, 43, 44, 45, 65},\n",
       " {18},\n",
       " {28, 29, 99},\n",
       " {5, 64, 65, 86},\n",
       " {16, 36, 54, 55, 59, 79},\n",
       " {1, 2, 3, 4, 24, 25, 97},\n",
       " {10, 11, 12, 13, 74, 75, 77},\n",
       " {8},\n",
       " {8, 99},\n",
       " {36},\n",
       " {38, 61, 62, 63, 64},\n",
       " {9, 12, 13, 14, 15},\n",
       " {8, 30, 31, 32, 33, 67, 90, 91, 92, 93},\n",
       " {44, 45, 46, 47, 75, 79},\n",
       " {99},\n",
       " {12, 13, 14, 15, 20, 21, 22, 23, 33, 34, 35, 51, 52, 53, 54},\n",
       " {36, 50, 51, 52, 53, 56, 82, 83, 84, 85},\n",
       " {8, 11, 12, 13, 14, 43, 44, 45},\n",
       " {3, 4, 5, 52, 53, 54, 55, 59},\n",
       " {33, 34, 35, 92, 93, 94, 95, 96},\n",
       " {11, 12, 13, 14, 15, 25, 26, 63, 64, 65},\n",
       " {77},\n",
       " {54, 55},\n",
       " {39, 69},\n",
       " {6, 66, 86},\n",
       " {60, 61, 62, 63, 74, 75},\n",
       " {9, 12, 13, 14, 15, 48, 52, 53, 54, 55, 65},\n",
       " {39, 44, 45, 57, 91, 92, 93, 94},\n",
       " {0, 1, 2, 3, 14, 15, 57},\n",
       " {55, 79},\n",
       " {7, 28, 36, 73, 74, 75},\n",
       " {2, 3, 4, 5, 7, 9, 52, 53, 54, 55},\n",
       " {27, 76},\n",
       " {3, 4, 5, 6, 31, 32, 33, 34, 46, 60, 61, 62, 63},\n",
       " {48},\n",
       " {33, 34, 35, 56, 96},\n",
       " {62, 63, 64, 65},\n",
       " {61, 62, 63, 64},\n",
       " {9, 59},\n",
       " {27, 34, 35, 97},\n",
       " {13, 14, 15},\n",
       " {35}]"
      ]
     },
     "execution_count": 210,
     "metadata": {},
     "output_type": "execute_result"
    }
   ],
   "source": [
    "raw_data"
   ]
  },
  {
   "cell_type": "code",
   "execution_count": 206,
   "metadata": {
    "ExecuteTime": {
     "end_time": "2018-02-26T14:38:04.827594",
     "start_time": "2018-02-26T14:38:04.819788"
    },
    "collapsed": true
   },
   "outputs": [],
   "source": [
    "for i in range(1,2):\n",
    "    data_use =  [combinations(r,i) for r in raw_data]\n",
    "    data = flattern(data_use)\n",
    "    iterm_nums = defaultdict(int)\n",
    "    for j in data:\n",
    "        iterm_nums[j] +=1\n",
    "    freq_set = set([k for k,v in iterm_nums.items() if v/len_data>0.0])\n",
    "    raw_data = [i for i in raw_data if i&freq_set]\n",
    "    "
   ]
  },
  {
   "cell_type": "code",
   "execution_count": 208,
   "metadata": {
    "ExecuteTime": {
     "end_time": "2018-02-26T14:38:11.541920",
     "start_time": "2018-02-26T14:38:11.539143"
    },
    "collapsed": false
   },
   "outputs": [
    {
     "data": {
      "text/plain": [
       "[]"
      ]
     },
     "execution_count": 208,
     "metadata": {},
     "output_type": "execute_result"
    }
   ],
   "source": [
    "raw_data"
   ]
  },
  {
   "cell_type": "code",
   "execution_count": null,
   "metadata": {
    "collapsed": true
   },
   "outputs": [],
   "source": [
    "while"
   ]
  },
  {
   "cell_type": "code",
   "execution_count": 207,
   "metadata": {
    "ExecuteTime": {
     "end_time": "2018-02-26T14:38:05.959095",
     "start_time": "2018-02-26T14:38:05.954656"
    },
    "collapsed": false
   },
   "outputs": [
    {
     "data": {
      "text/plain": [
       "{(0,),\n",
       " (1,),\n",
       " (2,),\n",
       " (3,),\n",
       " (4,),\n",
       " (5,),\n",
       " (6,),\n",
       " (7,),\n",
       " (8,),\n",
       " (9,),\n",
       " (10,),\n",
       " (11,),\n",
       " (12,),\n",
       " (13,),\n",
       " (14,),\n",
       " (15,),\n",
       " (16,),\n",
       " (17,),\n",
       " (18,),\n",
       " (19,),\n",
       " (20,),\n",
       " (21,),\n",
       " (22,),\n",
       " (23,),\n",
       " (24,),\n",
       " (25,),\n",
       " (26,),\n",
       " (27,),\n",
       " (28,),\n",
       " (29,),\n",
       " (30,),\n",
       " (31,),\n",
       " (32,),\n",
       " (33,),\n",
       " (34,),\n",
       " (35,),\n",
       " (36,),\n",
       " (37,),\n",
       " (38,),\n",
       " (39,),\n",
       " (40,),\n",
       " (41,),\n",
       " (42,),\n",
       " (43,),\n",
       " (44,),\n",
       " (45,),\n",
       " (46,),\n",
       " (47,),\n",
       " (48,),\n",
       " (49,),\n",
       " (50,),\n",
       " (51,),\n",
       " (52,),\n",
       " (53,),\n",
       " (54,),\n",
       " (55,),\n",
       " (56,),\n",
       " (57,),\n",
       " (58,),\n",
       " (59,),\n",
       " (60,),\n",
       " (61,),\n",
       " (62,),\n",
       " (63,),\n",
       " (64,),\n",
       " (65,),\n",
       " (66,),\n",
       " (67,),\n",
       " (68,),\n",
       " (69,),\n",
       " (70,),\n",
       " (71,),\n",
       " (72,),\n",
       " (73,),\n",
       " (74,),\n",
       " (75,),\n",
       " (76,),\n",
       " (77,),\n",
       " (78,),\n",
       " (79,),\n",
       " (80,),\n",
       " (81,),\n",
       " (82,),\n",
       " (83,),\n",
       " (84,),\n",
       " (85,),\n",
       " (86,),\n",
       " (87,),\n",
       " (88,),\n",
       " (89,),\n",
       " (90,),\n",
       " (91,),\n",
       " (92,),\n",
       " (93,),\n",
       " (94,),\n",
       " (95,),\n",
       " (96,),\n",
       " (97,),\n",
       " (98,),\n",
       " (99,)}"
      ]
     },
     "execution_count": 207,
     "metadata": {},
     "output_type": "execute_result"
    }
   ],
   "source": [
    "freq_set"
   ]
  },
  {
   "cell_type": "code",
   "execution_count": null,
   "metadata": {
    "collapsed": true
   },
   "outputs": [],
   "source": []
  }
 ],
 "metadata": {
  "kernelspec": {
   "display_name": "Python 3",
   "language": "python",
   "name": "python3"
  },
  "language_info": {
   "codemirror_mode": {
    "name": "ipython",
    "version": 3
   },
   "file_extension": ".py",
   "mimetype": "text/x-python",
   "name": "python",
   "nbconvert_exporter": "python",
   "pygments_lexer": "ipython3",
   "version": "3.5.2"
  },
  "toc": {
   "colors": {
    "hover_highlight": "#DAA520",
    "running_highlight": "#FF0000",
    "selected_highlight": "#FFD700"
   },
   "moveMenuLeft": true,
   "nav_menu": {
    "height": "12px",
    "width": "252px"
   },
   "navigate_menu": true,
   "number_sections": true,
   "sideBar": true,
   "threshold": 4,
   "toc_cell": true,
   "toc_section_display": "block",
   "toc_window_display": true
  }
 },
 "nbformat": 4,
 "nbformat_minor": 2
}
