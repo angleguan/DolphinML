{
 "cells": [
  {
   "cell_type": "markdown",
   "metadata": {
    "toc": "true"
   },
   "source": [
    "# Table of Contents\n",
    " <p>"
   ]
  },
  {
   "cell_type": "code",
   "execution_count": 112,
   "metadata": {
    "ExecuteTime": {
     "end_time": "2018-03-01T09:05:46.747203",
     "start_time": "2018-03-01T09:05:46.741535"
    },
    "collapsed": true
   },
   "outputs": [],
   "source": [
    "import random\n",
    "import numpy as np\n",
    "from itertools import combinations\n",
    "from collections import defaultdict\n",
    "from collections import Iterable"
   ]
  },
  {
   "cell_type": "code",
   "execution_count": 115,
   "metadata": {
    "ExecuteTime": {
     "end_time": "2018-03-01T09:24:22.257115",
     "start_time": "2018-03-01T09:24:22.244896"
    },
    "code_folding": [
     8,
     10
    ],
    "collapsed": true
   },
   "outputs": [],
   "source": [
    "class Apriori:\n",
    "    def __init__(self,minSupport,numbers):\n",
    "        self.numbers = numbers\n",
    "        self.minSupport = minSupport\n",
    "    def flattern(self,items,ignore_type=(tuple,)):\n",
    "        for x in items:\n",
    "            if isinstance(x, Iterable) and not isinstance(x,ignore_type):\n",
    "                yield from flattern(x)\n",
    "            else:\n",
    "                yield x\n",
    "    def train(self,X):\n",
    "        len_data = len(X)\n",
    "        freq_parent = range(len_data)\n",
    "        for i in range(1,self.numbers+1):\n",
    "            data_use =  [(idx,combinations(raw_data[idx],i)) for idx in freq_parent]\n",
    "            item_cnt = defaultdict(int)\n",
    "            item_parent = defaultdict(list)\n",
    "            for i,x in data_use:\n",
    "                for y in x:\n",
    "                    item_cnt[y] +=1\n",
    "                    item_parent[y].append(i)\n",
    "            freq_set = set([k for k,v in item_cnt.items() if v/len_data>self.minSupport])\n",
    "            freq_parent = [item_parent.get(k) for k in freq_set ]\n",
    "            freq_parent = set(self.flattern(freq_parent))\n",
    "        return freq_set"
   ]
  },
  {
   "cell_type": "code",
   "execution_count": 120,
   "metadata": {
    "ExecuteTime": {
     "end_time": "2018-03-01T09:25:15.973101",
     "start_time": "2018-03-01T09:25:15.925883"
    },
    "collapsed": false
   },
   "outputs": [],
   "source": [
    "# 生成测试数据，测试\n",
    "if __name__ == '__main__':\n",
    "    data_set = []\n",
    "    for i in range(100):\n",
    "        data_set.append(random.sample(range(100),random.randint(1,5)))\n",
    "    for a in range(3):\n",
    "        data_setnew =  []\n",
    "        for i in data_set:\n",
    "            box = []\n",
    "            for j in i:\n",
    "                box.append(j)\n",
    "                if (j%10)<5:\n",
    "                    box.append(j+1)\n",
    "            data_setnew.append(box)\n",
    "        data_set = data_setnew\n",
    "    raw_data = [set(i) for i in data_set]\n",
    "    Ap = Apriori(0.05,4)\n",
    "    freq_set = Ap.train(raw_data)"
   ]
  }
 ],
 "metadata": {
  "kernelspec": {
   "display_name": "Python 3",
   "language": "python",
   "name": "python3"
  },
  "language_info": {
   "codemirror_mode": {
    "name": "ipython",
    "version": 3
   },
   "file_extension": ".py",
   "mimetype": "text/x-python",
   "name": "python",
   "nbconvert_exporter": "python",
   "pygments_lexer": "ipython3",
   "version": "3.5.2"
  },
  "toc": {
   "colors": {
    "hover_highlight": "#DAA520",
    "running_highlight": "#FF0000",
    "selected_highlight": "#FFD700"
   },
   "moveMenuLeft": true,
   "nav_menu": {
    "height": "12px",
    "width": "252px"
   },
   "navigate_menu": true,
   "number_sections": true,
   "sideBar": true,
   "threshold": 4,
   "toc_cell": true,
   "toc_section_display": "block",
   "toc_window_display": true
  }
 },
 "nbformat": 4,
 "nbformat_minor": 2
}
