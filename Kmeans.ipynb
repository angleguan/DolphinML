{
 "cells": [
  {
   "cell_type": "markdown",
   "metadata": {
    "toc": "true"
   },
   "source": [
    "# Table of Contents\n",
    " <p>"
   ]
  },
  {
   "cell_type": "code",
   "execution_count": 4,
   "metadata": {
    "ExecuteTime": {
     "end_time": "2018-02-22T20:02:06.573401",
     "start_time": "2018-02-22T20:02:05.198700"
    },
    "collapsed": false
   },
   "outputs": [],
   "source": [
    "import numpy as np"
   ]
  },
  {
   "cell_type": "code",
   "execution_count": 9,
   "metadata": {
    "ExecuteTime": {
     "end_time": "2018-02-22T20:02:36.800000",
     "start_time": "2018-02-22T20:02:36.794169"
    },
    "collapsed": true
   },
   "outputs": [],
   "source": [
    "from itertools import combinations"
   ]
  },
  {
   "cell_type": "code",
   "execution_count": 5,
   "metadata": {
    "ExecuteTime": {
     "end_time": "2018-02-22T20:02:06.580319",
     "start_time": "2018-02-22T20:02:06.575198"
    },
    "collapsed": false
   },
   "outputs": [],
   "source": [
    "t_a = np.array([['a','m','1'],['a','m','2'],['b','n','1'],['b','n','1'],['b','n','1'],['b','n','2'],['a1','o','1']])"
   ]
  },
  {
   "cell_type": "code",
   "execution_count": 6,
   "metadata": {
    "ExecuteTime": {
     "end_time": "2018-02-22T20:02:07.616724",
     "start_time": "2018-02-22T20:02:07.607442"
    },
    "collapsed": false
   },
   "outputs": [
    {
     "data": {
      "text/plain": [
       "array([['a', 'm', '1'],\n",
       "       ['a', 'm', '2'],\n",
       "       ['b', 'n', '1'],\n",
       "       ['b', 'n', '1'],\n",
       "       ['b', 'n', '1'],\n",
       "       ['b', 'n', '2'],\n",
       "       ['a1', 'o', '1']], \n",
       "      dtype='<U2')"
      ]
     },
     "execution_count": 6,
     "metadata": {},
     "output_type": "execute_result"
    }
   ],
   "source": [
    "t_a"
   ]
  },
  {
   "cell_type": "code",
   "execution_count": 153,
   "metadata": {
    "ExecuteTime": {
     "end_time": "2018-02-22T17:07:57.963342",
     "start_time": "2018-02-22T17:07:57.960193"
    },
    "collapsed": false
   },
   "outputs": [
    {
     "data": {
      "text/plain": [
       "array(['a', 'b', 'b', 'b', 'a1'], \n",
       "      dtype='<U2')"
      ]
     },
     "execution_count": 153,
     "metadata": {},
     "output_type": "execute_result"
    }
   ],
   "source": [
    "np.count_nonzerocols[np.where(cluster=='1')]"
   ]
  },
  {
   "cell_type": "code",
   "execution_count": 35,
   "metadata": {
    "ExecuteTime": {
     "end_time": "2018-02-22T20:31:50.313678",
     "start_time": "2018-02-22T20:31:50.297481"
    },
    "collapsed": false
   },
   "outputs": [],
   "source": [
    "def vdm(cols,clu):\n",
    "    m_u = np.unique(cols,return_counts=True)\n",
    "    vdm_value = np.zeros(len(list(combinations(m_u[0],2))))\n",
    "    for k in np.unique(clu):\n",
    "        m_ui = np.unique(cols[np.where(clu == k)],return_counts=True)\n",
    "        m_ui0,m_ui1 = m_ui\n",
    "        array_diff = np.setdiff1d(m_u[0],m_ui[0])\n",
    "        print(array_diff)\n",
    "        m_ui1 = np.append(m_ui1,[0]*len(array_diff))\n",
    "        m_ui0 =  np.append(m_ui0,array_diff)\n",
    "        print(m_ui0,m_ui1,)\n",
    "        s_mui = sorted(zip(m_ui0,m_ui1),key=lambda x:x[0])\n",
    "        s_mui1 = np.array([y for x,y in s_mui])\n",
    "        clu_rate = zip(m_u[0],s_mui1/m_u[1])    \n",
    "        clu_sq = [np.square(c[0][1]-c[1][1]) for c in combinations(clu_rate,2)]\n",
    "        print(clu_sq)\n",
    "        vdm_value += np.array(clu_sq)\n",
    "        print(vdm_value)\n",
    "    ret = dict(zip(combinations(m_u[0],2),vdm_value))\n",
    "    return ret\n"
   ]
  },
  {
   "cell_type": "code",
   "execution_count": 42,
   "metadata": {
    "ExecuteTime": {
     "end_time": "2018-02-22T20:49:26.430280",
     "start_time": "2018-02-22T20:49:26.422394"
    },
    "collapsed": false
   },
   "outputs": [
    {
     "name": "stdout",
     "output_type": "stream",
     "text": [
      "['m' 'o']\n",
      "['n' 'm' 'o'] [1 0 0]\n",
      "[0.0625, 0.0, 0.0625]\n",
      "[ 0.0625  0.      0.0625]\n",
      "['n' 'o']\n",
      "['m' 'n' 'o'] [1 0 0]\n",
      "[0.25, 0.25, 0.0]\n",
      "[ 0.3125  0.25    0.0625]\n",
      "['n' 'o']\n",
      "['m' 'n' 'o'] [1 0 0]\n",
      "[0.25, 0.25, 0.0]\n",
      "[ 0.5625  0.5     0.0625]\n"
     ]
    },
    {
     "data": {
      "text/plain": [
       "{('m', 'n'): 0.5625, ('m', 'o'): 0.5, ('n', 'o'): 0.0625}"
      ]
     },
     "execution_count": 42,
     "metadata": {},
     "output_type": "execute_result"
    }
   ],
   "source": [
    "vdm(t_a[:,1],t_a[2])"
   ]
  },
  {
   "cell_type": "code",
   "execution_count": null,
   "metadata": {
    "collapsed": true
   },
   "outputs": [],
   "source": [
    "class "
   ]
  }
 ],
 "metadata": {
  "kernelspec": {
   "display_name": "Python 3",
   "language": "python",
   "name": "python3"
  },
  "language_info": {
   "codemirror_mode": {
    "name": "ipython",
    "version": 3
   },
   "file_extension": ".py",
   "mimetype": "text/x-python",
   "name": "python",
   "nbconvert_exporter": "python",
   "pygments_lexer": "ipython3",
   "version": "3.5.2"
  },
  "toc": {
   "colors": {
    "hover_highlight": "#DAA520",
    "running_highlight": "#FF0000",
    "selected_highlight": "#FFD700"
   },
   "moveMenuLeft": true,
   "nav_menu": {
    "height": "0px",
    "width": "0px"
   },
   "navigate_menu": true,
   "number_sections": true,
   "sideBar": true,
   "threshold": 4,
   "toc_cell": true,
   "toc_section_display": "block",
   "toc_window_display": true
  }
 },
 "nbformat": 4,
 "nbformat_minor": 2
}
