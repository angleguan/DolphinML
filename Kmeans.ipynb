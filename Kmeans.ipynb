{
 "cells": [
  {
   "cell_type": "markdown",
   "metadata": {
    "toc": "true"
   },
   "source": [
    "# Table of Contents\n",
    " <p><div class=\"lev2 toc-item\"><a href=\"#过程逻辑\" data-toc-modified-id=\"过程逻辑-01\"><span class=\"toc-item-num\">0.1&nbsp;&nbsp;</span>过程逻辑</a></div>"
   ]
  },
  {
   "cell_type": "code",
   "execution_count": 4,
   "metadata": {
    "ExecuteTime": {
     "end_time": "2018-02-23T15:59:09.305179",
     "start_time": "2018-02-23T15:59:06.517756"
    },
    "collapsed": false
   },
   "outputs": [],
   "source": [
    "import numpy as np\n",
    "import pandas as pd\n",
    "import matplotlib.pyplot as plt\n",
    "import seaborn as sns\n",
    "%matplotlib inline\n",
    "import numpy_indexed as npi\n"
   ]
  },
  {
   "cell_type": "code",
   "execution_count": 130,
   "metadata": {
    "ExecuteTime": {
     "end_time": "2018-02-23T16:57:58.808918",
     "start_time": "2018-02-23T16:57:58.806796"
    },
    "collapsed": true
   },
   "outputs": [],
   "source": [
    "from itertools import combinations,permutations"
   ]
  },
  {
   "cell_type": "code",
   "execution_count": 4,
   "metadata": {
    "ExecuteTime": {
     "end_time": "2018-02-23T10:19:23.919168",
     "start_time": "2018-02-23T10:19:23.916693"
    },
    "collapsed": false
   },
   "outputs": [],
   "source": [
    "t_a = np.array([['a','m','1'],['a','m','2'],['b','n','1'],['b','n','1'],['b','n','1'],['b','n','2'],['a1','o','1']])"
   ]
  },
  {
   "cell_type": "code",
   "execution_count": 5,
   "metadata": {
    "ExecuteTime": {
     "end_time": "2018-02-23T10:19:24.828265",
     "start_time": "2018-02-23T10:19:24.809071"
    },
    "collapsed": false
   },
   "outputs": [
    {
     "data": {
      "text/plain": [
       "array([['a', 'm', '1'],\n",
       "       ['a', 'm', '2'],\n",
       "       ['b', 'n', '1'],\n",
       "       ['b', 'n', '1'],\n",
       "       ['b', 'n', '1'],\n",
       "       ['b', 'n', '2'],\n",
       "       ['a1', 'o', '1']], \n",
       "      dtype='<U2')"
      ]
     },
     "execution_count": 5,
     "metadata": {},
     "output_type": "execute_result"
    }
   ],
   "source": [
    "t_a"
   ]
  },
  {
   "cell_type": "code",
   "execution_count": 35,
   "metadata": {
    "ExecuteTime": {
     "end_time": "2018-02-22T20:31:50.313678",
     "start_time": "2018-02-22T20:31:50.297481"
    },
    "collapsed": false
   },
   "outputs": [],
   "source": [
    "def vdm(cols,clu):\n",
    "    m_u = np.unique(cols,return_counts=True)\n",
    "    vdm_value = np.zeros(len(list(combinations(m_u[0],2))))\n",
    "    for k in np.unique(clu):\n",
    "        m_ui = np.unique(cols[np.where(clu == k)],return_counts=True)\n",
    "        m_ui0,m_ui1 = m_ui\n",
    "        array_diff = np.setdiff1d(m_u[0],m_ui[0])\n",
    "        print(array_diff)\n",
    "        m_ui1 = np.append(m_ui1,[0]*len(array_diff))\n",
    "        m_ui0 =  np.append(m_ui0,array_diff)\n",
    "        print(m_ui0,m_ui1,)\n",
    "        s_mui = sorted(zip(m_ui0,m_ui1),key=lambda x:x[0])\n",
    "        s_mui1 = np.array([y for x,y in s_mui])\n",
    "        clu_rate = zip(m_u[0],s_mui1/m_u[1])    \n",
    "        clu_sq = [np.square(c[0][1]-c[1][1]) for c in combinations(clu_rate,2)]\n",
    "        print(clu_sq)\n",
    "        vdm_value += np.array(clu_sq)\n",
    "        print(vdm_value)\n",
    "    ret = dict(zip(combinations(m_u[0],2),vdm_value))\n",
    "    return ret\n"
   ]
  },
  {
   "cell_type": "code",
   "execution_count": 42,
   "metadata": {
    "ExecuteTime": {
     "end_time": "2018-02-22T20:49:26.430280",
     "start_time": "2018-02-22T20:49:26.422394"
    },
    "collapsed": false
   },
   "outputs": [
    {
     "name": "stdout",
     "output_type": "stream",
     "text": [
      "['m' 'o']\n",
      "['n' 'm' 'o'] [1 0 0]\n",
      "[0.0625, 0.0, 0.0625]\n",
      "[ 0.0625  0.      0.0625]\n",
      "['n' 'o']\n",
      "['m' 'n' 'o'] [1 0 0]\n",
      "[0.25, 0.25, 0.0]\n",
      "[ 0.3125  0.25    0.0625]\n",
      "['n' 'o']\n",
      "['m' 'n' 'o'] [1 0 0]\n",
      "[0.25, 0.25, 0.0]\n",
      "[ 0.5625  0.5     0.0625]\n"
     ]
    },
    {
     "data": {
      "text/plain": [
       "{('m', 'n'): 0.5625, ('m', 'o'): 0.5, ('n', 'o'): 0.0625}"
      ]
     },
     "execution_count": 42,
     "metadata": {},
     "output_type": "execute_result"
    }
   ],
   "source": [
    "vdm(t_a[:,1],t_a[2])"
   ]
  },
  {
   "cell_type": "code",
   "execution_count": null,
   "metadata": {
    "collapsed": true
   },
   "outputs": [],
   "source": []
  },
  {
   "cell_type": "code",
   "execution_count": 76,
   "metadata": {
    "ExecuteTime": {
     "end_time": "2018-02-23T16:18:25.023507",
     "start_time": "2018-02-23T16:18:25.004670"
    },
    "collapsed": true
   },
   "outputs": [],
   "source": [
    "class Kmean:\n",
    "    def __init__(self,k,iter_num):\n",
    "        self.k = k\n",
    "        self.iter_num = iter_num\n",
    "    def get_init_vector(self,X):\n",
    "        distance,max_cores = 0,''\n",
    "        for i in combinations(X,self.k):\n",
    "            npt = np.array(list(combinations(i,2)))\n",
    "            ret = np.sqrt(np.square(npt[:,0] - npt[:,1]).sum(axis=1)).sum()\n",
    "            if ret > distance:\n",
    "                distance,max_cores = ret,i\n",
    "        return np.array(max_cores)\n",
    "\n",
    "    def train(self,X):\n",
    "        init_vetor = avg_vector = self.get_init_vector(X)\n",
    "        get_nearcore = lambda x:np.argmin(np.square(avg_vector - x).sum(axis=1))\n",
    "        cnt = 0\n",
    "        plt.figure(figsize=(16,9))\n",
    "        while True:\n",
    "            last_avg = avg_vector\n",
    "            cnt += 1\n",
    "            new_cluster = np.apply_along_axis(get_nearcore,axis=1,arr=X)\n",
    "            clu_tag, avg_vector = npi.group_by(new_cluster).mean(data)\n",
    "            plt.plot(avg_vector[:,0],avg_vector[:,1],'b^')\n",
    "            print(np.square(avg_vector - last_avg).sum())\n",
    "            if (np.square(avg_vector - last_avg).sum()< 0.01) or  (cnt >=self.iter_num):\n",
    "                break\n",
    "        c0 = data[new_cluster==0];c1 = data[new_cluster==1];c2 = data[new_cluster==2]\n",
    "        plt.plot(c0[:,0],c0[:,1],'.r',c1[:,0],c1[:,1],'.g',c2[:,0],c2[:,1],'.y',init_vetor[:,0],init_vetor[:,1],'b*',avg_vector[:,0],avg_vector[:,1],'bo')\n",
    "        return new_cluster"
   ]
  },
  {
   "cell_type": "code",
   "execution_count": 77,
   "metadata": {
    "ExecuteTime": {
     "end_time": "2018-02-23T16:18:25.909872",
     "start_time": "2018-02-23T16:18:25.904449"
    },
    "collapsed": false
   },
   "outputs": [],
   "source": [
    "K = Kmean(3,10)\n"
   ]
  },
  {
   "cell_type": "code",
   "execution_count": 81,
   "metadata": {
    "ExecuteTime": {
     "end_time": "2018-02-23T16:32:08.407858",
     "start_time": "2018-02-23T16:32:06.540684"
    },
    "collapsed": false,
    "scrolled": false
   },
   "outputs": [
    {
     "name": "stdout",
     "output_type": "stream",
     "text": [
      "10.0280236213\n",
      "0.0\n"
     ]
    },
    {
     "data": {
      "text/plain": [
       "array([1, 0, 0, 2, 0, 0, 1, 1, 1, 0, 0, 1, 2, 0, 1, 2, 2, 0, 1, 0, 1, 0, 2,\n",
       "       2, 0, 0, 1, 0, 0, 2, 2, 1, 1, 2, 2, 2, 2, 1, 2, 0, 2, 2, 0, 2, 0, 2,\n",
       "       0, 2, 1, 2, 0, 1, 0, 0, 1, 0, 2, 0, 0, 0, 1, 1, 2, 1, 2, 2, 1, 0, 1,\n",
       "       0, 0, 2, 1, 1, 2, 2, 2, 0, 1, 1, 0, 1, 1, 1, 1, 2, 2, 0, 2, 1, 0, 2,\n",
       "       1, 0, 0, 1, 1, 1, 2, 2])"
      ]
     },
     "execution_count": 81,
     "metadata": {},
     "output_type": "execute_result"
    },
    {
     "data": {
      "image/png": "[encoded data removed]",
      "text/plain": [
       "<matplotlib.figure.Figure at 0x7f18914f8e80>"
      ]
     },
     "metadata": {},
     "output_type": "display_data"
    }
   ],
   "source": [
    "data,clu = make_blobs(n_samples=100,n_features=2,centers=3)\n",
    "K.train(data)"
   ]
  },
  {
   "cell_type": "code",
   "execution_count": 629,
   "metadata": {
    "ExecuteTime": {
     "end_time": "2018-02-23T15:53:58.605544",
     "start_time": "2018-02-23T15:53:58.602710"
    },
    "collapsed": false
   },
   "outputs": [
    {
     "data": {
      "text/plain": [
       "<itertools.combinations at 0x7f742ef99b88>"
      ]
     },
     "execution_count": 629,
     "metadata": {},
     "output_type": "execute_result"
    }
   ],
   "source": [
    "combinations(data,3)"
   ]
  },
  {
   "cell_type": "code",
   "execution_count": 159,
   "metadata": {
    "ExecuteTime": {
     "end_time": "2018-02-23T17:08:52.091585",
     "start_time": "2018-02-23T17:08:52.087686"
    },
    "collapsed": false
   },
   "outputs": [
    {
     "data": {
      "text/plain": [
       "array([[ -2.8642465 ,  -2.28322115],\n",
       "       [ 10.16543833,   6.78202416],\n",
       "       [ -0.16619602,  -7.36516776]])"
      ]
     },
     "execution_count": 159,
     "metadata": {},
     "output_type": "execute_result"
    }
   ],
   "source": [
    "data2,clu = make_blobs(n_samples=3,n_features=2,centers=3)\n",
    "data2"
   ]
  },
  {
   "cell_type": "code",
   "execution_count": 103,
   "metadata": {
    "ExecuteTime": {
     "end_time": "2018-02-23T16:47:51.560023",
     "start_time": "2018-02-23T16:47:51.557900"
    },
    "collapsed": false
   },
   "outputs": [],
   "source": [
    "mdata = np.matrix(data2)"
   ]
  },
  {
   "cell_type": "code",
   "execution_count": 186,
   "metadata": {
    "ExecuteTime": {
     "end_time": "2018-02-23T17:23:04.189189",
     "start_time": "2018-02-23T17:23:04.181455"
    },
    "collapsed": true
   },
   "outputs": [],
   "source": [
    "m = 10\n",
    "n = 2\n",
    "k = 3\n",
    "D_mat = np.zeros((m,m))\n",
    "data,clu = make_blobs(n_samples=m,n_features=n)\n",
    "\n",
    "for x,y in combinations(range(m),2):\n",
    "    D_mat[x,y] = D_mat[y,x] = np.sqrt(np.square(data[x] - data[y]).sum())"
   ]
  },
  {
   "cell_type": "code",
   "execution_count": 206,
   "metadata": {
    "ExecuteTime": {
     "end_time": "2018-02-23T17:30:14.283150",
     "start_time": "2018-02-23T17:30:14.281160"
    },
    "collapsed": true
   },
   "outputs": [],
   "source": [
    "import random"
   ]
  },
  {
   "cell_type": "code",
   "execution_count": 282,
   "metadata": {
    "ExecuteTime": {
     "end_time": "2018-02-23T17:42:26.445076",
     "start_time": "2018-02-23T17:42:26.442526"
    },
    "collapsed": false,
    "scrolled": false
   },
   "outputs": [],
   "source": [
    "clus = random.sample(range(k),k)\n"
   ]
  },
  {
   "cell_type": "code",
   "execution_count": 286,
   "metadata": {
    "ExecuteTime": {
     "end_time": "2018-02-23T17:43:32.831150",
     "start_time": "2018-02-23T17:43:32.827425"
    },
    "collapsed": false
   },
   "outputs": [],
   "source": [
    "min_index = np.argmin(D_mat[:,clus][clus,:].sum(axis=1))"
   ]
  },
  {
   "cell_type": "code",
   "execution_count": 287,
   "metadata": {
    "ExecuteTime": {
     "end_time": "2018-02-23T17:45:11.696745",
     "start_time": "2018-02-23T17:45:11.690497"
    },
    "collapsed": false
   },
   "outputs": [
    {
     "data": {
      "text/plain": [
       "2"
      ]
     },
     "execution_count": 287,
     "metadata": {},
     "output_type": "execute_result"
    }
   ],
   "source": [
    "clus.pop"
   ]
  },
  {
   "cell_type": "code",
   "execution_count": 251,
   "metadata": {
    "ExecuteTime": {
     "end_time": "2018-02-23T17:35:08.553218",
     "start_time": "2018-02-23T17:35:08.546280"
    },
    "collapsed": false
   },
   "outputs": [
    {
     "data": {
      "text/plain": [
       "6"
      ]
     },
     "execution_count": 251,
     "metadata": {},
     "output_type": "execute_result"
    }
   ],
   "source": [
    "len(list(permutations(clus,2)))"
   ]
  },
  {
   "cell_type": "code",
   "execution_count": 268,
   "metadata": {
    "ExecuteTime": {
     "end_time": "2018-02-23T17:40:05.653310",
     "start_time": "2018-02-23T17:40:05.648770"
    },
    "collapsed": false
   },
   "outputs": [
    {
     "data": {
      "text/plain": [
       "[1, 3, 0]"
      ]
     },
     "execution_count": 268,
     "metadata": {},
     "output_type": "execute_result"
    }
   ],
   "source": [
    "clus"
   ]
  },
  {
   "cell_type": "code",
   "execution_count": 280,
   "metadata": {
    "ExecuteTime": {
     "end_time": "2018-02-23T17:41:13.174164",
     "start_time": "2018-02-23T17:41:13.167992"
    },
    "collapsed": false
   },
   "outputs": [
    {
     "data": {
      "text/plain": [
       "array([ 14.82685848,  27.73620952,  16.45227214])"
      ]
     },
     "execution_count": 280,
     "metadata": {},
     "output_type": "execute_result"
    }
   ],
   "source": [
    "D_mat[:,clus][clus,:].sum(axis=1)"
   ]
  },
  {
   "cell_type": "code",
   "execution_count": 263,
   "metadata": {
    "ExecuteTime": {
     "end_time": "2018-02-23T17:37:09.316961",
     "start_time": "2018-02-23T17:37:09.307365"
    },
    "collapsed": false
   },
   "outputs": [
    {
     "data": {
      "text/plain": [
       "array([[1, 3],\n",
       "       [1, 0],\n",
       "       [3, 1],\n",
       "       [3, 0],\n",
       "       [0, 1],\n",
       "       [0, 3]])"
      ]
     },
     "execution_count": 263,
     "metadata": {},
     "output_type": "execute_result"
    }
   ],
   "source": [
    "np.array(list(permutations(clus,2)))"
   ]
  },
  {
   "cell_type": "code",
   "execution_count": 264,
   "metadata": {
    "ExecuteTime": {
     "end_time": "2018-02-23T17:37:22.606533",
     "start_time": "2018-02-23T17:37:22.601828"
    },
    "collapsed": false
   },
   "outputs": [
    {
     "data": {
      "text/plain": [
       "(6, 2, 10)"
      ]
     },
     "execution_count": 264,
     "metadata": {},
     "output_type": "execute_result"
    }
   ],
   "source": [
    "D_mat[np.array(list(permutations(clus,2)))].shape"
   ]
  },
  {
   "cell_type": "code",
   "execution_count": 208,
   "metadata": {
    "ExecuteTime": {
     "end_time": "2018-02-23T17:31:08.779729",
     "start_time": "2018-02-23T17:31:08.776357"
    },
    "collapsed": false
   },
   "outputs": [
    {
     "data": {
      "text/plain": [
       "[7, 5, 2]"
      ]
     },
     "execution_count": 208,
     "metadata": {},
     "output_type": "execute_result"
    }
   ],
   "source": [
    "clus    "
   ]
  },
  {
   "cell_type": "code",
   "execution_count": 187,
   "metadata": {
    "ExecuteTime": {
     "end_time": "2018-02-23T17:23:05.261775",
     "start_time": "2018-02-23T17:23:05.245155"
    },
    "collapsed": false
   },
   "outputs": [
    {
     "data": {
      "text/html": [
       "<div>\n",
       "<style scoped>\n",
       "    .dataframe tbody tr th:only-of-type {\n",
       "        vertical-align: middle;\n",
       "    }\n",
       "\n",
       "    .dataframe tbody tr th {\n",
       "        vertical-align: top;\n",
       "    }\n",
       "\n",
       "    .dataframe thead th {\n",
       "        text-align: right;\n",
       "    }\n",
       "</style>\n",
       "<table border=\"1\" class=\"dataframe\">\n",
       "  <thead>\n",
       "    <tr style=\"text-align: right;\">\n",
       "      <th></th>\n",
       "      <th>0</th>\n",
       "      <th>1</th>\n",
       "      <th>2</th>\n",
       "      <th>3</th>\n",
       "      <th>4</th>\n",
       "      <th>5</th>\n",
       "      <th>6</th>\n",
       "      <th>7</th>\n",
       "      <th>8</th>\n",
       "      <th>9</th>\n",
       "    </tr>\n",
       "  </thead>\n",
       "  <tbody>\n",
       "    <tr>\n",
       "      <th>0</th>\n",
       "      <td>0.000000</td>\n",
       "      <td>1.771461</td>\n",
       "      <td>6.651315</td>\n",
       "      <td>14.680812</td>\n",
       "      <td>12.429730</td>\n",
       "      <td>1.175307</td>\n",
       "      <td>14.167183</td>\n",
       "      <td>0.724968</td>\n",
       "      <td>6.267658</td>\n",
       "      <td>5.693486</td>\n",
       "    </tr>\n",
       "    <tr>\n",
       "      <th>1</th>\n",
       "      <td>1.771461</td>\n",
       "      <td>0.000000</td>\n",
       "      <td>8.421028</td>\n",
       "      <td>13.055398</td>\n",
       "      <td>10.744294</td>\n",
       "      <td>0.664342</td>\n",
       "      <td>12.458932</td>\n",
       "      <td>1.072071</td>\n",
       "      <td>8.034642</td>\n",
       "      <td>7.453706</td>\n",
       "    </tr>\n",
       "    <tr>\n",
       "      <th>2</th>\n",
       "      <td>6.651315</td>\n",
       "      <td>8.421028</td>\n",
       "      <td>0.000000</td>\n",
       "      <td>20.903063</td>\n",
       "      <td>18.831136</td>\n",
       "      <td>7.794631</td>\n",
       "      <td>20.614212</td>\n",
       "      <td>7.354987</td>\n",
       "      <td>0.925326</td>\n",
       "      <td>1.458710</td>\n",
       "    </tr>\n",
       "    <tr>\n",
       "      <th>3</th>\n",
       "      <td>14.680812</td>\n",
       "      <td>13.055398</td>\n",
       "      <td>20.903063</td>\n",
       "      <td>0.000000</td>\n",
       "      <td>2.584487</td>\n",
       "      <td>13.526285</td>\n",
       "      <td>1.989261</td>\n",
       "      <td>13.967946</td>\n",
       "      <td>20.746499</td>\n",
       "      <td>20.241019</td>\n",
       "    </tr>\n",
       "    <tr>\n",
       "      <th>4</th>\n",
       "      <td>12.429730</td>\n",
       "      <td>10.744294</td>\n",
       "      <td>18.831136</td>\n",
       "      <td>2.584487</td>\n",
       "      <td>0.000000</td>\n",
       "      <td>11.259292</td>\n",
       "      <td>1.814128</td>\n",
       "      <td>11.707502</td>\n",
       "      <td>18.605923</td>\n",
       "      <td>18.072554</td>\n",
       "    </tr>\n",
       "    <tr>\n",
       "      <th>5</th>\n",
       "      <td>1.175307</td>\n",
       "      <td>0.664342</td>\n",
       "      <td>7.794631</td>\n",
       "      <td>13.526285</td>\n",
       "      <td>11.259292</td>\n",
       "      <td>0.000000</td>\n",
       "      <td>12.993311</td>\n",
       "      <td>0.450344</td>\n",
       "      <td>7.435483</td>\n",
       "      <td>6.866091</td>\n",
       "    </tr>\n",
       "    <tr>\n",
       "      <th>6</th>\n",
       "      <td>14.167183</td>\n",
       "      <td>12.458932</td>\n",
       "      <td>20.614212</td>\n",
       "      <td>1.989261</td>\n",
       "      <td>1.814128</td>\n",
       "      <td>12.993311</td>\n",
       "      <td>0.000000</td>\n",
       "      <td>13.442991</td>\n",
       "      <td>20.371862</td>\n",
       "      <td>19.830549</td>\n",
       "    </tr>\n",
       "    <tr>\n",
       "      <th>7</th>\n",
       "      <td>0.724968</td>\n",
       "      <td>1.072071</td>\n",
       "      <td>7.354987</td>\n",
       "      <td>13.967946</td>\n",
       "      <td>11.707502</td>\n",
       "      <td>0.450344</td>\n",
       "      <td>13.442991</td>\n",
       "      <td>0.000000</td>\n",
       "      <td>6.987534</td>\n",
       "      <td>6.416562</td>\n",
       "    </tr>\n",
       "    <tr>\n",
       "      <th>8</th>\n",
       "      <td>6.267658</td>\n",
       "      <td>8.034642</td>\n",
       "      <td>0.925326</td>\n",
       "      <td>20.746499</td>\n",
       "      <td>18.605923</td>\n",
       "      <td>7.435483</td>\n",
       "      <td>20.371862</td>\n",
       "      <td>6.987534</td>\n",
       "      <td>0.000000</td>\n",
       "      <td>0.643148</td>\n",
       "    </tr>\n",
       "    <tr>\n",
       "      <th>9</th>\n",
       "      <td>5.693486</td>\n",
       "      <td>7.453706</td>\n",
       "      <td>1.458710</td>\n",
       "      <td>20.241019</td>\n",
       "      <td>18.072554</td>\n",
       "      <td>6.866091</td>\n",
       "      <td>19.830549</td>\n",
       "      <td>6.416562</td>\n",
       "      <td>0.643148</td>\n",
       "      <td>0.000000</td>\n",
       "    </tr>\n",
       "  </tbody>\n",
       "</table>\n",
       "</div>"
      ],
      "text/plain": [
       "           0          1          2          3          4          5  \\\n",
       "0   0.000000   1.771461   6.651315  14.680812  12.429730   1.175307   \n",
       "1   1.771461   0.000000   8.421028  13.055398  10.744294   0.664342   \n",
       "2   6.651315   8.421028   0.000000  20.903063  18.831136   7.794631   \n",
       "3  14.680812  13.055398  20.903063   0.000000   2.584487  13.526285   \n",
       "4  12.429730  10.744294  18.831136   2.584487   0.000000  11.259292   \n",
       "5   1.175307   0.664342   7.794631  13.526285  11.259292   0.000000   \n",
       "6  14.167183  12.458932  20.614212   1.989261   1.814128  12.993311   \n",
       "7   0.724968   1.072071   7.354987  13.967946  11.707502   0.450344   \n",
       "8   6.267658   8.034642   0.925326  20.746499  18.605923   7.435483   \n",
       "9   5.693486   7.453706   1.458710  20.241019  18.072554   6.866091   \n",
       "\n",
       "           6          7          8          9  \n",
       "0  14.167183   0.724968   6.267658   5.693486  \n",
       "1  12.458932   1.072071   8.034642   7.453706  \n",
       "2  20.614212   7.354987   0.925326   1.458710  \n",
       "3   1.989261  13.967946  20.746499  20.241019  \n",
       "4   1.814128  11.707502  18.605923  18.072554  \n",
       "5  12.993311   0.450344   7.435483   6.866091  \n",
       "6   0.000000  13.442991  20.371862  19.830549  \n",
       "7  13.442991   0.000000   6.987534   6.416562  \n",
       "8  20.371862   6.987534   0.000000   0.643148  \n",
       "9  19.830549   6.416562   0.643148   0.000000  "
      ]
     },
     "execution_count": 187,
     "metadata": {},
     "output_type": "execute_result"
    }
   ],
   "source": [
    "pd.DataFrame(D_mat)"
   ]
  },
  {
   "cell_type": "code",
   "execution_count": 126,
   "metadata": {
    "ExecuteTime": {
     "end_time": "2018-02-23T16:57:04.741952",
     "start_time": "2018-02-23T16:57:04.709897"
    },
    "collapsed": false
   },
   "outputs": [
    {
     "data": {
      "text/plain": [
       "array([[ 0.,  0.,  0.],\n",
       "       [ 0.,  0.,  0.],\n",
       "       [ 0.,  0.,  0.]])"
      ]
     },
     "execution_count": 126,
     "metadata": {},
     "output_type": "execute_result"
    }
   ],
   "source": [
    "D_mat"
   ]
  },
  {
   "cell_type": "code",
   "execution_count": 132,
   "metadata": {
    "ExecuteTime": {
     "end_time": "2018-02-23T16:58:28.873786",
     "start_time": "2018-02-23T16:58:28.871743"
    },
    "collapsed": false
   },
   "outputs": [],
   "source": [
    "tt = list(permutations(range(3),2))"
   ]
  },
  {
   "cell_type": "code",
   "execution_count": 149,
   "metadata": {
    "ExecuteTime": {
     "end_time": "2018-02-23T17:01:01.203239",
     "start_time": "2018-02-23T17:01:01.199208"
    },
    "collapsed": false
   },
   "outputs": [
    {
     "data": {
      "text/plain": [
       "array([[ 0.,  0.,  0.],\n",
       "       [ 0.,  0.,  0.]])"
      ]
     },
     "execution_count": 149,
     "metadata": {},
     "output_type": "execute_result"
    }
   ],
   "source": [
    "D_mat[[1,2]]"
   ]
  },
  {
   "cell_type": "code",
   "execution_count": 150,
   "metadata": {
    "ExecuteTime": {
     "end_time": "2018-02-23T17:02:43.611486",
     "start_time": "2018-02-23T17:02:43.606613"
    },
    "collapsed": false
   },
   "outputs": [
    {
     "data": {
      "text/plain": [
       "array([[ 57.12172519,  28.43924636],\n",
       "       [ 83.50644394,  33.97959521],\n",
       "       [ 65.52938735,  12.06574223],\n",
       "       [ 71.73798547,  31.07179521],\n",
       "       [ 38.93129318,  28.21939171],\n",
       "       [ 96.00739878,  17.31691213],\n",
       "       [ 55.09282502,  16.61779461],\n",
       "       [ 83.76166503,  13.92368332],\n",
       "       [ 72.74301103,   4.55632699],\n",
       "       [ 90.12094449,  25.64633879]])"
      ]
     },
     "execution_count": 150,
     "metadata": {},
     "output_type": "execute_result"
    }
   ],
   "source": [
    "np.multiply(data2,data2)"
   ]
  },
  {
   "cell_type": "code",
   "execution_count": 166,
   "metadata": {
    "ExecuteTime": {
     "end_time": "2018-02-23T17:12:24.620438",
     "start_time": "2018-02-23T17:12:24.616217"
    },
    "collapsed": false
   },
   "outputs": [
    {
     "data": {
      "text/plain": [
       "(3, 2)"
      ]
     },
     "execution_count": 166,
     "metadata": {},
     "output_type": "execute_result"
    }
   ],
   "source": [
    "data2.shape"
   ]
  },
  {
   "cell_type": "code",
   "execution_count": 171,
   "metadata": {
    "ExecuteTime": {
     "end_time": "2018-02-23T17:14:02.139546",
     "start_time": "2018-02-23T17:14:02.135919"
    },
    "collapsed": false
   },
   "outputs": [
    {
     "data": {
      "text/plain": [
       "array([-2.8642465 , -2.28322115])"
      ]
     },
     "execution_count": 171,
     "metadata": {},
     "output_type": "execute_result"
    }
   ],
   "source": [
    "np.apply_along_axis(lambda x:tuple(x),axis=1,arr=data2)"
   ]
  },
  {
   "cell_type": "code",
   "execution_count": 170,
   "metadata": {
    "ExecuteTime": {
     "end_time": "2018-02-23T17:13:46.148468",
     "start_time": "2018-02-23T17:13:46.139941"
    },
    "collapsed": false
   },
   "outputs": [
    {
     "data": {
      "text/plain": [
       "(-2.8642464976774482, -2.2832211528832498)"
      ]
     },
     "execution_count": 170,
     "metadata": {},
     "output_type": "execute_result"
    }
   ],
   "source": [
    "tuple(data2[0])"
   ]
  },
  {
   "cell_type": "code",
   "execution_count": 162,
   "metadata": {
    "ExecuteTime": {
     "end_time": "2018-02-23T17:09:08.417955",
     "start_time": "2018-02-23T17:09:08.409466"
    },
    "collapsed": false
   },
   "outputs": [
    {
     "data": {
      "text/plain": [
       "array([[ -2.8642465 ,  -2.28322115,  -2.8642465 ,  -2.28322115,\n",
       "         -2.8642465 ,  -2.28322115],\n",
       "       [ 10.16543833,   6.78202416,  10.16543833,   6.78202416,\n",
       "         10.16543833,   6.78202416],\n",
       "       [ -0.16619602,  -7.36516776,  -0.16619602,  -7.36516776,\n",
       "         -0.16619602,  -7.36516776]])"
      ]
     },
     "execution_count": 162,
     "metadata": {},
     "output_type": "execute_result"
    }
   ],
   "source": [
    "np.tile(data2,len(data2))"
   ]
  },
  {
   "cell_type": "code",
   "execution_count": null,
   "metadata": {
    "collapsed": true
   },
   "outputs": [],
   "source": []
  },
  {
   "cell_type": "code",
   "execution_count": 154,
   "metadata": {
    "ExecuteTime": {
     "end_time": "2018-02-23T17:06:43.027172",
     "start_time": "2018-02-23T17:06:43.023768"
    },
    "collapsed": false
   },
   "outputs": [
    {
     "data": {
      "text/plain": [
       "(2,)"
      ]
     },
     "execution_count": 154,
     "metadata": {},
     "output_type": "execute_result"
    }
   ],
   "source": [
    "np.transpose([np.tile(data2, len(data2)), np.repeat(data2, len(data2))])"
   ]
  },
  {
   "cell_type": "code",
   "execution_count": 155,
   "metadata": {
    "ExecuteTime": {
     "end_time": "2018-02-23T17:06:59.767467",
     "start_time": "2018-02-23T17:06:59.751050"
    },
    "collapsed": false
   },
   "outputs": [
    {
     "data": {
      "text/plain": [
       "array([[-7.55789158, -5.33284599, -7.55789158, -5.33284599, -7.55789158,\n",
       "        -5.33284599, -7.55789158, -5.33284599, -7.55789158, -5.33284599,\n",
       "        -7.55789158, -5.33284599, -7.55789158, -5.33284599, -7.55789158,\n",
       "        -5.33284599, -7.55789158, -5.33284599, -7.55789158, -5.33284599],\n",
       "       [-9.13818603, -5.82920194, -9.13818603, -5.82920194, -9.13818603,\n",
       "        -5.82920194, -9.13818603, -5.82920194, -9.13818603, -5.82920194,\n",
       "        -9.13818603, -5.82920194, -9.13818603, -5.82920194, -9.13818603,\n",
       "        -5.82920194, -9.13818603, -5.82920194, -9.13818603, -5.82920194],\n",
       "       [-8.09502238, -3.47357773, -8.09502238, -3.47357773, -8.09502238,\n",
       "        -3.47357773, -8.09502238, -3.47357773, -8.09502238, -3.47357773,\n",
       "        -8.09502238, -3.47357773, -8.09502238, -3.47357773, -8.09502238,\n",
       "        -3.47357773, -8.09502238, -3.47357773, -8.09502238, -3.47357773],\n",
       "       [-8.46982795, -5.57420803, -8.46982795, -5.57420803, -8.46982795,\n",
       "        -5.57420803, -8.46982795, -5.57420803, -8.46982795, -5.57420803,\n",
       "        -8.46982795, -5.57420803, -8.46982795, -5.57420803, -8.46982795,\n",
       "        -5.57420803, -8.46982795, -5.57420803, -8.46982795, -5.57420803],\n",
       "       [-6.23949463, -5.31219274, -6.23949463, -5.31219274, -6.23949463,\n",
       "        -5.31219274, -6.23949463, -5.31219274, -6.23949463, -5.31219274,\n",
       "        -6.23949463, -5.31219274, -6.23949463, -5.31219274, -6.23949463,\n",
       "        -5.31219274, -6.23949463, -5.31219274, -6.23949463, -5.31219274],\n",
       "       [-9.79833653, -4.16135941, -9.79833653, -4.16135941, -9.79833653,\n",
       "        -4.16135941, -9.79833653, -4.16135941, -9.79833653, -4.16135941,\n",
       "        -9.79833653, -4.16135941, -9.79833653, -4.16135941, -9.79833653,\n",
       "        -4.16135941, -9.79833653, -4.16135941, -9.79833653, -4.16135941],\n",
       "       [-7.42245411, -4.07649293, -7.42245411, -4.07649293, -7.42245411,\n",
       "        -4.07649293, -7.42245411, -4.07649293, -7.42245411, -4.07649293,\n",
       "        -7.42245411, -4.07649293, -7.42245411, -4.07649293, -7.42245411,\n",
       "        -4.07649293, -7.42245411, -4.07649293, -7.42245411, -4.07649293],\n",
       "       [-9.15213992, -3.7314452 , -9.15213992, -3.7314452 , -9.15213992,\n",
       "        -3.7314452 , -9.15213992, -3.7314452 , -9.15213992, -3.7314452 ,\n",
       "        -9.15213992, -3.7314452 , -9.15213992, -3.7314452 , -9.15213992,\n",
       "        -3.7314452 , -9.15213992, -3.7314452 , -9.15213992, -3.7314452 ],\n",
       "       [-8.52895134, -2.13455545, -8.52895134, -2.13455545, -8.52895134,\n",
       "        -2.13455545, -8.52895134, -2.13455545, -8.52895134, -2.13455545,\n",
       "        -8.52895134, -2.13455545, -8.52895134, -2.13455545, -8.52895134,\n",
       "        -2.13455545, -8.52895134, -2.13455545, -8.52895134, -2.13455545],\n",
       "       [-9.49320517, -5.06422144, -9.49320517, -5.06422144, -9.49320517,\n",
       "        -5.06422144, -9.49320517, -5.06422144, -9.49320517, -5.06422144,\n",
       "        -9.49320517, -5.06422144, -9.49320517, -5.06422144, -9.49320517,\n",
       "        -5.06422144, -9.49320517, -5.06422144, -9.49320517, -5.06422144]])"
      ]
     },
     "execution_count": 155,
     "metadata": {},
     "output_type": "execute_result"
    }
   ],
   "source": [
    "np.tile(data2, len(data2))"
   ]
  },
  {
   "cell_type": "code",
   "execution_count": 192,
   "metadata": {
    "ExecuteTime": {
     "end_time": "2018-02-23T13:30:41.039527",
     "start_time": "2018-02-23T13:30:40.888535"
    },
    "collapsed": false,
    "scrolled": false
   },
   "outputs": [
    {
     "name": "stdout",
     "output_type": "stream",
     "text": [
      "147.415093386\n",
      "39.0871003311\n",
      "0.00715323807275\n"
     ]
    },
    {
     "data": {
      "text/plain": [
       "array([1, 0, 0, 0, 2, 0, 0, 0, 0, 2, 1, 1, 1, 1, 2, 0, 2, 1, 1, 1, 0, 0, 2,\n",
       "       1, 2, 0, 0, 1, 0, 0, 2, 0, 2, 2, 0, 1, 2, 0, 1, 2, 2, 2, 0, 1, 1, 2,\n",
       "       0, 0, 0, 2, 2, 1, 2, 0, 2, 0, 1, 1, 0, 0, 1, 0, 1, 2, 1, 2, 2, 2, 2,\n",
       "       1, 2, 0, 1, 0, 1, 2, 1, 0, 1, 2, 0, 0, 0, 1, 0, 2, 1, 2, 2, 0, 0, 2,\n",
       "       1, 2, 0, 2, 1, 0, 2, 0, 1, 0, 2, 2, 2, 0, 1, 2, 0, 1, 2, 2, 1, 1, 0,\n",
       "       0, 0, 0, 0, 1, 0, 1, 2, 0, 1, 1, 1, 0, 1, 1, 0, 1, 2, 2, 1, 1, 1, 2,\n",
       "       0, 1, 0, 2, 1, 0, 1, 1, 0, 0, 2, 2, 0, 0, 2, 1, 1, 1, 0, 1, 1, 1, 1,\n",
       "       1, 0, 0, 2, 2, 2, 1, 2, 0, 0, 0, 1, 1, 0, 0, 0, 2, 2, 1, 0, 1, 2, 0,\n",
       "       1, 2, 2, 0, 0, 0, 1, 1, 2, 1, 2, 2, 2, 0, 1, 1, 0, 1, 0, 2, 1, 1, 2,\n",
       "       2, 2, 2, 0, 0, 1, 2, 2, 2, 0, 0, 1, 2, 1, 1, 1, 1, 0, 1, 0, 1, 1, 1,\n",
       "       0, 0, 1, 0, 1, 0, 0, 2, 1, 2, 2, 2, 0, 1, 1, 2, 2, 0, 2, 1, 2, 2, 1,\n",
       "       0, 2, 0, 2, 0, 2, 1, 0, 2, 2, 2, 0, 0, 1, 0, 2, 1, 2, 2, 2, 2, 2, 1,\n",
       "       2, 2, 2, 0, 0, 1, 1, 0, 2, 2, 2, 2, 2, 0, 0, 0, 2, 1, 2, 1, 1, 1, 1,\n",
       "       1])"
      ]
     },
     "execution_count": 192,
     "metadata": {},
     "output_type": "execute_result"
    },
    {
     "data": {
      "image/png": "[encoded data removed]",
      "text/plain": [
       "<matplotlib.figure.Figure at 0x7f742e886f60>"
      ]
     },
     "metadata": {},
     "output_type": "display_data"
    }
   ],
   "source": [
    "K.train(data)"
   ]
  },
  {
   "cell_type": "code",
   "execution_count": 3,
   "metadata": {
    "ExecuteTime": {
     "end_time": "2018-02-23T15:59:01.965689",
     "start_time": "2018-02-23T15:58:59.642235"
    },
    "collapsed": true
   },
   "outputs": [],
   "source": [
    "from sklearn.datasets.samples_generator import make_blobs"
   ]
  },
  {
   "cell_type": "code",
   "execution_count": 126,
   "metadata": {
    "ExecuteTime": {
     "end_time": "2018-02-23T13:14:48.836571",
     "start_time": "2018-02-23T13:14:48.241435"
    },
    "collapsed": false
   },
   "outputs": [
    {
     "data": {
      "text/plain": [
       "[<matplotlib.lines.Line2D at 0x7f742f177eb8>]"
      ]
     },
     "execution_count": 126,
     "metadata": {},
     "output_type": "execute_result"
    },
    {
     "data": {
      "image/png": "[encoded data removed]",
      "text/plain": [
       "<matplotlib.figure.Figure at 0x7f742f1ac4e0>"
      ]
     },
     "metadata": {},
     "output_type": "display_data"
    }
   ],
   "source": [
    "data,target = make_blobs(n_samples=100,centers=3)\n",
    "plt.plot(data[:,0],data[:,1],'.r')"
   ]
  },
  {
   "cell_type": "markdown",
   "metadata": {},
   "source": [
    "## 过程逻辑"
   ]
  },
  {
   "cell_type": "code",
   "execution_count": 86,
   "metadata": {
    "ExecuteTime": {
     "end_time": "2018-02-23T10:48:37.897157",
     "start_time": "2018-02-23T10:48:37.893489"
    },
    "collapsed": false
   },
   "outputs": [
    {
     "data": {
      "text/plain": [
       "array([[ 5.44431036, -7.67480756],\n",
       "       [ 0.45652531,  6.90687315],\n",
       "       [-8.35406763,  4.92387282]])"
      ]
     },
     "execution_count": 86,
     "metadata": {},
     "output_type": "execute_result"
    }
   ],
   "source": [
    "avg_vector = data[np.random.randint(0,100,3)]\n",
    "avg_vector\n",
    "\n",
    "get_nearcore = lambda x:np.argmin(np.square(avg_vector - x).sum(axis=1))\n",
    "new_cluster = np.apply_along_axis(get_nearcore,axis=1,arr=data)\n",
    "\n",
    "clu_tag, new_avg = npi.group_by(new_cluster).mean(data)\n",
    "\n",
    "np.abs(new_avg - avg_vector)"
   ]
  },
  {
   "cell_type": "code",
   "execution_count": 113,
   "metadata": {
    "ExecuteTime": {
     "end_time": "2018-02-23T11:29:36.247408",
     "start_time": "2018-02-23T11:29:36.242109"
    },
    "collapsed": false
   },
   "outputs": [
    {
     "data": {
      "text/plain": [
       "7.2598103917821311"
      ]
     },
     "execution_count": 113,
     "metadata": {},
     "output_type": "execute_result"
    }
   ],
   "source": [
    "np.abs(new_avg - avg_vector).sum()"
   ]
  },
  {
   "cell_type": "code",
   "execution_count": 98,
   "metadata": {
    "ExecuteTime": {
     "end_time": "2018-02-23T11:18:29.565482",
     "start_time": "2018-02-23T11:18:29.562996"
    },
    "collapsed": false
   },
   "outputs": [],
   "source": [
    "df1 = pd.DataFrame(data)"
   ]
  },
  {
   "cell_type": "code",
   "execution_count": 103,
   "metadata": {
    "ExecuteTime": {
     "end_time": "2018-02-23T11:19:23.583917",
     "start_time": "2018-02-23T11:19:23.576878"
    },
    "collapsed": false
   },
   "outputs": [
    {
     "data": {
      "text/html": [
       "<div>\n",
       "<style scoped>\n",
       "    .dataframe tbody tr th:only-of-type {\n",
       "        vertical-align: middle;\n",
       "    }\n",
       "\n",
       "    .dataframe tbody tr th {\n",
       "        vertical-align: top;\n",
       "    }\n",
       "\n",
       "    .dataframe thead th {\n",
       "        text-align: right;\n",
       "    }\n",
       "</style>\n",
       "<table border=\"1\" class=\"dataframe\">\n",
       "  <thead>\n",
       "    <tr style=\"text-align: right;\">\n",
       "      <th></th>\n",
       "      <th>0</th>\n",
       "      <th>1</th>\n",
       "    </tr>\n",
       "  </thead>\n",
       "  <tbody>\n",
       "    <tr>\n",
       "      <th>0</th>\n",
       "      <td>6.961073</td>\n",
       "      <td>-6.675336</td>\n",
       "    </tr>\n",
       "    <tr>\n",
       "      <th>1</th>\n",
       "      <td>-0.324750</td>\n",
       "      <td>6.059510</td>\n",
       "    </tr>\n",
       "    <tr>\n",
       "      <th>2</th>\n",
       "      <td>-7.325980</td>\n",
       "      <td>7.010722</td>\n",
       "    </tr>\n",
       "  </tbody>\n",
       "</table>\n",
       "</div>"
      ],
      "text/plain": [
       "          0         1\n",
       "0  6.961073 -6.675336\n",
       "1 -0.324750  6.059510\n",
       "2 -7.325980  7.010722"
      ]
     },
     "execution_count": 103,
     "metadata": {},
     "output_type": "execute_result"
    }
   ],
   "source": [
    "df1.groupby(by=new_cluster).mean()"
   ]
  },
  {
   "cell_type": "code",
   "execution_count": null,
   "metadata": {
    "collapsed": true
   },
   "outputs": [],
   "source": [
    "np.bincount()"
   ]
  },
  {
   "cell_type": "code",
   "execution_count": 92,
   "metadata": {
    "ExecuteTime": {
     "end_time": "2018-02-23T10:59:51.143372",
     "start_time": "2018-02-23T10:59:51.136123"
    },
    "collapsed": false
   },
   "outputs": [
    {
     "ename": "ValueError",
     "evalue": "object too deep for desired array",
     "output_type": "error",
     "traceback": [
      "\u001b[0;31m---------------------------------------------------------------------------\u001b[0m",
      "\u001b[0;31mValueError\u001b[0m                                Traceback (most recent call last)",
      "\u001b[0;32m<ipython-input-92-9b7dfc87af5a>\u001b[0m in \u001b[0;36m<module>\u001b[0;34m()\u001b[0m\n\u001b[1;32m      1\u001b[0m \u001b[0munames\u001b[0m\u001b[0;34m,\u001b[0m \u001b[0midx\u001b[0m\u001b[0;34m,\u001b[0m \u001b[0mcounts\u001b[0m \u001b[0;34m=\u001b[0m \u001b[0mnp\u001b[0m\u001b[0;34m.\u001b[0m\u001b[0munique\u001b[0m\u001b[0;34m(\u001b[0m\u001b[0mnew_cluster\u001b[0m\u001b[0;34m,\u001b[0m \u001b[0mreturn_inverse\u001b[0m\u001b[0;34m=\u001b[0m\u001b[0;32mTrue\u001b[0m\u001b[0;34m,\u001b[0m \u001b[0mreturn_counts\u001b[0m\u001b[0;34m=\u001b[0m\u001b[0;32mTrue\u001b[0m\u001b[0;34m)\u001b[0m\u001b[0;34m\u001b[0m\u001b[0m\n\u001b[1;32m      2\u001b[0m \u001b[0;31m# now sum the values of pred corresponding to each index value\u001b[0m\u001b[0;34m\u001b[0m\u001b[0;34m\u001b[0m\u001b[0m\n\u001b[0;32m----> 3\u001b[0;31m \u001b[0msum_pred\u001b[0m \u001b[0;34m=\u001b[0m \u001b[0mnp\u001b[0m\u001b[0;34m.\u001b[0m\u001b[0mbincount\u001b[0m\u001b[0;34m(\u001b[0m\u001b[0midx\u001b[0m\u001b[0;34m,\u001b[0m \u001b[0mweights\u001b[0m\u001b[0;34m=\u001b[0m\u001b[0mdata\u001b[0m\u001b[0;34m)\u001b[0m\u001b[0;34m\u001b[0m\u001b[0m\n\u001b[0m\u001b[1;32m      4\u001b[0m \u001b[0;34m\u001b[0m\u001b[0m\n\u001b[1;32m      5\u001b[0m \u001b[0;31m# finally, divide by the number of occurrences for each user name\u001b[0m\u001b[0;34m\u001b[0m\u001b[0;34m\u001b[0m\u001b[0m\n",
      "\u001b[0;31mValueError\u001b[0m: object too deep for desired array"
     ]
    }
   ],
   "source": [
    "# now sum the values of pred corresponding to each index value\n",
    "sum_pred = np.bincount(idx, weights=data)\n",
    "\n",
    "# finally, divide by the number of occurrences for each user name\n",
    "mean_pred = sum_pred / counts"
   ]
  },
  {
   "cell_type": "code",
   "execution_count": null,
   "metadata": {
    "collapsed": true
   },
   "outputs": [],
   "source": []
  }
 ],
 "metadata": {
  "kernelspec": {
   "display_name": "Python 3",
   "language": "python",
   "name": "python3"
  },
  "language_info": {
   "codemirror_mode": {
    "name": "ipython",
    "version": 3
   },
   "file_extension": ".py",
   "mimetype": "text/x-python",
   "name": "python",
   "nbconvert_exporter": "python",
   "pygments_lexer": "ipython3",
   "version": "3.5.2"
  },
  "toc": {
   "colors": {
    "hover_highlight": "#DAA520",
    "running_highlight": "#FF0000",
    "selected_highlight": "#FFD700"
   },
   "moveMenuLeft": true,
   "nav_menu": {
    "height": "0px",
    "width": "0px"
   },
   "navigate_menu": true,
   "number_sections": true,
   "sideBar": true,
   "threshold": 4,
   "toc_cell": true,
   "toc_section_display": "block",
   "toc_window_display": true
  }
 },
 "nbformat": 4,
 "nbformat_minor": 2
}
