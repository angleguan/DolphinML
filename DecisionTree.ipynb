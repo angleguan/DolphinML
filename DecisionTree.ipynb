{
 "cells": [
  {
   "cell_type": "code",
   "execution_count": 13,
   "metadata": {
    "ExecuteTime": {
     "end_time": "2017-12-05T15:56:04.759352",
     "start_time": "2017-12-05T15:56:04.756918"
    },
    "collapsed": true
   },
   "outputs": [],
   "source": [
    "import numpy as np"
   ]
  },
  {
   "cell_type": "code",
   "execution_count": 369,
   "metadata": {
    "ExecuteTime": {
     "end_time": "2017-12-06T17:18:03.873000",
     "start_time": "2017-12-06T17:18:03.864575"
    },
    "collapsed": true
   },
   "outputs": [],
   "source": [
    "def DecisonTree(object):\n",
    "    def __init(self,**kwargs):\n",
    "        '''\n",
    "        Height: the Max Height of Tree\n",
    "        '''\n",
    "        self.Height = Height\n",
    "        self.task = task\n",
    "        self.Tree = {}\n",
    "        \n",
    "    def train(self,train_X,train_y):\n",
    "        '''\n",
    "        对于类别属性来说，有两种处理方法：\n",
    "        1. 按属性中所有的值来分类来生成树（C3.0等早期分类树就是这种方式）\n",
    "        2. 将类别属性One-hot 编码来这样就只有0-1变量了。（Xgboost,CART 是这种)\n",
    "        3. 其实如果按照最好的离散属性分割方式，应该穷举所有的组合，找到一个最好的分割方式。H20好像有这种实践。\n",
    "\n",
    "        对于连续属性来说，就很好办了，直接二分分类。\n",
    "        属性中的值来说，一般来说，如果是（0,1）变量，那么每次分类后就可以去掉这个特征了，对于连续变量就不是了，要继续保留参与分割。\n",
    "\n",
    "        本算法采用方法2处理离散变量。即不再区分特征是离散变量还是连续变量，这样做能降低代码复杂度，而且做到了分类和回归任务的统一处理。\n",
    "        本算法仅仅生成二叉树，不生成多叉树。\n",
    "        '''\n",
    "        '''\n",
    "        不可采用分割方式，将子数据集传入递归函数，这样会丢失feature 位置，也就没法记录分割位置了，哈哈哈\n",
    "        算了，还是切割吧。简化程序处理\n",
    "        '''\n",
    "        self.train_X = train_X\n",
    "        self.train_y = train_y\n",
    "        tree = TreeGenerate(train_X,train_y)\n",
    "        self.Tree = pruning(tree)"
   ]
  },
  {
   "cell_type": "code",
   "execution_count": 10,
   "metadata": {
    "ExecuteTime": {
     "end_time": "2017-12-05T15:50:00.893193",
     "start_time": "2017-12-05T15:50:00.883274"
    },
    "collapsed": false
   },
   "outputs": [],
   "source": [
    ">>> from sklearn.datasets import load_iris\n",
    ">>> from sklearn import tree\n",
    ">>> iris = load_iris()\n",
    "from sklearn.model_selection import train_test_split"
   ]
  },
  {
   "cell_type": "code",
   "execution_count": 11,
   "metadata": {
    "ExecuteTime": {
     "end_time": "2017-12-05T15:53:22.727905",
     "start_time": "2017-12-05T15:53:22.701290"
    },
    "collapsed": true
   },
   "outputs": [],
   "source": [
    "X_train, X_test, y_train, y_test = train_test_split(iris.data, iris.target, test_size=0.3, random_state=42)"
   ]
  },
  {
   "cell_type": "code",
   "execution_count": 319,
   "metadata": {
    "ExecuteTime": {
     "end_time": "2017-12-06T14:38:36.811136",
     "start_time": "2017-12-06T14:38:36.805128"
    },
    "collapsed": false
   },
   "outputs": [
    {
     "data": {
      "text/plain": [
       "array([2, 2, 1, 1, 0])"
      ]
     },
     "execution_count": 319,
     "metadata": {},
     "output_type": "execute_result"
    }
   ],
   "source": [
    "y_train[[1,2,3,7,99]]"
   ]
  },
  {
   "cell_type": "code",
   "execution_count": 49,
   "metadata": {
    "ExecuteTime": {
     "end_time": "2017-12-05T16:12:55.570980",
     "start_time": "2017-12-05T16:12:55.568404"
    },
    "collapsed": true
   },
   "outputs": [],
   "source": [
    "A = np.arange(X_train.shape[1])"
   ]
  },
  {
   "cell_type": "code",
   "execution_count": 140,
   "metadata": {
    "ExecuteTime": {
     "end_time": "2017-12-05T16:44:22.125217",
     "start_time": "2017-12-05T16:44:22.122827"
    },
    "collapsed": true
   },
   "outputs": [],
   "source": [
    "def chooseBestSplitfeature():\n",
    "    return 3"
   ]
  },
  {
   "cell_type": "code",
   "execution_count": 367,
   "metadata": {
    "ExecuteTime": {
     "end_time": "2017-12-06T17:11:40.969044",
     "start_time": "2017-12-06T17:11:40.949638"
    },
    "collapsed": true
   },
   "outputs": [],
   "source": [
    "class self():\n",
    "    X_train, X_test, y_train, y_test = train_test_split(iris.data, iris.target, test_size=0.3, random_state=42)\n",
    "    max_depth = 5\n",
    "    min_samples_split = 4\n",
    "    min_samples_leaf = 2\n",
    "    min_impurity_decrease = 0\n",
    "    \n",
    "    "
   ]
  },
  {
   "cell_type": "code",
   "execution_count": 576,
   "metadata": {
    "ExecuteTime": {
     "end_time": "2017-12-06T23:21:41.663649",
     "start_time": "2017-12-06T23:21:41.131697"
    },
    "code_folding": [
     63,
     68,
     75,
     83
    ],
    "collapsed": false
   },
   "outputs": [],
   "source": [
    "def TreeGenerate(X_train,y_train):\n",
    "    #X_train = self.X_train[indexes,cols]\n",
    "    #y_train = self.y_train[indexes]\n",
    "    best_feature,best_value = chooseBestSplitfeature(X_train,y_train)#选取最佳分裂属性，最佳分裂点\n",
    "    print('best_feature,best_value::',best_feature,best_value)\n",
    "    if best_feature is None:\n",
    "        return best_value\n",
    "    Tree = {}\n",
    "\n",
    "    Tree['splitF'] = best_feature\n",
    "    Tree['splitV'] = best_value\n",
    "    left_X_train,left_y_train,right_X_train,right_y_train = binSplit(X_train,y_train,best_feature,best_value)\n",
    "#     lef_cols = np.argwhere(np.logical_not((left_X_train==left_X_train[0]).all(axis=0))).flatten()\n",
    "#     lef_cols = np.argwhere(np.logical_not((left_X_train==left_X_train[0]).all(axis=0))).flatten()\n",
    "    Tree['left'] = TreeGenerate(left_X_train,left_y_train)\n",
    "    Tree['right'] = TreeGenerate(right_X_train,right_y_train)\n",
    "    return Tree\n",
    "    \n",
    "def chooseBestSplitfeature(X_train,y_train):\n",
    "    cls,cnt = np.unique(y_train,return_counts=True)#统计y值的数量\n",
    "    print('21,cls::',cls)\n",
    "    if cls.shape[0]==1:#如果y值全部一样，停止分裂\n",
    "        print('case 1:cls.shape[0]==1',cls)\n",
    "        node = cls[0]\n",
    "        return None,node\n",
    "    if (X_train == X_train[0]).all():\n",
    "        #如果属性值为空为空，或者X中全部样本相同，则返回y中出现最多的值\n",
    "        print('case 2:== X_train[0]).all()', X_train[0])\n",
    "        return None,get_NodeValue(y_train)\n",
    "    if X_train.shape[0] < self.min_samples_split:# 如果X数量小于最小样本分割数，停止分裂\n",
    "        print('case3 min_samples_split',X_train.shape[0])\n",
    "        return None,get_NodeValue(y_train)\n",
    "    \n",
    "    current_error = cal_Error(y_train)\n",
    "    print('current_error:',current_error)\n",
    "    best_feature = 0\n",
    "    best_value = get_NodeValue(y_train)\n",
    "    best_error = cal_Error(y_train)\n",
    "    for i in range(X_train.shape[1]):\n",
    "        cls = np.unique(X_train[:,i])\n",
    "        if cls.shape[0]==1:\n",
    "            continue\n",
    "        cls = np.delete(cls,np.argmin(cls))\n",
    "        for val in cls:\n",
    "            left_y_train,right_y_train = binSplit_y(X_train,y_train,i,val)\n",
    "            if (left_y_train.shape[0] < self.min_samples_leaf) or\\\n",
    "            (right_y_train.shape[0] <self.min_samples_leaf):\n",
    "                #print(left_y_train.shape,end=',')\n",
    "                #print(right_y_train.shape,end=',')\n",
    "                #error = cal_Error(y_train)\n",
    "                pass\n",
    "            else:\n",
    "                error = cal_Error(left_y_train,right_y_train)\n",
    "                if error < best_error:\n",
    "                    #print('error:',error)\n",
    "                    best_feature = i\n",
    "                    best_value = val\n",
    "                    best_error = error\n",
    "        #print('\\n')\n",
    "    if current_error - best_error < self.min_impurity_decrease:\n",
    "        print('case4 min_impurity_decrease',current_error - best_error)\n",
    "        return None,get_NodeValue(y_train)\n",
    "    \n",
    "    return best_feature,best_value\n",
    "            \n",
    "            \n",
    "def binSplit(X_train,y_train,feature,value):\n",
    "    con_lt = np.where(X_train[:,feature]<value)\n",
    "    con_get = np.where(X_train[:,feature]>= value)\n",
    "    return X_train[con_lt],y_train[con_lt],X_train[con_get],y_train[con_get]            \n",
    "\n",
    "def binSplit_y(X_train,y_train,feature,value):\n",
    "    #print(66,feature,value,end=';')\n",
    "    con_lt = np.where(X_train[:,feature]<value)\n",
    "    con_get = np.where(X_train[:,feature]>= value)\n",
    "    return y_train[con_lt],y_train[con_get]\n",
    "\n",
    "\n",
    "def get_NodeValue(y_train):\n",
    "    '''\n",
    "    如果是分类任务，返回出现频率最高的一个值。\n",
    "    如果是回归任务，返回数据平均值\n",
    "    '''\n",
    "    cls,cnt = np.unique(y_train,return_counts=True)\n",
    "    return max(zip(cls,cnt),key=lambda x:x[1])[0]\n",
    "\n",
    "def cal_Error(left_y_train,right_y_train=None):\n",
    "    '''\n",
    "    \n",
    "    分类任务是 计算gini，熵；回归任务一般是计算MAE。\n",
    "    refer:\n",
    "    [1] scikit-learn. http://scikit-learn.org/stable/modules/tree.html#classification-criteria\n",
    "    [2] 《机器学习》P79页4.2.3节基尼系数(周志华著作，西瓜书)\n",
    "    '''\n",
    "    #np.mean(y_train)\n",
    "    if right_y_train is None:\n",
    "        return get_gini(left_y_train)\n",
    "    left_gini = get_gini(left_y_train)\n",
    "    right_gini = get_gini(right_y_train)\n",
    "    gini = np.array([left_gini,right_gini])\n",
    "    shape_l = left_y_train.shape[0];shape_r = right_y_train.shape[0]\n",
    "    weight = np.array([shape_l,shape_r])/(shape_l+shape_r)\n",
    "    \n",
    "    \n",
    "    gini_index = (weight*gini).sum()\n",
    "    \n",
    "    return gini_index\n",
    "    \n",
    "def get_gini(y_train):\n",
    "    \n",
    "    lens = y_train.shape[0]\n",
    "    vals,cnts = np.unique(y_train,return_counts=True)\n",
    "    #print(vals,cnts,cnts/lens)\n",
    "    gini = 1 - ((cnts/lens)**2).sum()# 就是这么简单...\n",
    "    return gini\n",
    "    \n",
    "    \n",
    "\n",
    "def pruning(Tree):\n",
    "    '''\n",
    "    如果你把生成的树的图化出来，你会发现有些树的非叶子节点左右子树的值一样，这样肯定是不合理的，所以要有一个剪枝的buzhou\n",
    "    本函数只是为了优化树的结构，并不是用来防止过拟合的。\n",
    "    '''\n",
    "    if not isinstance(Tree,dict):\n",
    "        return Tree\n",
    "    if Tree['left'] == Tree['right']:\n",
    "        return Tree['left']\n",
    "    if isinstance(Tree['left'],dict):\n",
    "        Tree['left'] = pruning(Tree['left'])\n",
    "    if isinstance(Tree['right'],dict):\n",
    "        Tree['right'] = pruning(Tree['right'])\n",
    "    return Tree"
   ]
  },
  {
   "cell_type": "code",
   "execution_count": 541,
   "metadata": {
    "ExecuteTime": {
     "end_time": "2017-12-06T22:55:49.415876",
     "start_time": "2017-12-06T22:55:49.278388"
    },
    "collapsed": true
   },
   "outputs": [
    {
     "name": "stdout",
     "output_type": "stream",
     "text": [
      "21,cls:: [0 1 2]\n",
      "current_error: 0.664489795918\n",
      "best_feature,best_value:: 2 3.0\n",
      "21,cls:: [0]\n",
      "case 1:cls.shape[0]==1 [0]\n",
      "best_feature,best_value:: None 0\n",
      "21,cls:: [1 2]\n",
      "current_error: 0.5\n",
      "best_feature,best_value:: 2 4.8\n",
      "21,cls:: [1 2]\n",
      "current_error: 0.058769513315\n",
      "best_feature,best_value:: 0 5.0\n",
      "21,cls:: [1 2]\n",
      "case3 min_samples_split 2\n",
      "best_feature,best_value:: None 1\n",
      "21,cls:: [1]\n",
      "case 1:cls.shape[0]==1 [1]\n",
      "best_feature,best_value:: None 1\n",
      "21,cls:: [1 2]\n",
      "current_error: 0.214158239143\n",
      "best_feature,best_value:: 3 1.8\n",
      "21,cls:: [1 2]\n",
      "current_error: 0.5\n",
      "best_feature,best_value:: 2 5.0\n",
      "21,cls:: [1]\n",
      "case 1:cls.shape[0]==1 [1]\n",
      "best_feature,best_value:: None 1\n",
      "21,cls:: [1 2]\n",
      "current_error: 0.444444444444\n",
      "best_feature,best_value:: 3 1.6\n",
      "21,cls:: [2]\n",
      "case 1:cls.shape[0]==1 [2]\n",
      "best_feature,best_value:: None 2\n",
      "21,cls:: [1 2]\n",
      "case3 min_samples_split 3\n",
      "best_feature,best_value:: None 1\n",
      "21,cls:: [1 2]\n",
      "current_error: 0.058769513315\n",
      "best_feature,best_value:: 2 4.9\n",
      "21,cls:: [1 2]\n",
      "case3 min_samples_split 3\n",
      "best_feature,best_value:: None 2\n",
      "21,cls:: [2]\n",
      "case 1:cls.shape[0]==1 [2]\n",
      "best_feature,best_value:: None 2\n"
     ]
    }
   ],
   "source": [
    "tree = TreeGenerate(X_train,y_train)"
   ]
  },
  {
   "cell_type": "code",
   "execution_count": 556,
   "metadata": {
    "ExecuteTime": {
     "end_time": "2017-12-06T23:09:03.607290",
     "start_time": "2017-12-06T23:09:03.595533"
    },
    "collapsed": false
   },
   "outputs": [
    {
     "data": {
      "text/plain": [
       "False"
      ]
     },
     "execution_count": 556,
     "metadata": {},
     "output_type": "execute_result"
    }
   ],
   "source": [
    "tree['right']['left'] == tree['right']['right']"
   ]
  },
  {
   "cell_type": "code",
   "execution_count": 574,
   "metadata": {
    "ExecuteTime": {
     "end_time": "2017-12-06T23:17:22.808237",
     "start_time": "2017-12-06T23:17:22.802726"
    },
    "collapsed": false
   },
   "outputs": [],
   "source": [
    "tree2 = pruning(tree)"
   ]
  },
  {
   "cell_type": "code",
   "execution_count": 575,
   "metadata": {
    "ExecuteTime": {
     "end_time": "2017-12-06T23:17:27.534818",
     "start_time": "2017-12-06T23:17:27.521005"
    },
    "collapsed": false
   },
   "outputs": [
    {
     "data": {
      "text/plain": [
       "{'left': 0,\n",
       " 'right': {'left': 1,\n",
       "  'right': {'left': {'left': 1,\n",
       "    'right': {'left': 2,\n",
       "     'right': 1,\n",
       "     'splitF': 3,\n",
       "     'splitV': 1.6000000000000001},\n",
       "    'splitF': 2,\n",
       "    'splitV': 5.0},\n",
       "   'right': 2,\n",
       "   'splitF': 3,\n",
       "   'splitV': 1.8},\n",
       "  'splitF': 2,\n",
       "  'splitV': 4.7999999999999998},\n",
       " 'splitF': 2,\n",
       " 'splitV': 3.0}"
      ]
     },
     "execution_count": 575,
     "metadata": {},
     "output_type": "execute_result"
    }
   ],
   "source": [
    "tree2"
   ]
  },
  {
   "cell_type": "code",
   "execution_count": 571,
   "metadata": {
    "ExecuteTime": {
     "end_time": "2017-12-06T23:14:05.858276",
     "start_time": "2017-12-06T23:14:05.848106"
    },
    "collapsed": false
   },
   "outputs": [
    {
     "data": {
      "text/plain": [
       "{'left': 2, 'right': 1, 'splitF': 3, 'splitV': 1.6000000000000001}"
      ]
     },
     "execution_count": 571,
     "metadata": {},
     "output_type": "execute_result"
    }
   ],
   "source": [
    "tree2['right']['right']['left']['right']"
   ]
  },
  {
   "cell_type": "code",
   "execution_count": 572,
   "metadata": {
    "ExecuteTime": {
     "end_time": "2017-12-06T23:15:02.542636",
     "start_time": "2017-12-06T23:15:02.534263"
    },
    "collapsed": false
   },
   "outputs": [
    {
     "data": {
      "text/plain": [
       "True"
      ]
     },
     "execution_count": 572,
     "metadata": {},
     "output_type": "execute_result"
    }
   ],
   "source": [
    "'y' == 'y'"
   ]
  },
  {
   "cell_type": "code",
   "execution_count": 532,
   "metadata": {
    "ExecuteTime": {
     "end_time": "2017-12-06T22:38:16.500332",
     "start_time": "2017-12-06T22:38:16.494228"
    },
    "collapsed": false
   },
   "outputs": [
    {
     "data": {
      "text/plain": [
       "{'left': 2, 'right': 2, 'splitF': 2, 'splitV': 4.9000000000000004}"
      ]
     },
     "execution_count": 532,
     "metadata": {},
     "output_type": "execute_result"
    }
   ],
   "source": [
    "tree['right']['right']['right']"
   ]
  },
  {
   "cell_type": "code",
   "execution_count": 533,
   "metadata": {
    "ExecuteTime": {
     "end_time": "2017-12-06T22:39:24.779585",
     "start_time": "2017-12-06T22:39:24.775116"
    },
    "collapsed": false
   },
   "outputs": [
    {
     "data": {
      "text/plain": [
       "{'left': 0,\n",
       " 'right': {'left': {'left': 1, 'right': 1, 'splitF': 0, 'splitV': 5.0},\n",
       "  'right': {'left': {'left': 1,\n",
       "    'right': {'left': 2,\n",
       "     'right': 1,\n",
       "     'splitF': 3,\n",
       "     'splitV': 1.6000000000000001},\n",
       "    'splitF': 2,\n",
       "    'splitV': 5.0},\n",
       "   'right': {'left': 2, 'right': 2, 'splitF': 2, 'splitV': 4.9000000000000004},\n",
       "   'splitF': 3,\n",
       "   'splitV': 1.8},\n",
       "  'splitF': 2,\n",
       "  'splitV': 4.7999999999999998},\n",
       " 'splitF': 2,\n",
       " 'splitV': 3.0}"
      ]
     },
     "execution_count": 533,
     "metadata": {},
     "output_type": "execute_result"
    }
   ],
   "source": [
    "tree"
   ]
  },
  {
   "cell_type": "code",
   "execution_count": 492,
   "metadata": {
    "ExecuteTime": {
     "end_time": "2017-12-06T22:14:14.856421",
     "start_time": "2017-12-06T22:14:14.851469"
    },
    "collapsed": true
   },
   "outputs": [],
   "source": [
    "a=np.array([2,5])\n",
    "b=np.array([5,10])"
   ]
  },
  {
   "cell_type": "code",
   "execution_count": 509,
   "metadata": {
    "ExecuteTime": {
     "end_time": "2017-12-06T22:21:20.657685",
     "start_time": "2017-12-06T22:21:20.655312"
    },
    "collapsed": false
   },
   "outputs": [],
   "source": [
    "a,b = binSplit_y(X_train,y_train,2,3)"
   ]
  },
  {
   "cell_type": "code",
   "execution_count": 511,
   "metadata": {
    "ExecuteTime": {
     "end_time": "2017-12-06T22:21:27.068540",
     "start_time": "2017-12-06T22:21:27.061000"
    },
    "collapsed": false
   },
   "outputs": [
    {
     "name": "stdout",
     "output_type": "stream",
     "text": [
      "[0] [31] [ 1.]\n",
      "[1 2] [37 37] [ 0.5  0.5]\n"
     ]
    },
    {
     "data": {
      "text/plain": [
       "0.35238095238095241"
      ]
     },
     "execution_count": 511,
     "metadata": {},
     "output_type": "execute_result"
    }
   ],
   "source": [
    "cal_Error(a,b)"
   ]
  },
  {
   "cell_type": "code",
   "execution_count": 488,
   "metadata": {
    "ExecuteTime": {
     "end_time": "2017-12-06T22:03:36.234975",
     "start_time": "2017-12-06T22:03:36.223919"
    },
    "collapsed": false
   },
   "outputs": [
    {
     "name": "stdout",
     "output_type": "stream",
     "text": [
      "[0 1 2] [31 37 37] [ 0.2952381   0.35238095  0.35238095]\n"
     ]
    },
    {
     "data": {
      "text/plain": [
       "0.66448979591836732"
      ]
     },
     "execution_count": 488,
     "metadata": {},
     "output_type": "execute_result"
    }
   ],
   "source": [
    "get_gini(y_train)"
   ]
  },
  {
   "cell_type": "code",
   "execution_count": 473,
   "metadata": {
    "ExecuteTime": {
     "end_time": "2017-12-06T21:54:13.578613",
     "start_time": "2017-12-06T21:54:13.574921"
    },
    "collapsed": true
   },
   "outputs": [],
   "source": [
    "A = np.array([1,1,2,2,3,3])\n",
    "\n",
    "a,b = np.unique(A,return_counts=True)\n",
    "\n",
    "1 - ((b/6)**2).sum()"
   ]
  },
  {
   "cell_type": "code",
   "execution_count": 521,
   "metadata": {
    "ExecuteTime": {
     "end_time": "2017-12-06T22:28:14.130152",
     "start_time": "2017-12-06T22:28:14.114098"
    },
    "collapsed": false,
    "scrolled": false
   },
   "outputs": [
    {
     "name": "stdout",
     "output_type": "stream",
     "text": [
      "current_error: 0.664489795918\n",
      "error: 0.642577030812\n",
      "error: 0.63498349835\n",
      "error: 0.611273080661\n",
      "error: 0.603043691703\n",
      "error: 0.594642857143\n",
      "error: 0.591627420199\n",
      "error: 0.554665414906\n",
      "error: 0.488761904762\n",
      "error: 0.485135355512\n",
      "error: 0.473112073112\n",
      "error: 0.455647573039\n",
      "\n",
      "\n",
      "\n",
      "\n",
      "error: 0.455516840883\n",
      "error: 0.419288728149\n",
      "error: 0.380200501253\n",
      "error: 0.352380952381\n",
      "\n",
      "\n",
      "\n",
      "\n"
     ]
    },
    {
     "data": {
      "text/plain": [
       "(2, 3.0)"
      ]
     },
     "execution_count": 521,
     "metadata": {},
     "output_type": "execute_result"
    }
   ],
   "source": [
    "chooseBestSplitfeature(X_train,y_train)"
   ]
  },
  {
   "cell_type": "code",
   "execution_count": null,
   "metadata": {
    "collapsed": true
   },
   "outputs": [],
   "source": [
    "X_train[:,2]"
   ]
  },
  {
   "cell_type": "code",
   "execution_count": 491,
   "metadata": {
    "ExecuteTime": {
     "end_time": "2017-12-06T22:05:58.116749",
     "start_time": "2017-12-06T22:05:58.110899"
    },
    "collapsed": false
   },
   "outputs": [
    {
     "data": {
      "text/plain": [
       "array([ 1.1,  1.2,  1.3,  1.4,  1.5,  1.6,  1.7,  1.9,  3. ,  3.3,  3.5,\n",
       "        3.7,  3.8,  3.9,  4. ,  4.1,  4.2,  4.3,  4.4,  4.5,  4.6,  4.7,\n",
       "        4.8,  4.9,  5. ,  5.1,  5.2,  5.3,  5.4,  5.5,  5.6,  5.7,  5.8,\n",
       "        5.9,  6. ,  6.1,  6.3,  6.6,  6.7])"
      ]
     },
     "execution_count": 491,
     "metadata": {},
     "output_type": "execute_result"
    }
   ],
   "source": [
    "np.unique(X_train[:,2])"
   ]
  },
  {
   "cell_type": "code",
   "execution_count": 460,
   "metadata": {
    "ExecuteTime": {
     "end_time": "2017-12-06T20:55:33.339460",
     "start_time": "2017-12-06T20:55:33.333799"
    },
    "collapsed": false
   },
   "outputs": [
    {
     "data": {
      "text/plain": [
       "array([ 5.5,  6.3,  6.4,  6.6,  7.2,  5.7,  7.6,  5.6,  5.1,  7.7,  5.8,\n",
       "        5.2,  5. ,  5.1,  5. ,  6.3,  4.8,  5. ,  5.1,  5.6,  5.1,  5.7,\n",
       "        7.7,  4.6,  6.2,  5.7,  5.5,  6. ,  5.8,  6. ,  5.4,  6.2,  5.5,\n",
       "        5.4,  5. ,  6.4,  5. ,  5. ,  5.5,  6.7,  4.9,  5.8,  5. ,  5. ,\n",
       "        5.9,  5.1,  6.9,  6. ,  6.1,  7.7,  5.5,  4.4,  4.3,  6. ,  7.2,\n",
       "        4.6,  5.1,  4.4,  6.3,  6.3,  4.6,  6.8,  6.3,  4.7,  6.1,  6.5,\n",
       "        6.2,  7. ,  6.4,  5.1,  6.9,  5.9,  6.5,  5.7,  5.2,  6.1,  4.5,\n",
       "        6.6,  5.5,  5.3,  5.6,  7.3,  6.7,  5.1,  4.9,  6.7,  7.2,  4.9,\n",
       "        6.7,  4.9,  6.9,  7.4,  6.3,  5.7,  6.5,  6.3,  6.4,  5.6,  5.9,\n",
       "        5.4,  6.1,  4.9,  5.8,  5.8,  7.1])"
      ]
     },
     "execution_count": 460,
     "metadata": {},
     "output_type": "execute_result"
    }
   ],
   "source": [
    "X_train[:,0]"
   ]
  },
  {
   "cell_type": "code",
   "execution_count": 436,
   "metadata": {
    "ExecuteTime": {
     "end_time": "2017-12-06T20:45:36.448239",
     "start_time": "2017-12-06T20:45:36.442656"
    },
    "collapsed": false,
    "scrolled": true
   },
   "outputs": [
    {
     "name": "stdout",
     "output_type": "stream",
     "text": [
      "66 0 4.4\n"
     ]
    },
    {
     "data": {
      "text/plain": [
       "(array([0]),\n",
       " array([1, 2, 2, 1, 2, 1, 2, 1, 0, 2, 1, 0, 0, 0, 1, 2, 0, 0, 0, 1, 0, 1, 2,\n",
       "        0, 1, 2, 0, 2, 2, 1, 1, 2, 1, 0, 1, 2, 0, 0, 1, 1, 0, 2, 0, 0, 1, 1,\n",
       "        2, 1, 2, 2, 1, 0, 2, 2, 0, 0, 0, 1, 2, 0, 2, 2, 0, 1, 1, 2, 1, 2, 0,\n",
       "        2, 1, 2, 1, 1, 1, 0, 1, 1, 0, 1, 2, 2, 0, 1, 2, 2, 0, 2, 0, 1, 2, 2,\n",
       "        1, 2, 1, 1, 2, 2, 0, 1, 2, 0, 1, 2]))"
      ]
     },
     "execution_count": 436,
     "metadata": {},
     "output_type": "execute_result"
    }
   ],
   "source": [
    "binSplit_y(X_train,y_train,0,4.4)"
   ]
  },
  {
   "cell_type": "code",
   "execution_count": 430,
   "metadata": {
    "ExecuteTime": {
     "end_time": "2017-12-06T20:41:20.428197",
     "start_time": "2017-12-06T20:41:20.423446"
    },
    "collapsed": false
   },
   "outputs": [
    {
     "data": {
      "text/plain": [
       "array([1, 1, 1, 0, 1, 0, 0, 0, 1, 0, 0, 0, 1, 0, 1, 0, 2, 0, 2, 1, 1, 0, 1,\n",
       "       0, 0, 1, 0, 2, 0, 0, 1, 1, 0, 0, 0, 0, 0, 0, 0, 0, 1, 1, 0, 1, 0, 1,\n",
       "       0, 1, 0, 0, 1, 2, 0, 2, 0, 1])"
      ]
     },
     "execution_count": 430,
     "metadata": {},
     "output_type": "execute_result"
    }
   ],
   "source": [
    "con_lt = np.where(X_train[:,0]<5.9)\n",
    "con_get = np.where(X_train[:,0]>= 5.9)\n",
    "y_train[con_lt]\n",
    "#y_train[con_get]"
   ]
  },
  {
   "cell_type": "code",
   "execution_count": 431,
   "metadata": {
    "ExecuteTime": {
     "end_time": "2017-12-06T20:41:21.160581",
     "start_time": "2017-12-06T20:41:21.154443"
    },
    "collapsed": false
   },
   "outputs": [
    {
     "data": {
      "text/plain": [
       "array([2, 2, 1, 2, 2, 2, 2, 2, 1, 2, 1, 2, 2, 1, 1, 2, 1, 2, 2, 2, 2, 1, 2,\n",
       "       2, 2, 1, 1, 2, 1, 2, 2, 1, 2, 1, 1, 2, 2, 2, 2, 2, 1, 2, 2, 2, 1, 1,\n",
       "       2, 1, 2])"
      ]
     },
     "execution_count": 431,
     "metadata": {},
     "output_type": "execute_result"
    }
   ],
   "source": [
    "y_train[con_get]"
   ]
  },
  {
   "cell_type": "code",
   "execution_count": 432,
   "metadata": {
    "ExecuteTime": {
     "end_time": "2017-12-06T20:41:21.965862",
     "start_time": "2017-12-06T20:41:21.959267"
    },
    "collapsed": false
   },
   "outputs": [
    {
     "data": {
      "text/plain": [
       "array([ 4.3,  4.4,  4.5,  4.6,  4.7,  4.8,  4.9,  5. ,  5.1,  5.2,  5.3,\n",
       "        5.4,  5.5,  5.6,  5.7,  5.8,  5.9,  6. ,  6.1,  6.2,  6.3,  6.4,\n",
       "        6.5,  6.6,  6.7,  6.8,  6.9,  7. ,  7.1,  7.2,  7.3,  7.4,  7.6,\n",
       "        7.7])"
      ]
     },
     "execution_count": 432,
     "metadata": {},
     "output_type": "execute_result"
    }
   ],
   "source": [
    "np.unique(X_train[:,0])"
   ]
  },
  {
   "cell_type": "code",
   "execution_count": 360,
   "metadata": {
    "ExecuteTime": {
     "end_time": "2017-12-06T15:59:41.315885",
     "start_time": "2017-12-06T15:59:41.313362"
    },
    "collapsed": false
   },
   "outputs": [],
   "source": [
    "cls = np.delete(cls,np.argmin(cls))"
   ]
  },
  {
   "cell_type": "code",
   "execution_count": null,
   "metadata": {
    "collapsed": true
   },
   "outputs": [],
   "source": []
  },
  {
   "cell_type": "code",
   "execution_count": 362,
   "metadata": {
    "ExecuteTime": {
     "end_time": "2017-12-06T15:59:54.068566",
     "start_time": "2017-12-06T15:59:54.060963"
    },
    "collapsed": false
   },
   "outputs": [
    {
     "name": "stdout",
     "output_type": "stream",
     "text": [
      "5.5\n"
     ]
    }
   ],
   "source": [
    "for i in cls:\n",
    "    print(i)"
   ]
  },
  {
   "cell_type": "code",
   "execution_count": 201,
   "metadata": {
    "ExecuteTime": {
     "end_time": "2017-12-06T10:45:50.271287",
     "start_time": "2017-12-06T10:45:50.264240"
    },
    "collapsed": false,
    "scrolled": false
   },
   "outputs": [
    {
     "data": {
      "text/plain": [
       "(41,)"
      ]
     },
     "execution_count": 201,
     "metadata": {},
     "output_type": "execute_result"
    }
   ],
   "source": [
    "np.where(X_train[:,1]>3)[0].shape"
   ]
  },
  {
   "cell_type": "code",
   "execution_count": 216,
   "metadata": {
    "ExecuteTime": {
     "end_time": "2017-12-06T13:26:12.843203",
     "start_time": "2017-12-06T13:26:12.837687"
    },
    "collapsed": false
   },
   "outputs": [
    {
     "data": {
      "text/plain": [
       "(4, 105)"
      ]
     },
     "execution_count": 216,
     "metadata": {},
     "output_type": "execute_result"
    }
   ],
   "source": [
    "X_train.T.shape"
   ]
  },
  {
   "cell_type": "code",
   "execution_count": 217,
   "metadata": {
    "ExecuteTime": {
     "end_time": "2017-12-06T13:26:53.050298",
     "start_time": "2017-12-06T13:26:53.045095"
    },
    "collapsed": true
   },
   "outputs": [
    {
     "data": {
      "text/plain": [
       "array([[ True,  True,  True,  True,  True,  True,  True,  True,  True,\n",
       "         True,  True,  True,  True,  True,  True,  True,  True,  True,\n",
       "         True,  True,  True,  True,  True,  True,  True,  True,  True,\n",
       "         True,  True,  True,  True,  True,  True,  True,  True,  True,\n",
       "         True,  True,  True,  True,  True,  True,  True,  True,  True,\n",
       "         True,  True,  True,  True,  True,  True,  True,  True,  True,\n",
       "         True,  True,  True,  True,  True,  True,  True,  True,  True,\n",
       "         True,  True,  True,  True,  True,  True,  True,  True,  True,\n",
       "         True,  True,  True,  True,  True,  True,  True,  True,  True,\n",
       "         True,  True,  True,  True,  True,  True,  True,  True,  True,\n",
       "         True,  True,  True,  True,  True,  True,  True,  True,  True,\n",
       "         True,  True,  True,  True,  True,  True],\n",
       "       [False, False, False, False, False, False, False, False, False,\n",
       "        False, False, False, False, False, False, False, False, False,\n",
       "        False, False, False, False, False, False, False, False, False,\n",
       "        False, False, False, False, False, False, False, False, False,\n",
       "        False, False, False, False, False, False, False, False, False,\n",
       "        False, False, False, False, False, False, False, False, False,\n",
       "        False, False, False, False, False, False, False, False, False,\n",
       "        False, False, False, False, False, False, False, False, False,\n",
       "        False, False, False, False, False, False, False, False, False,\n",
       "        False, False, False, False, False, False, False, False, False,\n",
       "        False, False, False, False, False, False, False, False, False,\n",
       "        False, False, False, False, False, False],\n",
       "       [False, False, False, False, False, False, False, False, False,\n",
       "        False, False, False, False, False, False, False, False, False,\n",
       "        False, False, False, False, False, False, False, False, False,\n",
       "        False, False, False, False, False, False, False, False, False,\n",
       "        False, False, False, False, False, False, False, False, False,\n",
       "        False, False, False, False, False, False, False, False, False,\n",
       "        False, False, False, False, False, False, False, False, False,\n",
       "        False, False, False, False, False, False, False, False, False,\n",
       "        False, False, False, False, False, False, False, False, False,\n",
       "        False, False, False, False, False, False, False, False, False,\n",
       "        False, False, False, False, False, False, False, False, False,\n",
       "        False, False, False, False, False, False],\n",
       "       [False, False, False, False, False, False, False, False, False,\n",
       "        False, False, False, False, False, False, False, False, False,\n",
       "        False, False, False, False, False, False, False, False, False,\n",
       "        False, False, False, False, False, False, False, False, False,\n",
       "        False, False, False, False, False, False, False, False, False,\n",
       "        False, False, False, False, False, False, False, False, False,\n",
       "        False, False, False, False, False, False, False, False, False,\n",
       "        False, False, False, False, False, False, False, False, False,\n",
       "        False, False, False, False, False, False, False, False, False,\n",
       "        False, False, False, False, False, False, False, False, False,\n",
       "        False, False, False, False, False, False, False, False, False,\n",
       "        False, False, False, False, False, False]], dtype=bool)"
      ]
     },
     "execution_count": 217,
     "metadata": {},
     "output_type": "execute_result"
    }
   ],
   "source": [
    "X_train.T==X_train.T[0]"
   ]
  },
  {
   "cell_type": "code",
   "execution_count": 220,
   "metadata": {
    "ExecuteTime": {
     "end_time": "2017-12-06T13:33:11.359821",
     "start_time": "2017-12-06T13:33:11.353620"
    },
    "collapsed": false
   },
   "outputs": [
    {
     "name": "stdout",
     "output_type": "stream",
     "text": [
      "[[7 4 5]\n",
      " [7 6 9]]\n"
     ]
    }
   ],
   "source": [
    "def myfunc(a,b):\n",
    "    if (a>b): return a\n",
    "    else: return b\n",
    "vecfunc = np.vectorize(myfunc)\n",
    "result=vecfunc([[1,2,3],[5,6,9]],[7,4,5])\n",
    "print(result)\n"
   ]
  },
  {
   "cell_type": "code",
   "execution_count": 229,
   "metadata": {
    "ExecuteTime": {
     "end_time": "2017-12-06T13:41:31.900018",
     "start_time": "2017-12-06T13:41:31.893467"
    },
    "collapsed": false
   },
   "outputs": [
    {
     "ename": "IndexError",
     "evalue": "arrays used as indices must be of integer (or boolean) type",
     "output_type": "error",
     "traceback": [
      "\u001b[0;31m-----------------------------------------------------------------\u001b[0m",
      "\u001b[0;31mIndexError\u001b[0m                      Traceback (most recent call last)",
      "\u001b[0;32m<ipython-input-229-6191361aa618>\u001b[0m in \u001b[0;36m<module>\u001b[0;34m()\u001b[0m\n\u001b[0;32m----> 1\u001b[0;31m \u001b[0mX_train\u001b[0m\u001b[0;34m[\u001b[0m\u001b[0mnp\u001b[0m\u001b[0;34m.\u001b[0m\u001b[0munique\u001b[0m\u001b[0;34m(\u001b[0m\u001b[0mX_train\u001b[0m\u001b[0;34m)\u001b[0m\u001b[0;34m]\u001b[0m\u001b[0;34m\u001b[0m\u001b[0m\n\u001b[0m",
      "\u001b[0;31mIndexError\u001b[0m: arrays used as indices must be of integer (or boolean) type"
     ]
    }
   ],
   "source": [
    "X_train[np.unique(X_train)]"
   ]
  },
  {
   "cell_type": "code",
   "execution_count": 238,
   "metadata": {
    "ExecuteTime": {
     "end_time": "2017-12-06T13:50:52.675031",
     "start_time": "2017-12-06T13:50:52.669741"
    },
    "collapsed": true
   },
   "outputs": [],
   "source": [
    "A=np.array([[1,2,3,4],[1,3,3,2],[1,5,6,89]])"
   ]
  },
  {
   "cell_type": "code",
   "execution_count": 239,
   "metadata": {
    "ExecuteTime": {
     "end_time": "2017-12-06T13:50:54.425396",
     "start_time": "2017-12-06T13:50:54.421189"
    },
    "collapsed": false
   },
   "outputs": [
    {
     "data": {
      "text/plain": [
       "array([[ 1,  2,  3,  4],\n",
       "       [ 1,  3,  3,  2],\n",
       "       [ 1,  5,  6, 89]])"
      ]
     },
     "execution_count": 239,
     "metadata": {},
     "output_type": "execute_result"
    }
   ],
   "source": [
    "A"
   ]
  },
  {
   "cell_type": "code",
   "execution_count": 250,
   "metadata": {
    "ExecuteTime": {
     "end_time": "2017-12-06T13:55:45.479825",
     "start_time": "2017-12-06T13:55:45.468800"
    },
    "collapsed": true
   },
   "outputs": [
    {
     "data": {
      "text/plain": [
       "array([[ 5.5,  2.4,  3.7,  1. ],\n",
       "       [ 6.3,  2.8,  5.1,  1.5],\n",
       "       [ 6.4,  3.1,  5.5,  1.8],\n",
       "       [ 6.6,  3. ,  4.4,  1.4],\n",
       "       [ 7.2,  3.6,  6.1,  2.5],\n",
       "       [ 5.7,  2.9,  4.2,  1.3],\n",
       "       [ 7.6,  3. ,  6.6,  2.1],\n",
       "       [ 5.6,  3. ,  4.5,  1.5],\n",
       "       [ 5.1,  3.5,  1.4,  0.2],\n",
       "       [ 7.7,  2.8,  6.7,  2. ],\n",
       "       [ 5.8,  2.7,  4.1,  1. ],\n",
       "       [ 5.2,  3.4,  1.4,  0.2],\n",
       "       [ 5. ,  3.5,  1.3,  0.3],\n",
       "       [ 5.1,  3.8,  1.9,  0.4],\n",
       "       [ 5. ,  2. ,  3.5,  1. ],\n",
       "       [ 6.3,  2.7,  4.9,  1.8],\n",
       "       [ 4.8,  3.4,  1.9,  0.2],\n",
       "       [ 5. ,  3. ,  1.6,  0.2],\n",
       "       [ 5.1,  3.3,  1.7,  0.5],\n",
       "       [ 5.6,  2.7,  4.2,  1.3],\n",
       "       [ 5.1,  3.4,  1.5,  0.2],\n",
       "       [ 5.7,  3. ,  4.2,  1.2],\n",
       "       [ 7.7,  3.8,  6.7,  2.2],\n",
       "       [ 4.6,  3.2,  1.4,  0.2],\n",
       "       [ 6.2,  2.9,  4.3,  1.3],\n",
       "       [ 5.7,  2.5,  5. ,  2. ],\n",
       "       [ 5.5,  4.2,  1.4,  0.2],\n",
       "       [ 6. ,  3. ,  4.8,  1.8],\n",
       "       [ 5.8,  2.7,  5.1,  1.9],\n",
       "       [ 6. ,  2.2,  4. ,  1. ],\n",
       "       [ 5.4,  3. ,  4.5,  1.5],\n",
       "       [ 6.2,  3.4,  5.4,  2.3],\n",
       "       [ 5.5,  2.3,  4. ,  1.3],\n",
       "       [ 5.4,  3.9,  1.7,  0.4],\n",
       "       [ 5. ,  2.3,  3.3,  1. ],\n",
       "       [ 6.4,  2.7,  5.3,  1.9],\n",
       "       [ 5. ,  3.3,  1.4,  0.2],\n",
       "       [ 5. ,  3.2,  1.2,  0.2],\n",
       "       [ 5.5,  2.4,  3.8,  1.1],\n",
       "       [ 6.7,  3. ,  5. ,  1.7],\n",
       "       [ 4.9,  3.1,  1.5,  0.1],\n",
       "       [ 5.8,  2.8,  5.1,  2.4],\n",
       "       [ 5. ,  3.4,  1.5,  0.2],\n",
       "       [ 5. ,  3.5,  1.6,  0.6],\n",
       "       [ 5.9,  3.2,  4.8,  1.8],\n",
       "       [ 5.1,  2.5,  3. ,  1.1],\n",
       "       [ 6.9,  3.2,  5.7,  2.3],\n",
       "       [ 6. ,  2.7,  5.1,  1.6],\n",
       "       [ 6.1,  2.6,  5.6,  1.4],\n",
       "       [ 7.7,  3. ,  6.1,  2.3],\n",
       "       [ 5.5,  2.5,  4. ,  1.3],\n",
       "       [ 4.4,  2.9,  1.4,  0.2],\n",
       "       [ 4.3,  3. ,  1.1,  0.1],\n",
       "       [ 6. ,  2.2,  5. ,  1.5],\n",
       "       [ 7.2,  3.2,  6. ,  1.8],\n",
       "       [ 4.6,  3.1,  1.5,  0.2],\n",
       "       [ 5.1,  3.5,  1.4,  0.3],\n",
       "       [ 4.4,  3. ,  1.3,  0.2],\n",
       "       [ 6.3,  2.5,  4.9,  1.5],\n",
       "       [ 6.3,  3.4,  5.6,  2.4],\n",
       "       [ 4.6,  3.4,  1.4,  0.3],\n",
       "       [ 6.8,  3. ,  5.5,  2.1],\n",
       "       [ 6.3,  3.3,  6. ,  2.5],\n",
       "       [ 4.7,  3.2,  1.3,  0.2],\n",
       "       [ 6.1,  2.9,  4.7,  1.4],\n",
       "       [ 6.5,  2.8,  4.6,  1.5],\n",
       "       [ 6.2,  2.8,  4.8,  1.8],\n",
       "       [ 7. ,  3.2,  4.7,  1.4],\n",
       "       [ 6.4,  3.2,  5.3,  2.3],\n",
       "       [ 5.1,  3.8,  1.6,  0.2],\n",
       "       [ 6.9,  3.1,  5.4,  2.1],\n",
       "       [ 5.9,  3. ,  4.2,  1.5],\n",
       "       [ 6.5,  3. ,  5.2,  2. ],\n",
       "       [ 5.7,  2.6,  3.5,  1. ],\n",
       "       [ 5.2,  2.7,  3.9,  1.4],\n",
       "       [ 6.1,  3. ,  4.6,  1.4],\n",
       "       [ 4.5,  2.3,  1.3,  0.3],\n",
       "       [ 6.6,  2.9,  4.6,  1.3],\n",
       "       [ 5.5,  2.6,  4.4,  1.2],\n",
       "       [ 5.3,  3.7,  1.5,  0.2],\n",
       "       [ 5.6,  3. ,  4.1,  1.3],\n",
       "       [ 7.3,  2.9,  6.3,  1.8],\n",
       "       [ 6.7,  3.3,  5.7,  2.1],\n",
       "       [ 5.1,  3.7,  1.5,  0.4],\n",
       "       [ 4.9,  2.4,  3.3,  1. ],\n",
       "       [ 6.7,  3.3,  5.7,  2.5],\n",
       "       [ 7.2,  3. ,  5.8,  1.6],\n",
       "       [ 4.9,  3.1,  1.5,  0.1],\n",
       "       [ 6.7,  3.1,  5.6,  2.4],\n",
       "       [ 4.9,  3. ,  1.4,  0.2],\n",
       "       [ 6.9,  3.1,  4.9,  1.5],\n",
       "       [ 7.4,  2.8,  6.1,  1.9],\n",
       "       [ 6.3,  2.9,  5.6,  1.8],\n",
       "       [ 5.7,  2.8,  4.1,  1.3],\n",
       "       [ 6.5,  3. ,  5.5,  1.8],\n",
       "       [ 6.3,  2.3,  4.4,  1.3],\n",
       "       [ 6.4,  2.9,  4.3,  1.3],\n",
       "       [ 5.6,  2.8,  4.9,  2. ],\n",
       "       [ 5.9,  3. ,  5.1,  1.8],\n",
       "       [ 5.4,  3.4,  1.7,  0.2],\n",
       "       [ 6.1,  2.8,  4. ,  1.3],\n",
       "       [ 4.9,  2.5,  4.5,  1.7],\n",
       "       [ 5.8,  4. ,  1.2,  0.2],\n",
       "       [ 5.8,  2.6,  4. ,  1.2],\n",
       "       [ 7.1,  3. ,  5.9,  2.1]])"
      ]
     },
     "execution_count": 250,
     "metadata": {},
     "output_type": "execute_result"
    }
   ],
   "source": [
    "X_train"
   ]
  },
  {
   "cell_type": "code",
   "execution_count": 271,
   "metadata": {
    "ExecuteTime": {
     "end_time": "2017-12-06T13:57:41.974043",
     "start_time": "2017-12-06T13:57:41.848488"
    },
    "collapsed": true
   },
   "outputs": [],
   "source": [
    "A=np.tile(X_train,(50000,1))"
   ]
  },
  {
   "cell_type": "code",
   "execution_count": 328,
   "metadata": {
    "ExecuteTime": {
     "end_time": "2017-12-06T15:03:03.824977",
     "start_time": "2017-12-06T15:03:03.675482"
    },
    "collapsed": false
   },
   "outputs": [
    {
     "data": {
      "text/plain": [
       "array([[0],\n",
       "       [1],\n",
       "       [2],\n",
       "       [3]])"
      ]
     },
     "execution_count": 328,
     "metadata": {},
     "output_type": "execute_result"
    }
   ],
   "source": [
    "np.argwhere(np.logical_not((A==A[0]).all(axis=0)))"
   ]
  },
  {
   "cell_type": "code",
   "execution_count": 337,
   "metadata": {
    "ExecuteTime": {
     "end_time": "2017-12-06T15:04:30.689570",
     "start_time": "2017-12-06T15:04:30.557699"
    },
    "collapsed": false
   },
   "outputs": [
    {
     "data": {
      "text/plain": [
       "array([0, 1, 2, 3])"
      ]
     },
     "execution_count": 337,
     "metadata": {},
     "output_type": "execute_result"
    }
   ],
   "source": [
    "np.argwhere(np.logical_not((A==A[0]).all(axis=0))).flatten()"
   ]
  },
  {
   "cell_type": "code",
   "execution_count": 309,
   "metadata": {
    "ExecuteTime": {
     "end_time": "2017-12-06T14:17:32.152609",
     "start_time": "2017-12-06T14:17:32.074395"
    },
    "collapsed": true
   },
   "outputs": [],
   "source": [
    "C=B\n"
   ]
  },
  {
   "cell_type": "code",
   "execution_count": 310,
   "metadata": {
    "ExecuteTime": {
     "end_time": "2017-12-06T14:17:33.575997",
     "start_time": "2017-12-06T14:17:33.565116"
    },
    "collapsed": false
   },
   "outputs": [
    {
     "data": {
      "text/plain": [
       "array([False, False, False, False], dtype=bool)"
      ]
     },
     "execution_count": 310,
     "metadata": {},
     "output_type": "execute_result"
    }
   ],
   "source": [
    "C"
   ]
  },
  {
   "cell_type": "code",
   "execution_count": 312,
   "metadata": {
    "ExecuteTime": {
     "end_time": "2017-12-06T14:17:38.687605",
     "start_time": "2017-12-06T14:17:38.682553"
    },
    "collapsed": false
   },
   "outputs": [
    {
     "data": {
      "text/plain": [
       "array([ True,  True,  True,  True], dtype=bool)"
      ]
     },
     "execution_count": 312,
     "metadata": {},
     "output_type": "execute_result"
    }
   ],
   "source": [
    "X_train[np.logical_not(C)]"
   ]
  },
  {
   "cell_type": "code",
   "execution_count": 286,
   "metadata": {
    "ExecuteTime": {
     "end_time": "2017-12-06T14:09:22.810275",
     "start_time": "2017-12-06T14:09:22.796873"
    },
    "collapsed": true
   },
   "outputs": [
    {
     "data": {
      "text/plain": [
       "array([[ 5.5,  2.4,  3.7,  1. ],\n",
       "       [ 6.3,  2.8,  5.1,  1.5],\n",
       "       [ 6.4,  3.1,  5.5,  1.8],\n",
       "       [ 6.6,  3. ,  4.4,  1.4],\n",
       "       [ 7.2,  3.6,  6.1,  2.5],\n",
       "       [ 5.7,  2.9,  4.2,  1.3],\n",
       "       [ 7.6,  3. ,  6.6,  2.1],\n",
       "       [ 5.6,  3. ,  4.5,  1.5],\n",
       "       [ 5.1,  3.5,  1.4,  0.2],\n",
       "       [ 7.7,  2.8,  6.7,  2. ],\n",
       "       [ 5.8,  2.7,  4.1,  1. ],\n",
       "       [ 5.2,  3.4,  1.4,  0.2],\n",
       "       [ 5. ,  3.5,  1.3,  0.3],\n",
       "       [ 5.1,  3.8,  1.9,  0.4],\n",
       "       [ 5. ,  2. ,  3.5,  1. ],\n",
       "       [ 6.3,  2.7,  4.9,  1.8],\n",
       "       [ 4.8,  3.4,  1.9,  0.2],\n",
       "       [ 5. ,  3. ,  1.6,  0.2],\n",
       "       [ 5.1,  3.3,  1.7,  0.5],\n",
       "       [ 5.6,  2.7,  4.2,  1.3],\n",
       "       [ 5.1,  3.4,  1.5,  0.2],\n",
       "       [ 5.7,  3. ,  4.2,  1.2],\n",
       "       [ 7.7,  3.8,  6.7,  2.2],\n",
       "       [ 4.6,  3.2,  1.4,  0.2],\n",
       "       [ 6.2,  2.9,  4.3,  1.3],\n",
       "       [ 5.7,  2.5,  5. ,  2. ],\n",
       "       [ 5.5,  4.2,  1.4,  0.2],\n",
       "       [ 6. ,  3. ,  4.8,  1.8],\n",
       "       [ 5.8,  2.7,  5.1,  1.9],\n",
       "       [ 6. ,  2.2,  4. ,  1. ],\n",
       "       [ 5.4,  3. ,  4.5,  1.5],\n",
       "       [ 6.2,  3.4,  5.4,  2.3],\n",
       "       [ 5.5,  2.3,  4. ,  1.3],\n",
       "       [ 5.4,  3.9,  1.7,  0.4],\n",
       "       [ 5. ,  2.3,  3.3,  1. ],\n",
       "       [ 6.4,  2.7,  5.3,  1.9],\n",
       "       [ 5. ,  3.3,  1.4,  0.2],\n",
       "       [ 5. ,  3.2,  1.2,  0.2],\n",
       "       [ 5.5,  2.4,  3.8,  1.1],\n",
       "       [ 6.7,  3. ,  5. ,  1.7],\n",
       "       [ 4.9,  3.1,  1.5,  0.1],\n",
       "       [ 5.8,  2.8,  5.1,  2.4],\n",
       "       [ 5. ,  3.4,  1.5,  0.2],\n",
       "       [ 5. ,  3.5,  1.6,  0.6],\n",
       "       [ 5.9,  3.2,  4.8,  1.8],\n",
       "       [ 5.1,  2.5,  3. ,  1.1],\n",
       "       [ 6.9,  3.2,  5.7,  2.3],\n",
       "       [ 6. ,  2.7,  5.1,  1.6],\n",
       "       [ 6.1,  2.6,  5.6,  1.4],\n",
       "       [ 7.7,  3. ,  6.1,  2.3],\n",
       "       [ 5.5,  2.5,  4. ,  1.3],\n",
       "       [ 4.4,  2.9,  1.4,  0.2],\n",
       "       [ 4.3,  3. ,  1.1,  0.1],\n",
       "       [ 6. ,  2.2,  5. ,  1.5],\n",
       "       [ 7.2,  3.2,  6. ,  1.8],\n",
       "       [ 4.6,  3.1,  1.5,  0.2],\n",
       "       [ 5.1,  3.5,  1.4,  0.3],\n",
       "       [ 4.4,  3. ,  1.3,  0.2],\n",
       "       [ 6.3,  2.5,  4.9,  1.5],\n",
       "       [ 6.3,  3.4,  5.6,  2.4],\n",
       "       [ 4.6,  3.4,  1.4,  0.3],\n",
       "       [ 6.8,  3. ,  5.5,  2.1],\n",
       "       [ 6.3,  3.3,  6. ,  2.5],\n",
       "       [ 4.7,  3.2,  1.3,  0.2],\n",
       "       [ 6.1,  2.9,  4.7,  1.4],\n",
       "       [ 6.5,  2.8,  4.6,  1.5],\n",
       "       [ 6.2,  2.8,  4.8,  1.8],\n",
       "       [ 7. ,  3.2,  4.7,  1.4],\n",
       "       [ 6.4,  3.2,  5.3,  2.3],\n",
       "       [ 5.1,  3.8,  1.6,  0.2],\n",
       "       [ 6.9,  3.1,  5.4,  2.1],\n",
       "       [ 5.9,  3. ,  4.2,  1.5],\n",
       "       [ 6.5,  3. ,  5.2,  2. ],\n",
       "       [ 5.7,  2.6,  3.5,  1. ],\n",
       "       [ 5.2,  2.7,  3.9,  1.4],\n",
       "       [ 6.1,  3. ,  4.6,  1.4],\n",
       "       [ 4.5,  2.3,  1.3,  0.3],\n",
       "       [ 6.6,  2.9,  4.6,  1.3],\n",
       "       [ 5.5,  2.6,  4.4,  1.2],\n",
       "       [ 5.3,  3.7,  1.5,  0.2],\n",
       "       [ 5.6,  3. ,  4.1,  1.3],\n",
       "       [ 7.3,  2.9,  6.3,  1.8],\n",
       "       [ 6.7,  3.3,  5.7,  2.1],\n",
       "       [ 5.1,  3.7,  1.5,  0.4],\n",
       "       [ 4.9,  2.4,  3.3,  1. ],\n",
       "       [ 6.7,  3.3,  5.7,  2.5],\n",
       "       [ 7.2,  3. ,  5.8,  1.6],\n",
       "       [ 4.9,  3.1,  1.5,  0.1],\n",
       "       [ 6.7,  3.1,  5.6,  2.4],\n",
       "       [ 4.9,  3. ,  1.4,  0.2],\n",
       "       [ 6.9,  3.1,  4.9,  1.5],\n",
       "       [ 7.4,  2.8,  6.1,  1.9],\n",
       "       [ 6.3,  2.9,  5.6,  1.8],\n",
       "       [ 5.7,  2.8,  4.1,  1.3],\n",
       "       [ 6.5,  3. ,  5.5,  1.8],\n",
       "       [ 6.3,  2.3,  4.4,  1.3],\n",
       "       [ 6.4,  2.9,  4.3,  1.3],\n",
       "       [ 5.6,  2.8,  4.9,  2. ],\n",
       "       [ 5.9,  3. ,  5.1,  1.8],\n",
       "       [ 5.4,  3.4,  1.7,  0.2],\n",
       "       [ 6.1,  2.8,  4. ,  1.3],\n",
       "       [ 4.9,  2.5,  4.5,  1.7],\n",
       "       [ 5.8,  4. ,  1.2,  0.2],\n",
       "       [ 5.8,  2.6,  4. ,  1.2],\n",
       "       [ 7.1,  3. ,  5.9,  2.1]])"
      ]
     },
     "execution_count": 286,
     "metadata": {},
     "output_type": "execute_result"
    }
   ],
   "source": [
    "X_train"
   ]
  },
  {
   "cell_type": "code",
   "execution_count": 300,
   "metadata": {
    "ExecuteTime": {
     "end_time": "2017-12-06T14:12:44.023087",
     "start_time": "2017-12-06T14:12:43.931005"
    },
    "collapsed": false
   },
   "outputs": [],
   "source": [
    "C = B.all(axis=0)"
   ]
  },
  {
   "cell_type": "code",
   "execution_count": null,
   "metadata": {
    "collapsed": true
   },
   "outputs": [],
   "source": []
  },
  {
   "cell_type": "code",
   "execution_count": 303,
   "metadata": {
    "ExecuteTime": {
     "end_time": "2017-12-06T14:14:11.549235",
     "start_time": "2017-12-06T14:14:11.545507"
    },
    "collapsed": false
   },
   "outputs": [
    {
     "data": {
      "text/plain": [
       "array([False, False, False, False], dtype=bool)"
      ]
     },
     "execution_count": 303,
     "metadata": {},
     "output_type": "execute_result"
    }
   ],
   "source": [
    "C"
   ]
  },
  {
   "cell_type": "code",
   "execution_count": 304,
   "metadata": {
    "ExecuteTime": {
     "end_time": "2017-12-06T14:14:47.391877",
     "start_time": "2017-12-06T14:14:47.386364"
    },
    "collapsed": false
   },
   "outputs": [
    {
     "data": {
      "text/plain": [
       "array([[0],\n",
       "       [1],\n",
       "       [3]])"
      ]
     },
     "execution_count": 304,
     "metadata": {},
     "output_type": "execute_result"
    }
   ],
   "source": [
    "\n",
    "np.argwhere([True,True,False,True])"
   ]
  },
  {
   "cell_type": "code",
   "execution_count": 299,
   "metadata": {
    "ExecuteTime": {
     "end_time": "2017-12-06T14:12:26.795081",
     "start_time": "2017-12-06T14:12:26.782584"
    },
    "collapsed": false,
    "scrolled": false
   },
   "outputs": [
    {
     "name": "stderr",
     "output_type": "stream",
     "text": [
      "/home/xu/venv/lib/python3.5/site-packages/ipykernel/__main__.py:1: FutureWarning: in the future, boolean array-likes will be handled as a boolean array index\n",
      "  if __name__ == '__main__':\n"
     ]
    },
    {
     "data": {
      "text/plain": [
       "array([[ 2.4,  2.4,  5.5,  2.4],\n",
       "       [ 2.8,  2.8,  6.3,  2.8],\n",
       "       [ 3.1,  3.1,  6.4,  3.1],\n",
       "       [ 3. ,  3. ,  6.6,  3. ],\n",
       "       [ 3.6,  3.6,  7.2,  3.6],\n",
       "       [ 2.9,  2.9,  5.7,  2.9],\n",
       "       [ 3. ,  3. ,  7.6,  3. ],\n",
       "       [ 3. ,  3. ,  5.6,  3. ],\n",
       "       [ 3.5,  3.5,  5.1,  3.5],\n",
       "       [ 2.8,  2.8,  7.7,  2.8],\n",
       "       [ 2.7,  2.7,  5.8,  2.7],\n",
       "       [ 3.4,  3.4,  5.2,  3.4],\n",
       "       [ 3.5,  3.5,  5. ,  3.5],\n",
       "       [ 3.8,  3.8,  5.1,  3.8],\n",
       "       [ 2. ,  2. ,  5. ,  2. ],\n",
       "       [ 2.7,  2.7,  6.3,  2.7],\n",
       "       [ 3.4,  3.4,  4.8,  3.4],\n",
       "       [ 3. ,  3. ,  5. ,  3. ],\n",
       "       [ 3.3,  3.3,  5.1,  3.3],\n",
       "       [ 2.7,  2.7,  5.6,  2.7],\n",
       "       [ 3.4,  3.4,  5.1,  3.4],\n",
       "       [ 3. ,  3. ,  5.7,  3. ],\n",
       "       [ 3.8,  3.8,  7.7,  3.8],\n",
       "       [ 3.2,  3.2,  4.6,  3.2],\n",
       "       [ 2.9,  2.9,  6.2,  2.9],\n",
       "       [ 2.5,  2.5,  5.7,  2.5],\n",
       "       [ 4.2,  4.2,  5.5,  4.2],\n",
       "       [ 3. ,  3. ,  6. ,  3. ],\n",
       "       [ 2.7,  2.7,  5.8,  2.7],\n",
       "       [ 2.2,  2.2,  6. ,  2.2],\n",
       "       [ 3. ,  3. ,  5.4,  3. ],\n",
       "       [ 3.4,  3.4,  6.2,  3.4],\n",
       "       [ 2.3,  2.3,  5.5,  2.3],\n",
       "       [ 3.9,  3.9,  5.4,  3.9],\n",
       "       [ 2.3,  2.3,  5. ,  2.3],\n",
       "       [ 2.7,  2.7,  6.4,  2.7],\n",
       "       [ 3.3,  3.3,  5. ,  3.3],\n",
       "       [ 3.2,  3.2,  5. ,  3.2],\n",
       "       [ 2.4,  2.4,  5.5,  2.4],\n",
       "       [ 3. ,  3. ,  6.7,  3. ],\n",
       "       [ 3.1,  3.1,  4.9,  3.1],\n",
       "       [ 2.8,  2.8,  5.8,  2.8],\n",
       "       [ 3.4,  3.4,  5. ,  3.4],\n",
       "       [ 3.5,  3.5,  5. ,  3.5],\n",
       "       [ 3.2,  3.2,  5.9,  3.2],\n",
       "       [ 2.5,  2.5,  5.1,  2.5],\n",
       "       [ 3.2,  3.2,  6.9,  3.2],\n",
       "       [ 2.7,  2.7,  6. ,  2.7],\n",
       "       [ 2.6,  2.6,  6.1,  2.6],\n",
       "       [ 3. ,  3. ,  7.7,  3. ],\n",
       "       [ 2.5,  2.5,  5.5,  2.5],\n",
       "       [ 2.9,  2.9,  4.4,  2.9],\n",
       "       [ 3. ,  3. ,  4.3,  3. ],\n",
       "       [ 2.2,  2.2,  6. ,  2.2],\n",
       "       [ 3.2,  3.2,  7.2,  3.2],\n",
       "       [ 3.1,  3.1,  4.6,  3.1],\n",
       "       [ 3.5,  3.5,  5.1,  3.5],\n",
       "       [ 3. ,  3. ,  4.4,  3. ],\n",
       "       [ 2.5,  2.5,  6.3,  2.5],\n",
       "       [ 3.4,  3.4,  6.3,  3.4],\n",
       "       [ 3.4,  3.4,  4.6,  3.4],\n",
       "       [ 3. ,  3. ,  6.8,  3. ],\n",
       "       [ 3.3,  3.3,  6.3,  3.3],\n",
       "       [ 3.2,  3.2,  4.7,  3.2],\n",
       "       [ 2.9,  2.9,  6.1,  2.9],\n",
       "       [ 2.8,  2.8,  6.5,  2.8],\n",
       "       [ 2.8,  2.8,  6.2,  2.8],\n",
       "       [ 3.2,  3.2,  7. ,  3.2],\n",
       "       [ 3.2,  3.2,  6.4,  3.2],\n",
       "       [ 3.8,  3.8,  5.1,  3.8],\n",
       "       [ 3.1,  3.1,  6.9,  3.1],\n",
       "       [ 3. ,  3. ,  5.9,  3. ],\n",
       "       [ 3. ,  3. ,  6.5,  3. ],\n",
       "       [ 2.6,  2.6,  5.7,  2.6],\n",
       "       [ 2.7,  2.7,  5.2,  2.7],\n",
       "       [ 3. ,  3. ,  6.1,  3. ],\n",
       "       [ 2.3,  2.3,  4.5,  2.3],\n",
       "       [ 2.9,  2.9,  6.6,  2.9],\n",
       "       [ 2.6,  2.6,  5.5,  2.6],\n",
       "       [ 3.7,  3.7,  5.3,  3.7],\n",
       "       [ 3. ,  3. ,  5.6,  3. ],\n",
       "       [ 2.9,  2.9,  7.3,  2.9],\n",
       "       [ 3.3,  3.3,  6.7,  3.3],\n",
       "       [ 3.7,  3.7,  5.1,  3.7],\n",
       "       [ 2.4,  2.4,  4.9,  2.4],\n",
       "       [ 3.3,  3.3,  6.7,  3.3],\n",
       "       [ 3. ,  3. ,  7.2,  3. ],\n",
       "       [ 3.1,  3.1,  4.9,  3.1],\n",
       "       [ 3.1,  3.1,  6.7,  3.1],\n",
       "       [ 3. ,  3. ,  4.9,  3. ],\n",
       "       [ 3.1,  3.1,  6.9,  3.1],\n",
       "       [ 2.8,  2.8,  7.4,  2.8],\n",
       "       [ 2.9,  2.9,  6.3,  2.9],\n",
       "       [ 2.8,  2.8,  5.7,  2.8],\n",
       "       [ 3. ,  3. ,  6.5,  3. ],\n",
       "       [ 2.3,  2.3,  6.3,  2.3],\n",
       "       [ 2.9,  2.9,  6.4,  2.9],\n",
       "       [ 2.8,  2.8,  5.6,  2.8],\n",
       "       [ 3. ,  3. ,  5.9,  3. ],\n",
       "       [ 3.4,  3.4,  5.4,  3.4],\n",
       "       [ 2.8,  2.8,  6.1,  2.8],\n",
       "       [ 2.5,  2.5,  4.9,  2.5],\n",
       "       [ 4. ,  4. ,  5.8,  4. ],\n",
       "       [ 2.6,  2.6,  5.8,  2.6],\n",
       "       [ 3. ,  3. ,  7.1,  3. ]])"
      ]
     },
     "execution_count": 299,
     "metadata": {},
     "output_type": "execute_result"
    }
   ],
   "source": [
    "X_train[:,[True,True,False,True]]"
   ]
  },
  {
   "cell_type": "code",
   "execution_count": 281,
   "metadata": {
    "ExecuteTime": {
     "end_time": "2017-12-06T14:06:32.530157",
     "start_time": "2017-12-06T14:06:32.526044"
    },
    "collapsed": false
   },
   "outputs": [
    {
     "data": {
      "text/plain": [
       "(105, 4)"
      ]
     },
     "execution_count": 281,
     "metadata": {},
     "output_type": "execute_result"
    }
   ],
   "source": [
    "X_train.shape"
   ]
  },
  {
   "cell_type": "code",
   "execution_count": 284,
   "metadata": {
    "ExecuteTime": {
     "end_time": "2017-12-06T14:07:08.196362",
     "start_time": "2017-12-06T14:07:08.179193"
    },
    "collapsed": false
   },
   "outputs": [
    {
     "data": {
      "text/plain": [
       "array([[ 0.8,  0.4,  1.4,  0.5],\n",
       "       [ 0.1,  0.3,  0.4,  0.3],\n",
       "       [ 0.2, -0.1, -1.1, -0.4],\n",
       "       [ 0.6,  0.6,  1.7,  1.1],\n",
       "       [-1.5, -0.7, -1.9, -1.2],\n",
       "       [ 1.9,  0.1,  2.4,  0.8],\n",
       "       [-2. ,  0. , -2.1, -0.6],\n",
       "       [-0.5,  0.5, -3.1, -1.3],\n",
       "       [ 2.6, -0.7,  5.3,  1.8],\n",
       "       [-1.9, -0.1, -2.6, -1. ],\n",
       "       [-0.6,  0.7, -2.7, -0.8],\n",
       "       [-0.2,  0.1, -0.1,  0.1],\n",
       "       [ 0.1,  0.3,  0.6,  0.1],\n",
       "       [-0.1, -1.8,  1.6,  0.6],\n",
       "       [ 1.3,  0.7,  1.4,  0.8],\n",
       "       [-1.5,  0.7, -3. , -1.6],\n",
       "       [ 0.2, -0.4, -0.3,  0. ],\n",
       "       [ 0.1,  0.3,  0.1,  0.3],\n",
       "       [ 0.5, -0.6,  2.5,  0.8],\n",
       "       [-0.5,  0.7, -2.7, -1.1],\n",
       "       [ 0.6, -0.4,  2.7,  1. ],\n",
       "       [ 2. ,  0.8,  2.5,  1. ],\n",
       "       [-3.1, -0.6, -5.3, -2. ],\n",
       "       [ 1.6, -0.3,  2.9,  1.1],\n",
       "       [-0.5, -0.4,  0.7,  0.7],\n",
       "       [-0.2,  1.7, -3.6, -1.8],\n",
       "       [ 0.5, -1.2,  3.4,  1.6],\n",
       "       [-0.2, -0.3,  0.3,  0.1],\n",
       "       [ 0.2, -0.5, -1.1, -0.9],\n",
       "       [-0.6,  0.8,  0.5,  0.5],\n",
       "       [ 0.8,  0.4,  0.9,  0.8],\n",
       "       [-0.7, -1.1, -1.4, -1. ],\n",
       "       [-0.1,  1.6, -2.3, -0.9],\n",
       "       [-0.4, -1.6,  1.6,  0.6],\n",
       "       [ 1.4,  0.4,  2. ,  0.9],\n",
       "       [-1.4,  0.6, -3.9, -1.7],\n",
       "       [ 0. , -0.1, -0.2,  0. ],\n",
       "       [ 0.5, -0.8,  2.6,  0.9],\n",
       "       [ 1.2,  0.6,  1.2,  0.6],\n",
       "       [-1.8,  0.1, -3.5, -1.6],\n",
       "       [ 0.9, -0.3,  3.6,  2.3],\n",
       "       [-0.8,  0.6, -3.6, -2.2],\n",
       "       [ 0. ,  0.1,  0.1,  0.4],\n",
       "       [ 0.9, -0.3,  3.2,  1.2],\n",
       "       [-0.8, -0.7, -1.8, -0.7],\n",
       "       [ 1.8,  0.7,  2.7,  1.2],\n",
       "       [-0.9, -0.5, -0.6, -0.7],\n",
       "       [ 0.1, -0.1,  0.5, -0.2],\n",
       "       [ 1.6,  0.4,  0.5,  0.9],\n",
       "       [-2.2, -0.5, -2.1, -1. ],\n",
       "       [-1.1,  0.4, -2.6, -1.1],\n",
       "       [-0.1,  0.1, -0.3, -0.1],\n",
       "       [ 1.7, -0.8,  3.9,  1.4],\n",
       "       [ 1.2,  1. ,  1. ,  0.3],\n",
       "       [-2.6, -0.1, -4.5, -1.6],\n",
       "       [ 0.5,  0.4, -0.1,  0.1],\n",
       "       [-0.7, -0.5, -0.1, -0.1],\n",
       "       [ 1.9, -0.5,  3.6,  1.3],\n",
       "       [ 0. ,  0.9,  0.7,  0.9],\n",
       "       [-1.7,  0. , -4.2, -2.1],\n",
       "       [ 2.2, -0.4,  4.1,  1.8],\n",
       "       [-0.5,  0.3,  0.5,  0.4],\n",
       "       [-1.6, -0.1, -4.7, -2.3],\n",
       "       [ 1.4, -0.3,  3.4,  1.2],\n",
       "       [ 0.4, -0.1, -0.1,  0.1],\n",
       "       [-0.3,  0. ,  0.2,  0.3],\n",
       "       [ 0.8,  0.4, -0.1, -0.4],\n",
       "       [-0.6,  0. ,  0.6,  0.9],\n",
       "       [-1.3,  0.6, -3.7, -2.1],\n",
       "       [ 1.8, -0.7,  3.8,  1.9],\n",
       "       [-1. , -0.1, -1.2, -0.6],\n",
       "       [ 0.6,  0. ,  1. ,  0.5],\n",
       "       [-0.8, -0.4, -1.7, -1. ],\n",
       "       [-0.5,  0.1,  0.4,  0.4],\n",
       "       [ 0.9,  0.3,  0.7,  0. ],\n",
       "       [-1.6, -0.7, -3.3, -1.1],\n",
       "       [ 2.1,  0.6,  3.3,  1. ],\n",
       "       [-1.1, -0.3, -0.2, -0.1],\n",
       "       [-0.2,  1.1, -2.9, -1. ],\n",
       "       [ 0.3, -0.7,  2.6,  1.1],\n",
       "       [ 1.7, -0.1,  2.2,  0.5],\n",
       "       [-0.6,  0.4, -0.6,  0.3],\n",
       "       [-1.6,  0.4, -4.2, -1.7],\n",
       "       [-0.2, -1.3,  1.8,  0.6],\n",
       "       [ 1.8,  0.9,  2.4,  1.5],\n",
       "       [ 0.5, -0.3,  0.1, -0.9],\n",
       "       [-2.3,  0.1, -4.3, -1.5],\n",
       "       [ 1.8,  0. ,  4.1,  2.3],\n",
       "       [-1.8, -0.1, -4.2, -2.2],\n",
       "       [ 2. ,  0.1,  3.5,  1.3],\n",
       "       [ 0.5, -0.3,  1.2,  0.4],\n",
       "       [-1.1,  0.1, -0.5, -0.1],\n",
       "       [-0.6, -0.1, -1.5, -0.5],\n",
       "       [ 0.8,  0.2,  1.4,  0.5],\n",
       "       [-0.2, -0.7, -1.1, -0.5],\n",
       "       [ 0.1,  0.6, -0.1,  0. ],\n",
       "       [-0.8, -0.1,  0.6,  0.7],\n",
       "       [ 0.3,  0.2,  0.2, -0.2],\n",
       "       [-0.5,  0.4, -3.4, -1.6],\n",
       "       [ 0.7, -0.6,  2.3,  1.1],\n",
       "       [-1.2, -0.3,  0.5,  0.4],\n",
       "       [ 0.9,  1.5, -3.3, -1.5],\n",
       "       [ 0. , -1.4,  2.8,  1. ],\n",
       "       [ 1.3,  0.4,  1.9,  0.9]])"
      ]
     },
     "execution_count": 284,
     "metadata": {},
     "output_type": "execute_result"
    }
   ],
   "source": [
    "np.diff(X_train,axis=0)"
   ]
  },
  {
   "cell_type": "code",
   "execution_count": 272,
   "metadata": {
    "ExecuteTime": {
     "end_time": "2017-12-06T13:57:43.001384",
     "start_time": "2017-12-06T13:57:42.674960"
    },
    "collapsed": false
   },
   "outputs": [
    {
     "data": {
      "text/plain": [
       "array([[ 5.5,  2.4,  3.7,  1. ],\n",
       "       [ 6.3,  2.8,  5.1,  1.5],\n",
       "       [ 6.4,  3.1,  5.5,  1.8],\n",
       "       ..., \n",
       "       [ 5.8,  4. ,  1.2,  0.2],\n",
       "       [ 5.8,  2.6,  4. ,  1.2],\n",
       "       [ 7.1,  3. ,  5.9,  2.1]])"
      ]
     },
     "execution_count": 272,
     "metadata": {},
     "output_type": "execute_result"
    }
   ],
   "source": [
    "A[:,((A==A[0]).T).sum(axis=1)!=A.shape[1]]"
   ]
  },
  {
   "cell_type": "code",
   "execution_count": 233,
   "metadata": {
    "ExecuteTime": {
     "end_time": "2017-12-06T13:48:36.842303",
     "start_time": "2017-12-06T13:48:36.828330"
    },
    "collapsed": false,
    "scrolled": true
   },
   "outputs": [
    {
     "data": {
      "text/plain": [
       "array([[ 5.5,  2.4,  3.7,  1. ],\n",
       "       [ 6.3,  2.8,  5.1,  1.5],\n",
       "       [ 6.4,  3.1,  5.5,  1.8],\n",
       "       [ 6.6,  3. ,  4.4,  1.4],\n",
       "       [ 7.2,  3.6,  6.1,  2.5],\n",
       "       [ 5.7,  2.9,  4.2,  1.3],\n",
       "       [ 7.6,  3. ,  6.6,  2.1],\n",
       "       [ 5.6,  3. ,  4.5,  1.5],\n",
       "       [ 5.1,  3.5,  1.4,  0.2],\n",
       "       [ 7.7,  2.8,  6.7,  2. ],\n",
       "       [ 5.8,  2.7,  4.1,  1. ],\n",
       "       [ 5.2,  3.4,  1.4,  0.2],\n",
       "       [ 5. ,  3.5,  1.3,  0.3],\n",
       "       [ 5.1,  3.8,  1.9,  0.4],\n",
       "       [ 5. ,  2. ,  3.5,  1. ],\n",
       "       [ 6.3,  2.7,  4.9,  1.8],\n",
       "       [ 4.8,  3.4,  1.9,  0.2],\n",
       "       [ 5. ,  3. ,  1.6,  0.2],\n",
       "       [ 5.1,  3.3,  1.7,  0.5],\n",
       "       [ 5.6,  2.7,  4.2,  1.3],\n",
       "       [ 5.1,  3.4,  1.5,  0.2],\n",
       "       [ 5.7,  3. ,  4.2,  1.2],\n",
       "       [ 7.7,  3.8,  6.7,  2.2],\n",
       "       [ 4.6,  3.2,  1.4,  0.2],\n",
       "       [ 6.2,  2.9,  4.3,  1.3],\n",
       "       [ 5.7,  2.5,  5. ,  2. ],\n",
       "       [ 5.5,  4.2,  1.4,  0.2],\n",
       "       [ 6. ,  3. ,  4.8,  1.8],\n",
       "       [ 5.8,  2.7,  5.1,  1.9],\n",
       "       [ 6. ,  2.2,  4. ,  1. ],\n",
       "       [ 5.4,  3. ,  4.5,  1.5],\n",
       "       [ 6.2,  3.4,  5.4,  2.3],\n",
       "       [ 5.5,  2.3,  4. ,  1.3],\n",
       "       [ 5.4,  3.9,  1.7,  0.4],\n",
       "       [ 5. ,  2.3,  3.3,  1. ],\n",
       "       [ 6.4,  2.7,  5.3,  1.9],\n",
       "       [ 5. ,  3.3,  1.4,  0.2],\n",
       "       [ 5. ,  3.2,  1.2,  0.2],\n",
       "       [ 5.5,  2.4,  3.8,  1.1],\n",
       "       [ 6.7,  3. ,  5. ,  1.7],\n",
       "       [ 4.9,  3.1,  1.5,  0.1],\n",
       "       [ 5.8,  2.8,  5.1,  2.4],\n",
       "       [ 5. ,  3.4,  1.5,  0.2],\n",
       "       [ 5. ,  3.5,  1.6,  0.6],\n",
       "       [ 5.9,  3.2,  4.8,  1.8],\n",
       "       [ 5.1,  2.5,  3. ,  1.1],\n",
       "       [ 6.9,  3.2,  5.7,  2.3],\n",
       "       [ 6. ,  2.7,  5.1,  1.6],\n",
       "       [ 6.1,  2.6,  5.6,  1.4],\n",
       "       [ 7.7,  3. ,  6.1,  2.3],\n",
       "       [ 5.5,  2.5,  4. ,  1.3],\n",
       "       [ 4.4,  2.9,  1.4,  0.2],\n",
       "       [ 4.3,  3. ,  1.1,  0.1],\n",
       "       [ 6. ,  2.2,  5. ,  1.5],\n",
       "       [ 7.2,  3.2,  6. ,  1.8],\n",
       "       [ 4.6,  3.1,  1.5,  0.2],\n",
       "       [ 5.1,  3.5,  1.4,  0.3],\n",
       "       [ 4.4,  3. ,  1.3,  0.2],\n",
       "       [ 6.3,  2.5,  4.9,  1.5],\n",
       "       [ 6.3,  3.4,  5.6,  2.4],\n",
       "       [ 4.6,  3.4,  1.4,  0.3],\n",
       "       [ 6.8,  3. ,  5.5,  2.1],\n",
       "       [ 6.3,  3.3,  6. ,  2.5],\n",
       "       [ 4.7,  3.2,  1.3,  0.2],\n",
       "       [ 6.1,  2.9,  4.7,  1.4],\n",
       "       [ 6.5,  2.8,  4.6,  1.5],\n",
       "       [ 6.2,  2.8,  4.8,  1.8],\n",
       "       [ 7. ,  3.2,  4.7,  1.4],\n",
       "       [ 6.4,  3.2,  5.3,  2.3],\n",
       "       [ 5.1,  3.8,  1.6,  0.2],\n",
       "       [ 6.9,  3.1,  5.4,  2.1],\n",
       "       [ 5.9,  3. ,  4.2,  1.5],\n",
       "       [ 6.5,  3. ,  5.2,  2. ],\n",
       "       [ 5.7,  2.6,  3.5,  1. ],\n",
       "       [ 5.2,  2.7,  3.9,  1.4],\n",
       "       [ 6.1,  3. ,  4.6,  1.4],\n",
       "       [ 4.5,  2.3,  1.3,  0.3],\n",
       "       [ 6.6,  2.9,  4.6,  1.3],\n",
       "       [ 5.5,  2.6,  4.4,  1.2],\n",
       "       [ 5.3,  3.7,  1.5,  0.2],\n",
       "       [ 5.6,  3. ,  4.1,  1.3],\n",
       "       [ 7.3,  2.9,  6.3,  1.8],\n",
       "       [ 6.7,  3.3,  5.7,  2.1],\n",
       "       [ 5.1,  3.7,  1.5,  0.4],\n",
       "       [ 4.9,  2.4,  3.3,  1. ],\n",
       "       [ 6.7,  3.3,  5.7,  2.5],\n",
       "       [ 7.2,  3. ,  5.8,  1.6],\n",
       "       [ 4.9,  3.1,  1.5,  0.1],\n",
       "       [ 6.7,  3.1,  5.6,  2.4],\n",
       "       [ 4.9,  3. ,  1.4,  0.2],\n",
       "       [ 6.9,  3.1,  4.9,  1.5],\n",
       "       [ 7.4,  2.8,  6.1,  1.9],\n",
       "       [ 6.3,  2.9,  5.6,  1.8],\n",
       "       [ 5.7,  2.8,  4.1,  1.3],\n",
       "       [ 6.5,  3. ,  5.5,  1.8],\n",
       "       [ 6.3,  2.3,  4.4,  1.3],\n",
       "       [ 6.4,  2.9,  4.3,  1.3],\n",
       "       [ 5.6,  2.8,  4.9,  2. ],\n",
       "       [ 5.9,  3. ,  5.1,  1.8],\n",
       "       [ 5.4,  3.4,  1.7,  0.2],\n",
       "       [ 6.1,  2.8,  4. ,  1.3],\n",
       "       [ 4.9,  2.5,  4.5,  1.7],\n",
       "       [ 5.8,  4. ,  1.2,  0.2],\n",
       "       [ 5.8,  2.6,  4. ,  1.2],\n",
       "       [ 7.1,  3. ,  5.9,  2.1]])"
      ]
     },
     "execution_count": 233,
     "metadata": {},
     "output_type": "execute_result"
    }
   ],
   "source": [
    "X_train"
   ]
  },
  {
   "cell_type": "code",
   "execution_count": 231,
   "metadata": {
    "ExecuteTime": {
     "end_time": "2017-12-06T13:48:15.490576",
     "start_time": "2017-12-06T13:48:15.484802"
    },
    "collapsed": false
   },
   "outputs": [
    {
     "data": {
      "text/plain": [
       "array([[ True,  True,  True,  True,  True,  True,  True,  True,  True,\n",
       "         True,  True,  True,  True,  True,  True,  True,  True,  True,\n",
       "         True,  True,  True,  True,  True,  True,  True,  True,  True,\n",
       "         True,  True,  True,  True,  True,  True,  True,  True,  True,\n",
       "         True,  True,  True,  True,  True,  True,  True,  True,  True,\n",
       "         True,  True,  True,  True,  True,  True,  True,  True,  True,\n",
       "         True,  True,  True,  True,  True,  True,  True,  True,  True,\n",
       "         True,  True,  True,  True,  True,  True,  True,  True,  True,\n",
       "         True,  True,  True,  True,  True,  True,  True,  True,  True,\n",
       "         True,  True,  True,  True,  True,  True,  True,  True,  True,\n",
       "         True,  True,  True,  True,  True,  True,  True,  True,  True,\n",
       "         True,  True,  True,  True,  True,  True],\n",
       "       [False, False, False, False, False, False, False, False, False,\n",
       "        False, False, False, False, False, False, False, False, False,\n",
       "        False, False, False, False, False, False, False, False, False,\n",
       "        False, False, False, False, False, False, False, False, False,\n",
       "        False, False, False, False, False, False, False, False, False,\n",
       "        False, False, False, False, False, False, False, False, False,\n",
       "        False, False, False, False, False, False, False, False, False,\n",
       "        False, False, False, False, False, False, False, False, False,\n",
       "        False, False, False, False, False, False, False, False, False,\n",
       "        False, False, False, False, False, False, False, False, False,\n",
       "        False, False, False, False, False, False, False, False, False,\n",
       "        False, False, False, False, False, False],\n",
       "       [False, False, False, False, False, False, False, False, False,\n",
       "        False, False, False, False, False, False, False, False, False,\n",
       "        False, False, False, False, False, False, False, False, False,\n",
       "        False, False, False, False, False, False, False, False, False,\n",
       "        False, False, False, False, False, False, False, False, False,\n",
       "        False, False, False, False, False, False, False, False, False,\n",
       "        False, False, False, False, False, False, False, False, False,\n",
       "        False, False, False, False, False, False, False, False, False,\n",
       "        False, False, False, False, False, False, False, False, False,\n",
       "        False, False, False, False, False, False, False, False, False,\n",
       "        False, False, False, False, False, False, False, False, False,\n",
       "        False, False, False, False, False, False],\n",
       "       [False, False, False, False, False, False, False, False, False,\n",
       "        False, False, False, False, False, False, False, False, False,\n",
       "        False, False, False, False, False, False, False, False, False,\n",
       "        False, False, False, False, False, False, False, False, False,\n",
       "        False, False, False, False, False, False, False, False, False,\n",
       "        False, False, False, False, False, False, False, False, False,\n",
       "        False, False, False, False, False, False, False, False, False,\n",
       "        False, False, False, False, False, False, False, False, False,\n",
       "        False, False, False, False, False, False, False, False, False,\n",
       "        False, False, False, False, False, False, False, False, False,\n",
       "        False, False, False, False, False, False, False, False, False,\n",
       "        False, False, False, False, False, False]], dtype=bool)"
      ]
     },
     "execution_count": 231,
     "metadata": {},
     "output_type": "execute_result"
    }
   ],
   "source": [
    "X_train.T==X_train.T[0]"
   ]
  },
  {
   "cell_type": "code",
   "execution_count": 221,
   "metadata": {
    "ExecuteTime": {
     "end_time": "2017-12-06T13:33:24.029298",
     "start_time": "2017-12-06T13:33:24.021056"
    },
    "collapsed": false
   },
   "outputs": [
    {
     "data": {
      "text/plain": [
       "<numpy.lib.function_base.vectorize at 0x7f1b21894dd8>"
      ]
     },
     "execution_count": 221,
     "metadata": {},
     "output_type": "execute_result"
    }
   ],
   "source": [
    "vecfunc"
   ]
  },
  {
   "cell_type": "code",
   "execution_count": 219,
   "metadata": {
    "ExecuteTime": {
     "end_time": "2017-12-06T13:27:42.110520",
     "start_time": "2017-12-06T13:27:42.105904"
    },
    "collapsed": false
   },
   "outputs": [
    {
     "data": {
      "text/plain": [
       "array([[ True,  True,  True,  True],\n",
       "       [False, False, False, False],\n",
       "       [False, False, False, False],\n",
       "       [False, False, False, False],\n",
       "       [False, False, False, False],\n",
       "       [False, False, False, False],\n",
       "       [False, False, False, False],\n",
       "       [False, False, False, False],\n",
       "       [False, False, False, False],\n",
       "       [False, False, False, False],\n",
       "       [False, False, False,  True],\n",
       "       [False, False, False, False],\n",
       "       [False, False, False, False],\n",
       "       [False, False, False, False],\n",
       "       [False, False, False,  True],\n",
       "       [False, False, False, False],\n",
       "       [False, False, False, False],\n",
       "       [False, False, False, False],\n",
       "       [False, False, False, False],\n",
       "       [False, False, False, False],\n",
       "       [False, False, False, False],\n",
       "       [False, False, False, False],\n",
       "       [False, False, False, False],\n",
       "       [False, False, False, False],\n",
       "       [False, False, False, False],\n",
       "       [False, False, False, False],\n",
       "       [ True, False, False, False],\n",
       "       [False, False, False, False],\n",
       "       [False, False, False, False],\n",
       "       [False, False, False,  True],\n",
       "       [False, False, False, False],\n",
       "       [False, False, False, False],\n",
       "       [ True, False, False, False],\n",
       "       [False, False, False, False],\n",
       "       [False, False, False,  True],\n",
       "       [False, False, False, False],\n",
       "       [False, False, False, False],\n",
       "       [False, False, False, False],\n",
       "       [ True,  True, False, False],\n",
       "       [False, False, False, False],\n",
       "       [False, False, False, False],\n",
       "       [False, False, False, False],\n",
       "       [False, False, False, False],\n",
       "       [False, False, False, False],\n",
       "       [False, False, False, False],\n",
       "       [False, False, False, False],\n",
       "       [False, False, False, False],\n",
       "       [False, False, False, False],\n",
       "       [False, False, False, False],\n",
       "       [False, False, False, False],\n",
       "       [ True, False, False, False],\n",
       "       [False, False, False, False],\n",
       "       [False, False, False, False],\n",
       "       [False, False, False, False],\n",
       "       [False, False, False, False],\n",
       "       [False, False, False, False],\n",
       "       [False, False, False, False],\n",
       "       [False, False, False, False],\n",
       "       [False, False, False, False],\n",
       "       [False, False, False, False],\n",
       "       [False, False, False, False],\n",
       "       [False, False, False, False],\n",
       "       [False, False, False, False],\n",
       "       [False, False, False, False],\n",
       "       [False, False, False, False],\n",
       "       [False, False, False, False],\n",
       "       [False, False, False, False],\n",
       "       [False, False, False, False],\n",
       "       [False, False, False, False],\n",
       "       [False, False, False, False],\n",
       "       [False, False, False, False],\n",
       "       [False, False, False, False],\n",
       "       [False, False, False, False],\n",
       "       [False, False, False,  True],\n",
       "       [False, False, False, False],\n",
       "       [False, False, False, False],\n",
       "       [False, False, False, False],\n",
       "       [False, False, False, False],\n",
       "       [ True, False, False, False],\n",
       "       [False, False, False, False],\n",
       "       [False, False, False, False],\n",
       "       [False, False, False, False],\n",
       "       [False, False, False, False],\n",
       "       [False, False, False, False],\n",
       "       [False,  True, False,  True],\n",
       "       [False, False, False, False],\n",
       "       [False, False, False, False],\n",
       "       [False, False, False, False],\n",
       "       [False, False, False, False],\n",
       "       [False, False, False, False],\n",
       "       [False, False, False, False],\n",
       "       [False, False, False, False],\n",
       "       [False, False, False, False],\n",
       "       [False, False, False, False],\n",
       "       [False, False, False, False],\n",
       "       [False, False, False, False],\n",
       "       [False, False, False, False],\n",
       "       [False, False, False, False],\n",
       "       [False, False, False, False],\n",
       "       [False, False, False, False],\n",
       "       [False, False, False, False],\n",
       "       [False, False, False, False],\n",
       "       [False, False, False, False],\n",
       "       [False, False, False, False],\n",
       "       [False, False, False, False]], dtype=bool)"
      ]
     },
     "execution_count": 219,
     "metadata": {},
     "output_type": "execute_result"
    }
   ],
   "source": [
    "X_train==X_train[]"
   ]
  },
  {
   "cell_type": "code",
   "execution_count": 214,
   "metadata": {
    "ExecuteTime": {
     "end_time": "2017-12-06T11:22:44.139865",
     "start_time": "2017-12-06T11:22:44.134661"
    },
    "collapsed": false
   },
   "outputs": [
    {
     "data": {
      "text/plain": [
       "420"
      ]
     },
     "execution_count": 214,
     "metadata": {},
     "output_type": "execute_result"
    }
   ],
   "source": [
    "np.count_nonzero(X_train[])"
   ]
  },
  {
   "cell_type": "code",
   "execution_count": 211,
   "metadata": {
    "ExecuteTime": {
     "end_time": "2017-12-06T11:20:47.426263",
     "start_time": "2017-12-06T11:20:47.421512"
    },
    "collapsed": false
   },
   "outputs": [
    {
     "data": {
      "text/plain": [
       "array([ 0.1,  0.2,  0.3,  0.4,  0.5,  0.6,  1. ,  1.1,  1.2,  1.3,  1.4,\n",
       "        1.5,  1.6,  1.7,  1.8,  1.9,  2. ,  2.1,  2.2,  2.3,  2.4,  2.5])"
      ]
     },
     "execution_count": 211,
     "metadata": {},
     "output_type": "execute_result"
    }
   ],
   "source": [
    "np.unique(X_train[:,3])"
   ]
  },
  {
   "cell_type": "code",
   "execution_count": 169,
   "metadata": {
    "ExecuteTime": {
     "end_time": "2017-12-06T10:12:58.418195",
     "start_time": "2017-12-06T10:12:58.410586"
    },
    "collapsed": false
   },
   "outputs": [
    {
     "data": {
      "text/plain": [
       "array([[ 7.2,  3.6,  6.1,  2.5],\n",
       "       [ 5.1,  3.8,  1.9,  0.4],\n",
       "       [ 7.7,  3.8,  6.7,  2.2],\n",
       "       [ 5.5,  4.2,  1.4,  0.2],\n",
       "       [ 5.4,  3.9,  1.7,  0.4],\n",
       "       [ 5.1,  3.8,  1.6,  0.2],\n",
       "       [ 5.3,  3.7,  1.5,  0.2],\n",
       "       [ 5.1,  3.7,  1.5,  0.4],\n",
       "       [ 5.8,  4. ,  1.2,  0.2]])"
      ]
     },
     "execution_count": 169,
     "metadata": {},
     "output_type": "execute_result"
    }
   ],
   "source": [
    "X_train[X_train[:,1]>]"
   ]
  },
  {
   "cell_type": "code",
   "execution_count": 172,
   "metadata": {
    "ExecuteTime": {
     "end_time": "2017-12-06T10:13:57.565137",
     "start_time": "2017-12-06T10:13:57.558903"
    },
    "collapsed": false
   },
   "outputs": [],
   "source": [
    "b = (X_train[:,1]>3)"
   ]
  },
  {
   "cell_type": "code",
   "execution_count": 173,
   "metadata": {
    "ExecuteTime": {
     "end_time": "2017-12-06T10:14:17.273038",
     "start_time": "2017-12-06T10:14:17.259884"
    },
    "collapsed": false
   },
   "outputs": [
    {
     "data": {
      "text/plain": [
       "array([ True,  True,  True,  True,  True,  True,  True,  True,  True,\n",
       "        True,  True,  True,  True,  True,  True,  True,  True,  True,\n",
       "        True,  True,  True,  True,  True,  True,  True,  True,  True,\n",
       "        True,  True,  True,  True,  True,  True,  True,  True,  True,\n",
       "        True,  True,  True,  True,  True], dtype=bool)"
      ]
     },
     "execution_count": 173,
     "metadata": {},
     "output_type": "execute_result"
    }
   ],
   "source": [
    "b."
   ]
  },
  {
   "cell_type": "code",
   "execution_count": 176,
   "metadata": {
    "ExecuteTime": {
     "end_time": "2017-12-06T10:17:09.366602",
     "start_time": "2017-12-06T10:17:09.360041"
    },
    "collapsed": false
   },
   "outputs": [
    {
     "data": {
      "text/plain": [
       "array([[[ 0.,  0.,  0.],\n",
       "        [ 0.,  0.,  0.]]])"
      ]
     },
     "execution_count": 176,
     "metadata": {},
     "output_type": "execute_result"
    }
   ],
   "source": [
    "np.zeros([1,2,3])"
   ]
  },
  {
   "cell_type": "code",
   "execution_count": 198,
   "metadata": {
    "ExecuteTime": {
     "end_time": "2017-12-06T10:45:24.867222",
     "start_time": "2017-12-06T10:45:24.863227"
    },
    "collapsed": false
   },
   "outputs": [
    {
     "data": {
      "text/plain": [
       "(41, 4)"
      ]
     },
     "execution_count": 198,
     "metadata": {},
     "output_type": "execute_result"
    }
   ],
   "source": [
    "X_train[np.nonzero(X_train[:,1]>3)[0]].shape"
   ]
  },
  {
   "cell_type": "code",
   "execution_count": null,
   "metadata": {
    "collapsed": true
   },
   "outputs": [],
   "source": []
  },
  {
   "cell_type": "code",
   "execution_count": null,
   "metadata": {
    "collapsed": true
   },
   "outputs": [],
   "source": []
  },
  {
   "cell_type": "code",
   "execution_count": 178,
   "metadata": {
    "ExecuteTime": {
     "end_time": "2017-12-06T10:18:11.888015",
     "start_time": "2017-12-06T10:18:11.883694"
    },
    "collapsed": false
   },
   "outputs": [
    {
     "data": {
      "text/plain": [
       "array([False, False,  True, False,  True, False, False, False,  True,\n",
       "       False, False,  True,  True,  True, False, False,  True, False,\n",
       "        True, False,  True, False,  True,  True, False, False,  True,\n",
       "       False, False, False, False,  True, False,  True, False, False,\n",
       "        True,  True, False, False,  True, False,  True,  True,  True,\n",
       "       False,  True, False, False, False, False, False, False, False,\n",
       "        True,  True,  True, False, False,  True,  True, False,  True,\n",
       "        True, False, False, False,  True,  True,  True,  True, False,\n",
       "       False, False, False, False, False, False, False,  True, False,\n",
       "       False,  True,  True, False,  True, False,  True,  True, False,\n",
       "        True, False, False, False, False, False, False, False, False,\n",
       "        True, False, False,  True, False, False], dtype=bool)"
      ]
     },
     "execution_count": 178,
     "metadata": {},
     "output_type": "execute_result"
    }
   ],
   "source": [
    "X_train[:,1]>3"
   ]
  },
  {
   "cell_type": "code",
   "execution_count": 51,
   "metadata": {
    "ExecuteTime": {
     "end_time": "2017-12-05T16:13:15.908022",
     "start_time": "2017-12-05T16:13:15.888631"
    },
    "collapsed": false,
    "scrolled": true
   },
   "outputs": [
    {
     "data": {
      "text/plain": [
       "array([[ 5.5,  2.4,  3.7,  1. ],\n",
       "       [ 6.3,  2.8,  5.1,  1.5],\n",
       "       [ 6.4,  3.1,  5.5,  1.8],\n",
       "       [ 6.6,  3. ,  4.4,  1.4],\n",
       "       [ 7.2,  3.6,  6.1,  2.5],\n",
       "       [ 5.7,  2.9,  4.2,  1.3],\n",
       "       [ 7.6,  3. ,  6.6,  2.1],\n",
       "       [ 5.6,  3. ,  4.5,  1.5],\n",
       "       [ 5.1,  3.5,  1.4,  0.2],\n",
       "       [ 7.7,  2.8,  6.7,  2. ],\n",
       "       [ 5.8,  2.7,  4.1,  1. ],\n",
       "       [ 5.2,  3.4,  1.4,  0.2],\n",
       "       [ 5. ,  3.5,  1.3,  0.3],\n",
       "       [ 5.1,  3.8,  1.9,  0.4],\n",
       "       [ 5. ,  2. ,  3.5,  1. ],\n",
       "       [ 6.3,  2.7,  4.9,  1.8],\n",
       "       [ 4.8,  3.4,  1.9,  0.2],\n",
       "       [ 5. ,  3. ,  1.6,  0.2],\n",
       "       [ 5.1,  3.3,  1.7,  0.5],\n",
       "       [ 5.6,  2.7,  4.2,  1.3],\n",
       "       [ 5.1,  3.4,  1.5,  0.2],\n",
       "       [ 5.7,  3. ,  4.2,  1.2],\n",
       "       [ 7.7,  3.8,  6.7,  2.2],\n",
       "       [ 4.6,  3.2,  1.4,  0.2],\n",
       "       [ 6.2,  2.9,  4.3,  1.3],\n",
       "       [ 5.7,  2.5,  5. ,  2. ],\n",
       "       [ 5.5,  4.2,  1.4,  0.2],\n",
       "       [ 6. ,  3. ,  4.8,  1.8],\n",
       "       [ 5.8,  2.7,  5.1,  1.9],\n",
       "       [ 6. ,  2.2,  4. ,  1. ],\n",
       "       [ 5.4,  3. ,  4.5,  1.5],\n",
       "       [ 6.2,  3.4,  5.4,  2.3],\n",
       "       [ 5.5,  2.3,  4. ,  1.3],\n",
       "       [ 5.4,  3.9,  1.7,  0.4],\n",
       "       [ 5. ,  2.3,  3.3,  1. ],\n",
       "       [ 6.4,  2.7,  5.3,  1.9],\n",
       "       [ 5. ,  3.3,  1.4,  0.2],\n",
       "       [ 5. ,  3.2,  1.2,  0.2],\n",
       "       [ 5.5,  2.4,  3.8,  1.1],\n",
       "       [ 6.7,  3. ,  5. ,  1.7],\n",
       "       [ 4.9,  3.1,  1.5,  0.1],\n",
       "       [ 5.8,  2.8,  5.1,  2.4],\n",
       "       [ 5. ,  3.4,  1.5,  0.2],\n",
       "       [ 5. ,  3.5,  1.6,  0.6],\n",
       "       [ 5.9,  3.2,  4.8,  1.8],\n",
       "       [ 5.1,  2.5,  3. ,  1.1],\n",
       "       [ 6.9,  3.2,  5.7,  2.3],\n",
       "       [ 6. ,  2.7,  5.1,  1.6],\n",
       "       [ 6.1,  2.6,  5.6,  1.4],\n",
       "       [ 7.7,  3. ,  6.1,  2.3],\n",
       "       [ 5.5,  2.5,  4. ,  1.3],\n",
       "       [ 4.4,  2.9,  1.4,  0.2],\n",
       "       [ 4.3,  3. ,  1.1,  0.1],\n",
       "       [ 6. ,  2.2,  5. ,  1.5],\n",
       "       [ 7.2,  3.2,  6. ,  1.8],\n",
       "       [ 4.6,  3.1,  1.5,  0.2],\n",
       "       [ 5.1,  3.5,  1.4,  0.3],\n",
       "       [ 4.4,  3. ,  1.3,  0.2],\n",
       "       [ 6.3,  2.5,  4.9,  1.5],\n",
       "       [ 6.3,  3.4,  5.6,  2.4],\n",
       "       [ 4.6,  3.4,  1.4,  0.3],\n",
       "       [ 6.8,  3. ,  5.5,  2.1],\n",
       "       [ 6.3,  3.3,  6. ,  2.5],\n",
       "       [ 4.7,  3.2,  1.3,  0.2],\n",
       "       [ 6.1,  2.9,  4.7,  1.4],\n",
       "       [ 6.5,  2.8,  4.6,  1.5],\n",
       "       [ 6.2,  2.8,  4.8,  1.8],\n",
       "       [ 7. ,  3.2,  4.7,  1.4],\n",
       "       [ 6.4,  3.2,  5.3,  2.3],\n",
       "       [ 5.1,  3.8,  1.6,  0.2],\n",
       "       [ 6.9,  3.1,  5.4,  2.1],\n",
       "       [ 5.9,  3. ,  4.2,  1.5],\n",
       "       [ 6.5,  3. ,  5.2,  2. ],\n",
       "       [ 5.7,  2.6,  3.5,  1. ],\n",
       "       [ 5.2,  2.7,  3.9,  1.4],\n",
       "       [ 6.1,  3. ,  4.6,  1.4],\n",
       "       [ 4.5,  2.3,  1.3,  0.3],\n",
       "       [ 6.6,  2.9,  4.6,  1.3],\n",
       "       [ 5.5,  2.6,  4.4,  1.2],\n",
       "       [ 5.3,  3.7,  1.5,  0.2],\n",
       "       [ 5.6,  3. ,  4.1,  1.3],\n",
       "       [ 7.3,  2.9,  6.3,  1.8],\n",
       "       [ 6.7,  3.3,  5.7,  2.1],\n",
       "       [ 5.1,  3.7,  1.5,  0.4],\n",
       "       [ 4.9,  2.4,  3.3,  1. ],\n",
       "       [ 6.7,  3.3,  5.7,  2.5],\n",
       "       [ 7.2,  3. ,  5.8,  1.6],\n",
       "       [ 4.9,  3.1,  1.5,  0.1],\n",
       "       [ 6.7,  3.1,  5.6,  2.4],\n",
       "       [ 4.9,  3. ,  1.4,  0.2],\n",
       "       [ 6.9,  3.1,  4.9,  1.5],\n",
       "       [ 7.4,  2.8,  6.1,  1.9],\n",
       "       [ 6.3,  2.9,  5.6,  1.8],\n",
       "       [ 5.7,  2.8,  4.1,  1.3],\n",
       "       [ 6.5,  3. ,  5.5,  1.8],\n",
       "       [ 6.3,  2.3,  4.4,  1.3],\n",
       "       [ 6.4,  2.9,  4.3,  1.3],\n",
       "       [ 5.6,  2.8,  4.9,  2. ],\n",
       "       [ 5.9,  3. ,  5.1,  1.8],\n",
       "       [ 5.4,  3.4,  1.7,  0.2],\n",
       "       [ 6.1,  2.8,  4. ,  1.3],\n",
       "       [ 4.9,  2.5,  4.5,  1.7],\n",
       "       [ 5.8,  4. ,  1.2,  0.2],\n",
       "       [ 5.8,  2.6,  4. ,  1.2],\n",
       "       [ 7.1,  3. ,  5.9,  2.1]])"
      ]
     },
     "execution_count": 51,
     "metadata": {},
     "output_type": "execute_result"
    }
   ],
   "source": [
    "np.where()X_train"
   ]
  },
  {
   "cell_type": "code",
   "execution_count": 58,
   "metadata": {
    "ExecuteTime": {
     "end_time": "2017-12-05T16:20:18.092379",
     "start_time": "2017-12-05T16:20:18.083992"
    },
    "collapsed": false
   },
   "outputs": [
    {
     "data": {
      "text/plain": [
       "True"
      ]
     },
     "execution_count": 58,
     "metadata": {},
     "output_type": "execute_result"
    }
   ],
   "source": [
    "(X_train[0] == X_train[0]).all()"
   ]
  },
  {
   "cell_type": "code",
   "execution_count": 62,
   "metadata": {
    "ExecuteTime": {
     "end_time": "2017-12-05T16:20:58.160355",
     "start_time": "2017-12-05T16:20:58.148802"
    },
    "collapsed": false
   },
   "outputs": [
    {
     "ename": "ValueError",
     "evalue": "axis(=1) out of bounds",
     "output_type": "error",
     "traceback": [
      "\u001b[0;31m-----------------------------------------------------------------\u001b[0m",
      "\u001b[0;31mValueError\u001b[0m                      Traceback (most recent call last)",
      "\u001b[0;32m<ipython-input-62-3f3ed5d1bc31>\u001b[0m in \u001b[0;36m<module>\u001b[0;34m()\u001b[0m\n\u001b[0;32m----> 1\u001b[0;31m \u001b[0mX_train\u001b[0m\u001b[0;34m[\u001b[0m\u001b[0;36m0\u001b[0m\u001b[0;34m]\u001b[0m\u001b[0;34m.\u001b[0m\u001b[0mrepeat\u001b[0m\u001b[0;34m(\u001b[0m\u001b[0;36m3\u001b[0m\u001b[0;34m,\u001b[0m\u001b[0maxis\u001b[0m\u001b[0;34m=\u001b[0m\u001b[0;36m1\u001b[0m\u001b[0;34m)\u001b[0m\u001b[0;34m\u001b[0m\u001b[0m\n\u001b[0m",
      "\u001b[0;31mValueError\u001b[0m: axis(=1) out of bounds"
     ]
    }
   ],
   "source": [
    "X_train[0].repeat(,axis=)"
   ]
  },
  {
   "cell_type": "code",
   "execution_count": 65,
   "metadata": {
    "ExecuteTime": {
     "end_time": "2017-12-05T16:22:32.542244",
     "start_time": "2017-12-05T16:22:32.538034"
    },
    "collapsed": false
   },
   "outputs": [
    {
     "data": {
      "text/plain": [
       "True"
      ]
     },
     "execution_count": 65,
     "metadata": {},
     "output_type": "execute_result"
    }
   ],
   "source": [
    "(np.tile(X_train[0],(4,1))== X_train[0]).all()"
   ]
  },
  {
   "cell_type": "code",
   "execution_count": 68,
   "metadata": {
    "ExecuteTime": {
     "end_time": "2017-12-05T16:24:37.414214",
     "start_time": "2017-12-05T16:24:37.405910"
    },
    "collapsed": false
   },
   "outputs": [
    {
     "data": {
      "text/plain": [
       "array([[ 5.5,  2.4,  3.7,  1. ],\n",
       "       [ 5.5,  2.4,  3.7,  1. ],\n",
       "       [ 5.5,  2.4,  3.7,  1. ],\n",
       "       [ 5.5,  2.4,  3.7,  1. ]])"
      ]
     },
     "execution_count": 68,
     "metadata": {},
     "output_type": "execute_result"
    }
   ],
   "source": [
    "np.tile(X_train[0],(4,1))"
   ]
  },
  {
   "cell_type": "code",
   "execution_count": 114,
   "metadata": {
    "ExecuteTime": {
     "end_time": "2017-12-05T16:30:14.844885",
     "start_time": "2017-12-05T16:30:14.838410"
    },
    "collapsed": false
   },
   "outputs": [
    {
     "data": {
      "text/plain": [
       "(52500, 4)"
      ]
     },
     "execution_count": 114,
     "metadata": {},
     "output_type": "execute_result"
    }
   ],
   "source": [
    "np.tile(X_train,(500,1)).shape"
   ]
  },
  {
   "cell_type": "code",
   "execution_count": 112,
   "metadata": {
    "ExecuteTime": {
     "end_time": "2017-12-05T16:29:56.852384",
     "start_time": "2017-12-05T16:29:56.847222"
    },
    "collapsed": false
   },
   "outputs": [
    {
     "data": {
      "text/plain": [
       "False"
      ]
     },
     "execution_count": 112,
     "metadata": {},
     "output_type": "execute_result"
    }
   ],
   "source": [
    "(np.tile(X_train,(500,1))==X_train[0]).all()"
   ]
  },
  {
   "cell_type": "code",
   "execution_count": 120,
   "metadata": {
    "ExecuteTime": {
     "end_time": "2017-12-05T16:30:57.418293",
     "start_time": "2017-12-05T16:30:57.414039"
    },
    "collapsed": false
   },
   "outputs": [
    {
     "data": {
      "text/plain": [
       "True"
      ]
     },
     "execution_count": 120,
     "metadata": {},
     "output_type": "execute_result"
    }
   ],
   "source": [
    "(np.diff(np.tile(X_train[0],(4,1)),1,0)==0).all()"
   ]
  },
  {
   "cell_type": "code",
   "execution_count": 133,
   "metadata": {
    "ExecuteTime": {
     "end_time": "2017-12-05T16:33:04.308307",
     "start_time": "2017-12-05T16:33:04.303139"
    },
    "collapsed": false
   },
   "outputs": [
    {
     "data": {
      "text/plain": [
       "array([[False, False, False, False],\n",
       "       [False, False, False, False],\n",
       "       [False, False, False, False],\n",
       "       [False, False, False, False]], dtype=bool)"
      ]
     },
     "execution_count": 133,
     "metadata": {},
     "output_type": "execute_result"
    }
   ],
   "source": [
    "np.diff(np.tile(X_train[0],(4,1)),,0)==0"
   ]
  },
  {
   "cell_type": "code",
   "execution_count": 81,
   "metadata": {
    "ExecuteTime": {
     "end_time": "2017-12-05T16:27:44.449898",
     "start_time": "2017-12-05T16:27:44.445431"
    },
    "collapsed": false
   },
   "outputs": [
    {
     "data": {
      "text/plain": [
       "(105, 4)"
      ]
     },
     "execution_count": 81,
     "metadata": {},
     "output_type": "execute_result"
    }
   ],
   "source": [
    "X_train.shape"
   ]
  }
 ],
 "metadata": {
  "kernelspec": {
   "display_name": "Python 3",
   "language": "python",
   "name": "python3"
  },
  "language_info": {
   "codemirror_mode": {
    "name": "ipython",
    "version": 3
   },
   "file_extension": ".py",
   "mimetype": "text/x-python",
   "name": "python",
   "nbconvert_exporter": "python",
   "pygments_lexer": "ipython3",
   "version": "3.5.2"
  },
  "toc": {
   "colors": {
    "hover_highlight": "#DAA520",
    "running_highlight": "#FF0000",
    "selected_highlight": "#FFD700"
   },
   "moveMenuLeft": true,
   "nav_menu": {
    "height": "11px",
    "width": "251px"
   },
   "navigate_menu": true,
   "number_sections": true,
   "sideBar": true,
   "threshold": 4,
   "toc_cell": false,
   "toc_section_display": "block",
   "toc_window_display": false
  }
 },
 "nbformat": 4,
 "nbformat_minor": 2
}
