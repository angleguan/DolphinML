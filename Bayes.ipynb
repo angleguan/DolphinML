{
 "cells": [
  {
   "cell_type": "code",
   "execution_count": 1,
   "metadata": {
    "ExecuteTime": {
     "end_time": "2017-12-13T18:42:28.440884",
     "start_time": "2017-12-13T18:42:28.093940"
    },
    "collapsed": true
   },
   "outputs": [],
   "source": [
    "import numpy as np\n",
    "from scipy import stats\n"
   ]
  },
  {
   "cell_type": "code",
   "execution_count": 2,
   "metadata": {
    "ExecuteTime": {
     "end_time": "2017-12-13T18:42:28.633768",
     "start_time": "2017-12-13T18:42:28.442227"
    },
    "collapsed": true
   },
   "outputs": [],
   "source": [
    "from sklearn.datasets import load_iris\n",
    "iris = load_iris()\n",
    "from sklearn.model_selection import train_test_split\n",
    "X_train, X_test, y_train, y_test = train_test_split(iris.data, iris.target, test_size=0.3, random_state=42)"
   ]
  },
  {
   "cell_type": "code",
   "execution_count": 3,
   "metadata": {
    "ExecuteTime": {
     "end_time": "2017-12-13T18:42:28.701030",
     "start_time": "2017-12-13T18:42:28.638752"
    },
    "collapsed": true
   },
   "outputs": [],
   "source": [
    "class self():\n",
    "    distribution = 'normal'"
   ]
  },
  {
   "cell_type": "markdown",
   "metadata": {},
   "source": [
    "# Code"
   ]
  },
  {
   "cell_type": "code",
   "execution_count": 4,
   "metadata": {
    "ExecuteTime": {
     "end_time": "2017-12-13T18:42:28.913466",
     "start_time": "2017-12-13T18:42:28.705022"
    },
    "code_folding": [
     68,
     74
    ],
    "collapsed": true
   },
   "outputs": [],
   "source": [
    "class NaiveBayes():\n",
    "    def __init__(self,**kwargs):\n",
    "        '''\n",
    "        本版代码仅仅实现了朴素贝叶斯中分类任务的代码，\n",
    "        如有兴趣拓展，请参考：https://www.cs.waikato.ac.nz/~eibe/pubs/nbr.pdf\n",
    "        '''\n",
    "        self.distribution = kwargs.get('distribution','normal')\n",
    "        \n",
    "        \n",
    "    def train(self,X_train,y_train,features_type):    \n",
    "        self.f_type_arg_c = np.argwhere(features_type=='continuous').flatten()# 选出连续型特征列坐标\n",
    "        self.f_type_arg_d = f_type_arg_d = np.argwhere(features_type=='Discrete').flatten()# 选出离散型特征列坐标\n",
    "        ordered_ytrain_arg = np.argsort(y_train) #对y_train排序\n",
    "        ordered_ytrain = y_train[ordered_ytrain_arg] # 排序后的y_train \n",
    "        \n",
    "        self.y_unique, y_split_index, self.y_split_cnt = \\\n",
    "        np.unique(ordered_ytrain,return_index=True,return_counts=True)\n",
    "        self.y_split_index = np.delete(y_split_index,0) #y值各类分割点\n",
    "        self.cls_cnt = self.y_unique.shape[0]\n",
    "        #统计排序后的ytrain y值，分割点，y值各类的数量\n",
    "\n",
    "\n",
    "        #============================================\n",
    "        self.y_prob = (self.y_split_cnt+1)/(ordered_ytrain.shape[0]+self.y_unique.shape[0])\n",
    "        #求y中各类出现的概率\n",
    "        #分子加1，分母加了类别数，是拉普拉斯修正平滑，\n",
    "        #============================================\n",
    "\n",
    "        ### continuous连续型变量处理\n",
    "        X_train_con = X_train[:,self.f_type_arg_c]\n",
    "        if X_train_con.shape[1]!=0:\n",
    "            func_split_mean = lambda X: np.array([np.mean(arr) for arr in np.split(X,self.y_split_index)])\n",
    "            split_mean = np.apply_along_axis(func_split_mean,0,X_train_con[ordered_ytrain_arg])\n",
    "            #按y值，特征分割，求均值\n",
    "            func_split_std = lambda X: np.array([np.std(arr) for arr in np.split(X,self.y_split_index)])\n",
    "            split_std = np.apply_along_axis(func_split_std,0,X_train_con[ordered_ytrain_arg])\n",
    "            #按y值，特征分割，求标准差\n",
    "            def getprob_bydistribution(mean,std):\n",
    "                if self.distribution == 'normal':\n",
    "                    func_smooth = np.vectorize(lambda x:x or 1e-4)\n",
    "                    std = func_smooth(std)#标准差不可为0，会导致正态分布无意义\n",
    "                    return stats.norm(loc=mean,scale=std)\n",
    "    \n",
    "    \n",
    "            self.Norm_array = getprob_bydistribution(split_mean,split_std)\n",
    "            ## 计算正态分布矩阵\n",
    "\n",
    "\n",
    "        ## Discrete 离散型=============================\n",
    "        X_train_dis = X_train[:,self.f_type_arg_d]\n",
    "        # 分离离散型数据为X_train_dis\n",
    "        if X_train_dis.shape[1]!=0:\n",
    "            all_data = [self.func_split_cnt(item,i) for i,item in enumerate(X_train_dis.T)]\n",
    "            data = [d for d,col in all_data]\n",
    "            self.dis_prob = np.log(np.concatenate(data,axis=1))\n",
    "            #计算每个的每个值在每个y类下出现的概率。\n",
    "\n",
    "            self.cols_dict = {}\n",
    "            col_list = [col for d,col in all_data]\n",
    "            list(map(lambda x:self.cols_dict.update(x),col_list))\n",
    "            #生成每个特征的每个值在离散概率矩阵（self.dis_prob）中对应的偏移量\n",
    "            shape_list = np.apply_along_axis(lambda x:np.unique(x).shape[0],0,X_train_dis)\n",
    "            shape_list = np.insert(shape_list,0,0)\n",
    "            shape_list = np.delete(shape_list,-1)\n",
    "            self.base_num = np.cumsum(shape_list)\n",
    "            # 计算各个特征在离散概率矩阵（self.dis_prob）开始的位置\n",
    "            #特征在离散矩阵中feature位置+ 值的偏移量 == 具体特征值在离散概率矩阵中的位置。\n",
    "\n",
    "    def func_split_cnt(self,X,col_num):\n",
    "        '''\n",
    "        此函数作用于离散变量\n",
    "        '''\n",
    "        uni_key = np.unique(X)\n",
    "        uni_val =np.zeros_like(uni_key)\n",
    "        def func_update_cnt(arr):\n",
    "            '''\n",
    "            生成每列的每个值在没个Y值下的数量\n",
    "            '''\n",
    "            uni_inner,uni_count = np.unique(arr,return_counts=True)\n",
    "            uni_val_copy = uni_val.copy()\n",
    "            uni_val_copy[np.in1d(uni_key,uni_inner)] = uni_count\n",
    "            return uni_val_copy\n",
    "        t = np.array([func_update_cnt(arr) for arr in np.split(X,self.y_split_index)])\n",
    "        t = (t+1)/(self.y_split_cnt.reshape((self.cls_cnt,1))+uni_key.shape[0])#拉普拉斯平滑\n",
    "        \n",
    "        col_name = {(col_num,num):i for i,num in enumerate(uni_key)}#生成特征值偏移量\n",
    "        \n",
    "        return t,col_name\n",
    "\n",
    "    def predict(self,X_test):\n",
    "        base = np.zeros((X_test.shape[0],self.cls_cnt))\n",
    "        X_test_con = X_test[:,self.f_type_arg_c]\n",
    "        if X_test_con.shape[1]!=0:#分离连续离散变量\n",
    "            vfunc = np.vectorize(lambda x:np.log(x or 1e-5))\n",
    "            #对概率密度取Log（要求其不能为0，因为过小的概率密度会超过浮点数的精度而变为0）\n",
    "            def func(x):\n",
    "                prob_dense = self.Norm_array.pdf(x)\n",
    "                prob_dense = vfunc(prob_dense)\n",
    "                return prob_dense.sum(axis=1)\n",
    "            prob_con = np.apply_along_axis(func,1,X_test_con)\n",
    "            base += prob_con #添加连续变量概率密度和(log后)\n",
    "\n",
    "\n",
    "        def dis_prob_func(X):\n",
    "            '''\n",
    "            计算每列的值在每个Y值下在离散型变量的概率和（已log后的）\n",
    "            '''\n",
    "            feature_offset = np.array([self.cols_dict.get((i,x),np.nan) for i,x in enumerate(X)])\n",
    "            offset_notnan = ~np.isnan(feature_offset)\n",
    "            fea_index = self.base_num[offset_notnan]+(feature_offset[offset_notnan]).astype(np.int)\n",
    "            return (self.dis_prob[:,fea_index]).sum(axis=1)\n",
    "\n",
    "        X_test_dis = X_test[:,self.f_type_arg_d]\n",
    "        if X_test_dis.shape[1]!=0:\n",
    "            self.cls_prob_dis = np.apply_along_axis(dis_prob_func,1,X_test_dis)\n",
    "            base += self.cls_prob_dis# 加离散变量概率和（log后）\n",
    "        self.prob = base*self.y_prob# 对联合概率乘积后× y类值出现概率\n",
    "        return self.y_unique[self.prob.argmax(axis=1)]\n"
   ]
  },
  {
   "cell_type": "code",
   "execution_count": 5,
   "metadata": {
    "ExecuteTime": {
     "end_time": "2017-12-13T18:42:29.918681",
     "start_time": "2017-12-13T18:42:28.915173"
    },
    "collapsed": false
   },
   "outputs": [],
   "source": [
    "if __name__ == '__main__':\n",
    "    import pandas as pd\n",
    "    import matplotlib.pyplot as plt\n",
    "    import seaborn as sns\n",
    "    %matplotlib inline\n",
    "    from sklearn.datasets import load_digits\n",
    "    digits = load_digits()\n",
    "    from sklearn.model_selection import train_test_split\n",
    "    X_train, X_test, y_train, y_test = train_test_split(digits.data, digits.target, test_size=0.3, random_state=42)\n",
    "\n",
    "    #['Discrete','continuous']\n",
    "    features_type2 = ['Discrete']*64\n",
    "    features_type2[5:30] = ['continuous']*25\n",
    "    features_type2 = np.array(features_type2)\n",
    "\n",
    "    NB = NaiveBayes()\n",
    "\n",
    "    NB.train(X_train,y_train,features_type2)\n",
    "\n",
    "    t = NB.predict(X_test)"
   ]
  },
  {
   "cell_type": "code",
   "execution_count": 6,
   "metadata": {
    "ExecuteTime": {
     "end_time": "2017-12-13T18:42:29.939793",
     "start_time": "2017-12-13T18:42:29.920349"
    },
    "collapsed": true
   },
   "outputs": [],
   "source": [
    "if __name__ == '__main__':\n",
    "    import pandas as pd\n",
    "    import matplotlib.pyplot as plt\n",
    "    import seaborn as sns\n",
    "    %matplotlib inline\n",
    "    from sklearn.datasets import load_iris\n",
    "    iris = load_iris()\n",
    "    from sklearn.model_selection import train_test_split\n",
    "    X_train, X_test, y_train, y_test = train_test_split(iris.data, iris.target, test_size=0.3, random_state=42)\n",
    "\n",
    "    #['Discrete','continuous']\n",
    "    features_type1 = np.array(['continuous','continuous','continuous','continuous'])\n",
    "    NB = NaiveBayes()\n",
    "    NB.train(X_train,y_train,features_type1)\n",
    "    t = NB.predict(X_test)"
   ]
  },
  {
   "cell_type": "markdown",
   "metadata": {},
   "source": [
    "## 概率密度函数图"
   ]
  },
  {
   "cell_type": "code",
   "execution_count": 7,
   "metadata": {
    "ExecuteTime": {
     "end_time": "2017-12-13T18:42:30.298090",
     "start_time": "2017-12-13T18:42:29.943215"
    },
    "collapsed": false
   },
   "outputs": [
    {
     "data": {
      "image/png": "[encoded data removed]",
      "text/plain": [
       "<matplotlib.figure.Figure at 0x7f1355ac5a20>"
      ]
     },
     "metadata": {},
     "output_type": "display_data"
    }
   ],
   "source": [
    "if __name__ == '__main__':\n",
    "    \n",
    "    Norm = stats.norm(0,0.0001)\n",
    "    a = np.arange(-2,2,0.05)\n",
    "    b = Norm.pdf(a)\n",
    "\n",
    "    plt.plot(a,b)"
   ]
  },
  {
   "cell_type": "code",
   "execution_count": null,
   "metadata": {
    "collapsed": true
   },
   "outputs": [],
   "source": []
  }
 ],
 "metadata": {
  "kernelspec": {
   "display_name": "Python 3",
   "language": "python",
   "name": "python3"
  },
  "language_info": {
   "codemirror_mode": {
    "name": "ipython",
    "version": 3
   },
   "file_extension": ".py",
   "mimetype": "text/x-python",
   "name": "python",
   "nbconvert_exporter": "python",
   "pygments_lexer": "ipython3",
   "version": "3.5.2"
  },
  "toc": {
   "colors": {
    "hover_highlight": "#DAA520",
    "running_highlight": "#FF0000",
    "selected_highlight": "#FFD700"
   },
   "moveMenuLeft": true,
   "nav_menu": {
    "height": "11px",
    "width": "251px"
   },
   "navigate_menu": true,
   "number_sections": true,
   "sideBar": true,
   "threshold": 4,
   "toc_cell": false,
   "toc_section_display": "block",
   "toc_window_display": false
  }
 },
 "nbformat": 4,
 "nbformat_minor": 2
}
