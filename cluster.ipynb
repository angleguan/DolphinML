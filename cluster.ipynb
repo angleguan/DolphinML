{
 "cells": [
  {
   "cell_type": "markdown",
   "metadata": {
    "toc": "true"
   },
   "source": [
    "# Table of Contents\n",
    " <p><div class=\"lev2 toc-item\"><a href=\"#过程逻辑\" data-toc-modified-id=\"过程逻辑-01\"><span class=\"toc-item-num\">0.1&nbsp;&nbsp;</span>过程逻辑</a></div>"
   ]
  },
  {
   "cell_type": "code",
   "execution_count": 153,
   "metadata": {
    "ExecuteTime": {
     "end_time": "2018-02-24T15:13:16.468639",
     "start_time": "2018-02-24T15:13:16.463282"
    },
    "collapsed": false
   },
   "outputs": [],
   "source": [
    "import numpy as np\n",
    "import pandas as pd\n",
    "import matplotlib.pyplot as plt\n",
    "import seaborn as sns\n",
    "%matplotlib inline\n",
    "import numpy_indexed as npi\n",
    "from sklearn.datasets.samples_generator import make_blobs\n",
    "\n",
    "from itertools import combinations,permutations"
   ]
  },
  {
   "cell_type": "code",
   "execution_count": 154,
   "metadata": {
    "ExecuteTime": {
     "end_time": "2018-02-24T15:13:17.470635",
     "start_time": "2018-02-24T15:13:17.454493"
    },
    "collapsed": false
   },
   "outputs": [],
   "source": [
    "def vdm(cols,clu):\n",
    "    m_u = np.unique(cols,return_counts=True)\n",
    "    vdm_value = np.zeros(len(list(combinations(m_u[0],2))))\n",
    "    for k in np.unique(clu):\n",
    "        m_ui = np.unique(cols[np.where(clu == k)],return_counts=True)\n",
    "        m_ui0,m_ui1 = m_ui\n",
    "        array_diff = np.setdiff1d(m_u[0],m_ui[0])\n",
    "        print(array_diff)\n",
    "        m_ui1 = np.append(m_ui1,[0]*len(array_diff))\n",
    "        m_ui0 =  np.append(m_ui0,array_diff)\n",
    "        print(m_ui0,m_ui1,)\n",
    "        s_mui = sorted(zip(m_ui0,m_ui1),key=lambda x:x[0])\n",
    "        s_mui1 = np.array([y for x,y in s_mui])\n",
    "        clu_rate = zip(m_u[0],s_mui1/m_u[1])    \n",
    "        clu_sq = [np.square(c[0][1]-c[1][1]) for c in combinations(clu_rate,2)]\n",
    "        print(clu_sq)\n",
    "        vdm_value += np.array(clu_sq)\n",
    "        print(vdm_value)\n",
    "    ret = dict(zip(combinations(m_u[0],2),vdm_value))\n",
    "    return ret\n"
   ]
  },
  {
   "cell_type": "code",
   "execution_count": 155,
   "metadata": {
    "ExecuteTime": {
     "end_time": "2018-02-24T15:13:21.909846",
     "start_time": "2018-02-24T15:13:21.834036"
    },
    "collapsed": true
   },
   "outputs": [],
   "source": [
    "class Kmean:\n",
    "    def __init__(self,k,iter_num):\n",
    "        self.k = k\n",
    "        self.iter_num = iter_num\n",
    "    def get_init_vector(self,X):\n",
    "        distance,max_cores = 0,''\n",
    "        for i in combinations(X,self.k):\n",
    "            npt = np.array(list(combinations(i,2)))\n",
    "            ret = np.sqrt(np.square(npt[:,0] - npt[:,1]).sum(axis=1)).sum()\n",
    "            if ret > distance:\n",
    "                distance,max_cores = ret,i\n",
    "        return np.array(max_cores)\n",
    "\n",
    "    def train(self,X):\n",
    "        init_vetor = avg_vector = self.get_init_vector(X)\n",
    "        get_nearcore = lambda x:np.argmin(np.square(avg_vector - x).sum(axis=1))\n",
    "        cnt = 0\n",
    "        while True:\n",
    "            last_avg = avg_vector\n",
    "            cnt += 1\n",
    "            new_cluster = np.apply_along_axis(get_nearcore,axis=1,arr=X)\n",
    "            clu_tag, avg_vector = npi.group_by(new_cluster).mean(data)\n",
    "            if (np.square(avg_vector - last_avg).sum()< 0.01) or  (cnt >=self.iter_num):\n",
    "                break\n",
    "        return new_cluster"
   ]
  },
  {
   "cell_type": "code",
   "execution_count": 197,
   "metadata": {
    "ExecuteTime": {
     "end_time": "2018-02-24T15:15:24.807685",
     "start_time": "2018-02-24T15:15:22.863621"
    },
    "collapsed": false,
    "scrolled": false
   },
   "outputs": [
    {
     "data": {
      "image/png": "[encoded data removed]",
      "text/plain": [
       "<matplotlib.figure.Figure at 0x7f716356d630>"
      ]
     },
     "metadata": {},
     "output_type": "display_data"
    }
   ],
   "source": [
    "if __name__ == '__main__':\n",
    "    data,clu = make_blobs(n_samples=100,n_features=2,centers=3)\n",
    "    K = Kmean(3,10)\n",
    "    cluster = K.train(data)\n",
    "    plt.figure(figsize=(16,9))\n",
    "    for x,y in zip(range(3),'gbr'):\n",
    "        plt.plot(data[cluster==x][:,0],data[cluster==x][:,1],y+'.')\n",
    "    "
   ]
  },
  {
   "cell_type": "code",
   "execution_count": 157,
   "metadata": {
    "ExecuteTime": {
     "end_time": "2018-02-24T15:13:26.058084",
     "start_time": "2018-02-24T15:13:26.039269"
    },
    "collapsed": false
   },
   "outputs": [],
   "source": [
    "class DBSCAN:\n",
    "    def __init__(self,e,MinPts):\n",
    "        self.e = e\n",
    "        self.MinPts = MinPts\n",
    "    def train(self,X):\n",
    "        m = X.shape[0]\n",
    "        D_mat = np.zeros((m,m))\n",
    "        for x,y in combinations(range(m),2):\n",
    "            D_mat[x,y] = D_mat[y,x] = np.sqrt(np.square(X[x] - X[y]).sum())\n",
    "        neibors = np.argwhere(np.logical_and(D_mat<self.e,D_mat!=0))\n",
    "        nei_index,nei_cnt = np.unique(neibors[:,0],return_counts=True)\n",
    "        core_obj = nei_index[nei_cnt>=self.MinPts]\n",
    "\n",
    "        cluster= np.zeros(m)\n",
    "        cluster_num = 1\n",
    "        while core_obj.shape[0]>0:\n",
    "            unread_set = np.argwhere(cluster==0)\n",
    "            #print(core_obj)\n",
    "            Q = np.random.choice(core_obj,1)\n",
    "            neibor = np.argwhere(np.logical_and(D_mat[Q]<e,D_mat[Q]!=0))[:,1]\n",
    "            unread_neibor = np.intersect1d(neibor,unread_set)\n",
    "            while unread_neibor.shape[0]>0:\n",
    "                cluster[unread_neibor] = cluster_num\n",
    "                unread_set = np.argwhere(cluster==0)\n",
    "                neibor = np.argwhere(np.logical_and(D_mat[unread_neibor]<self.e,D_mat[unread_neibor]!=0))[:,1]\n",
    "                unread_neibor = np.intersect1d(neibor,unread_set)\n",
    "            core_obj = np.intersect1d(core_obj,unread_set)\n",
    "            cluster_num += 1\n",
    "        return cluster\n"
   ]
  },
  {
   "cell_type": "code",
   "execution_count": 196,
   "metadata": {
    "ExecuteTime": {
     "end_time": "2018-02-24T15:15:10.396729",
     "start_time": "2018-02-24T15:15:10.185582"
    },
    "collapsed": false
   },
   "outputs": [
    {
     "data": {
      "image/png": "[encoded data removed]",
      "text/plain": [
       "<matplotlib.figure.Figure at 0x7f7165adeb38>"
      ]
     },
     "metadata": {},
     "output_type": "display_data"
    }
   ],
   "source": [
    "if __name__ == '__main__':\n",
    "    m = 100\n",
    "    n = 2\n",
    "    k = 3\n",
    "    D_mat = np.zeros((m,m))\n",
    "    data,clu = make_blobs(n_samples=m,n_features=n,centers=3,cluster_std=0.5)\n",
    "\n",
    "    DB = DBSCAN(1,6)\n",
    "    clus = DB.train(data)\n",
    "    plt.figure(figsize=(16,9))\n",
    "    for x,y in zip(range(7),'bgrcmyk'):\n",
    "        plt.plot(data[clus==x][:,0],data[clus==x][:,1],y+'*')"
   ]
  },
  {
   "cell_type": "code",
   "execution_count": null,
   "metadata": {
    "collapsed": true
   },
   "outputs": [],
   "source": []
  }
 ],
 "metadata": {
  "kernelspec": {
   "display_name": "Python 3",
   "language": "python",
   "name": "python3"
  },
  "language_info": {
   "codemirror_mode": {
    "name": "ipython",
    "version": 3
   },
   "file_extension": ".py",
   "mimetype": "text/x-python",
   "name": "python",
   "nbconvert_exporter": "python",
   "pygments_lexer": "ipython3",
   "version": "3.5.2"
  },
  "toc": {
   "colors": {
    "hover_highlight": "#DAA520",
    "running_highlight": "#FF0000",
    "selected_highlight": "#FFD700"
   },
   "moveMenuLeft": true,
   "nav_menu": {
    "height": "0px",
    "width": "0px"
   },
   "navigate_menu": true,
   "number_sections": true,
   "sideBar": true,
   "threshold": 4,
   "toc_cell": true,
   "toc_section_display": "block",
   "toc_window_display": true
  }
 },
 "nbformat": 4,
 "nbformat_minor": 2
}
